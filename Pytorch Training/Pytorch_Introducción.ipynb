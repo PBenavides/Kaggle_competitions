{
  "nbformat": 4,
  "nbformat_minor": 0,
  "metadata": {
    "colab": {
      "name": "Pytorch - Introducción.ipynb",
      "provenance": []
    },
    "kernelspec": {
      "name": "python3",
      "display_name": "Python 3"
    }
  },
  "cells": [
    {
      "cell_type": "markdown",
      "metadata": {
        "id": "K1nUqTh6DdFN"
      },
      "source": [
        "## Pytorch"
      ]
    },
    {
      "cell_type": "code",
      "metadata": {
        "id": "Ed8okps1Coo1"
      },
      "source": [
        "import torch"
      ],
      "execution_count": 1,
      "outputs": []
    },
    {
      "cell_type": "code",
      "metadata": {
        "id": "CFRFFGTYDeho"
      },
      "source": [
        "#Crear un tensor con 5 número aleatorios.\r\n",
        "x = torch.empty(5)\r\n",
        "print(x)"
      ],
      "execution_count": 3,
      "outputs": []
    },
    {
      "cell_type": "code",
      "metadata": {
        "colab": {
          "base_uri": "https://localhost:8080/"
        },
        "id": "Nb_LqGIRD5Kn",
        "outputId": "29969b7c-ad9b-4098-e0f0-5a8b1e1ff475"
      },
      "source": [
        "#Crear un tensor que contenga dos números fijos como elemntos\r\n",
        "x = torch.tensor([1,2])\r\n",
        "print(x)\r\n",
        "#Crear un tensor de dimensiones (1,2) lleno de ceros e instanciarlos\r\n",
        "x = torch.zeros((1,2))\r\n",
        "print(x)\r\n",
        "#Crear un tensor lleno de unos\r\n",
        "x = torch.ones([1,2])\r\n",
        "print(x)"
      ],
      "execution_count": 10,
      "outputs": [
        {
          "output_type": "stream",
          "text": [
            "tensor([1, 2])\n",
            "tensor([[0., 0.]])\n",
            "tensor([[1., 1.]])\n"
          ],
          "name": "stdout"
        }
      ]
    },
    {
      "cell_type": "code",
      "metadata": {
        "colab": {
          "base_uri": "https://localhost:8080/"
        },
        "id": "V1cvEDqJEQXj",
        "outputId": "c27fc35d-96b8-4847-cde9-9d5704b75154"
      },
      "source": [
        " #Crear tensores que estén dentro de un rango específico\r\n",
        " x = torch.arange(start=1, end=8)\r\n",
        " print(x)\r\n",
        " #Recuerdas para qué sirve el linspace de NumPy? Acá también puedes hacer algo parecido:\r\n",
        " x = torch.linspace(start=3, end=10, steps=5)\r\n",
        " print(x)\r\n",
        " #Podemos también generar un tensor con números randoms.\r\n",
        " x = torch.rand(5)\r\n",
        " print(x)\r\n",
        " #Halla un valor minimo y un valor máximo del tensor random q generaste, luego imprimelo.\r\n",
        " minimun_val = x.min()\r\n",
        " maximun_val = x.max()\r\n",
        " print(minimun_val, '-', maximun_val)"
      ],
      "execution_count": 28,
      "outputs": [
        {
          "output_type": "stream",
          "text": [
            "tensor([1, 2, 3, 4, 5, 6, 7])\n",
            "tensor([ 3.0000,  4.7500,  6.5000,  8.2500, 10.0000])\n",
            "tensor([0.2118, 0.5636, 0.6556, 0.3974, 0.4729])\n",
            "tensor(0.2118) - tensor(0.6556)\n"
          ],
          "name": "stdout"
        }
      ]
    },
    {
      "cell_type": "code",
      "metadata": {
        "colab": {
          "base_uri": "https://localhost:8080/"
        },
        "id": "aLCkBbipFP3P",
        "outputId": "8e25fbad-ef31-4e91-f0b9-96a9ff20d5e3"
      },
      "source": [
        "#Definamos un tensor:\r\n",
        "\r\n",
        "tensor_inicial = torch.tensor(\r\n",
        "[\r\n",
        "    [\r\n",
        "        [ 1,  2,  3,  4],\r\n",
        "        [ 5,  6,  7,  8],\r\n",
        "        [ 0,  1,  2,  3]\r\n",
        "    ]\r\n",
        "    ,\r\n",
        "    [\r\n",
        "        [ 9, 10, 11, 12],\r\n",
        "        [13, 14, 15, 16],\r\n",
        "        [ 0,  1,  2,  3]\r\n",
        "    ]\r\n",
        "    ,\r\n",
        "    [\r\n",
        "        [17, 18, 19, 20],\r\n",
        "        [21, 22, 23, 24],\r\n",
        "        [ 0,  1,  2,  3]\r\n",
        "    ]\r\n",
        "])\r\n",
        "print(tensor_inicial.shape)\r\n",
        "\r\n",
        "#Linearizamos un tensor (Flatten)\r\n",
        "flatten_tensor = tensor_inicial.flatten()\r\n",
        "print(flatten_tensor)"
      ],
      "execution_count": 36,
      "outputs": [
        {
          "output_type": "stream",
          "text": [
            "torch.Size([3, 3, 4])\n",
            "tensor([ 1,  2,  3,  4,  5,  6,  7,  8,  0,  1,  2,  3,  9, 10, 11, 12, 13, 14,\n",
            "        15, 16,  0,  1,  2,  3, 17, 18, 19, 20, 21, 22, 23, 24,  0,  1,  2,  3])\n"
          ],
          "name": "stdout"
        }
      ]
    },
    {
      "cell_type": "code",
      "metadata": {
        "colab": {
          "base_uri": "https://localhost:8080/"
        },
        "id": "0CziCC_sFQDQ",
        "outputId": "962a1aed-4c97-4d63-f3d0-70ffb0b57509"
      },
      "source": [
        "#Convertir un tensor de pytorch a una lista.\r\n",
        "listed_tensor = flatten_tensor.tolist()\r\n",
        "print(listed_tensor)\r\n",
        "listed_inicial = tensor_inicial.tolist()\r\n",
        "print(listed_inicial)\r\n",
        "\r\n",
        "#Nota que cuando conviertes un tensor a lista, conserva sus dimensiones..."
      ],
      "execution_count": 44,
      "outputs": [
        {
          "output_type": "stream",
          "text": [
            "[1, 2, 3, 4, 5, 6, 7, 8, 0, 1, 2, 3, 9, 10, 11, 12, 13, 14, 15, 16, 0, 1, 2, 3, 17, 18, 19, 20, 21, 22, 23, 24, 0, 1, 2, 3]\n",
            "[[[1, 2, 3, 4], [5, 6, 7, 8], [0, 1, 2, 3]], [[9, 10, 11, 12], [13, 14, 15, 16], [0, 1, 2, 3]], [[17, 18, 19, 20], [21, 22, 23, 24], [0, 1, 2, 3]]]\n"
          ],
          "name": "stdout"
        }
      ]
    },
    {
      "cell_type": "markdown",
      "metadata": {
        "id": "FbeOxcV-FQdt"
      },
      "source": [
        "#### Conceptos de Álgebra Lineal"
      ]
    },
    {
      "cell_type": "code",
      "metadata": {
        "colab": {
          "base_uri": "https://localhost:8080/"
        },
        "id": "aJrMWVziJNmN",
        "outputId": "9dcfeacf-d363-4fac-c818-64c2ebadf75c"
      },
      "source": [
        "#Producto punto:\r\n",
        "A = torch.rand((5))\r\n",
        "B = torch.rand((5))\r\n",
        "dot_prod = A.dot(B)\r\n",
        "\r\n",
        "print('A: {}\\nB: {}'.format(A,B))\r\n",
        "print('Dot_prod = {}'.format(dot_prod))"
      ],
      "execution_count": 72,
      "outputs": [
        {
          "output_type": "stream",
          "text": [
            "A: tensor([0.7248, 0.1409, 0.2473, 0.8620, 0.0554])\n",
            "B: tensor([0.0049, 0.4011, 0.4323, 0.3652, 0.6769])\n",
            "Dot_prod = 0.5192683339118958\n"
          ],
          "name": "stdout"
        }
      ]
    },
    {
      "cell_type": "code",
      "metadata": {
        "colab": {
          "base_uri": "https://localhost:8080/"
        },
        "id": "33f2l4UZKv4y",
        "outputId": "d37bfc4d-ac0f-4b6b-a593-0a5f08102dc5"
      },
      "source": [
        "#Matrices transpuestas:\r\n",
        "A_t = torch.transpose(A,0,-1)\r\n",
        "B_t = torch.transpose(B,0,-1) #Qué son los números de dim???¿?¿?¿?\r\n",
        "\r\n",
        "print(A_t)\r\n",
        "print(B_t)\r\n",
        "\r\n",
        "#Probando las propiedades.\r\n",
        "#Primera propiedad\r\n",
        "statement = ((A_t + B_t) == torch.transpose((A+B), 0, -1))\r\n",
        "print(statement)\r\n",
        "\r\n",
        "#Segunda propiedad\r\n",
        "statement = (torch.transpose(A.matmul(B), 0, -1) == B_t.matmul(A_t))\r\n",
        "print(statement)"
      ],
      "execution_count": 76,
      "outputs": [
        {
          "output_type": "stream",
          "text": [
            "tensor([0.7248, 0.1409, 0.2473, 0.8620, 0.0554])\n",
            "tensor([0.0049, 0.4011, 0.4323, 0.3652, 0.6769])\n",
            "tensor([True, True, True, True, True])\n",
            "tensor(True)\n"
          ],
          "name": "stdout"
        }
      ]
    },
    {
      "cell_type": "code",
      "metadata": {
        "colab": {
          "base_uri": "https://localhost:8080/"
        },
        "id": "3opEBxghVZhg",
        "outputId": "0a3963a5-2974-49bd-a8e4-8dddd4a3a949"
      },
      "source": [
        "#Multiplicación de matrices: Con matmul.\r\n",
        "A = torch.rand((5,3))\r\n",
        "B = torch.rand((3,5))\r\n",
        "print(A)\r\n",
        "print(B)\r\n",
        "print(A.matmul(B))"
      ],
      "execution_count": 79,
      "outputs": [
        {
          "output_type": "stream",
          "text": [
            "tensor([[0.1771, 0.6540, 0.9685],\n",
            "        [0.8732, 0.0234, 0.7938],\n",
            "        [0.0748, 0.7253, 0.8545],\n",
            "        [0.6817, 0.6882, 0.4415],\n",
            "        [0.5413, 0.1271, 0.9871]])\n",
            "tensor([[0.6639, 0.4134, 0.3997, 0.1845, 0.6665],\n",
            "        [0.1498, 0.1731, 0.6270, 0.2140, 0.1177],\n",
            "        [0.6100, 0.6630, 0.9984, 0.3312, 0.6996]])\n",
            "tensor([[0.8064, 0.8286, 1.4478, 0.4934, 0.8726],\n",
            "        [1.0674, 0.8913, 1.1563, 0.4290, 1.1400],\n",
            "        [0.6796, 0.7231, 1.3378, 0.4520, 0.7330],\n",
            "        [0.8251, 0.6937, 1.1448, 0.4192, 0.8442],\n",
            "        [0.9805, 0.9002, 1.2816, 0.4540, 1.0663]])\n"
          ],
          "name": "stdout"
        }
      ]
    },
    {
      "cell_type": "markdown",
      "metadata": {
        "id": "4RbVcWlLW6fl"
      },
      "source": [
        "#### DETERMINANTES:"
      ]
    },
    {
      "cell_type": "code",
      "metadata": {
        "colab": {
          "base_uri": "https://localhost:8080/"
        },
        "id": "XAvlLFrnW2O8",
        "outputId": "fc21fb4e-892f-4450-f77f-6a8633efb06d"
      },
      "source": [
        "#Determinante\r\n",
        "tensor = torch.rand((2,2))\r\n",
        "print(tensor)\r\n",
        "print(\"Det: {}\".format(tensor.det()))\r\n",
        "#traza\r\n",
        "print(\"Traza: {}\".format(torch.trace(tensor)))"
      ],
      "execution_count": 83,
      "outputs": [
        {
          "output_type": "stream",
          "text": [
            "tensor([[0.9018, 0.3569],\n",
            "        [0.5239, 0.7900]])\n",
            "Det: 0.5254444479942322\n",
            "Traza: 1.6917914152145386\n"
          ],
          "name": "stdout"
        }
      ]
    },
    {
      "cell_type": "code",
      "metadata": {
        "id": "5EJ9u5LAW8tl"
      },
      "source": [
        ""
      ],
      "execution_count": null,
      "outputs": []
    }
  ]
}