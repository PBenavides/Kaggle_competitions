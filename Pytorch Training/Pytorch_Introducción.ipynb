{
  "nbformat": 4,
  "nbformat_minor": 0,
  "metadata": {
    "colab": {
      "name": "Pytorch - Introducción.ipynb",
      "provenance": []
    },
    "kernelspec": {
      "name": "python3",
      "display_name": "Python 3"
    }
  },
  "cells": [
    {
      "cell_type": "markdown",
      "metadata": {
        "id": "K1nUqTh6DdFN"
      },
      "source": [
        "## Pytorch"
      ]
    },
    {
      "cell_type": "code",
      "metadata": {
        "id": "Ed8okps1Coo1"
      },
      "source": [
        "import torch"
      ],
      "execution_count": 1,
      "outputs": []
    },
    {
      "cell_type": "code",
      "metadata": {
        "id": "CFRFFGTYDeho",
        "colab": {
          "base_uri": "https://localhost:8080/"
        },
        "outputId": "791c2192-aff0-4a08-9467-dcb083bd3c3a"
      },
      "source": [
        "#Crear un tensor con 5 número aleatorios.\r\n",
        "x = torch.empty(5)\r\n",
        "print(x)"
      ],
      "execution_count": 2,
      "outputs": [
        {
          "output_type": "stream",
          "text": [
            "tensor([9.3052e+07, 3.0908e-41, 3.3631e-44, 0.0000e+00,        nan])\n"
          ],
          "name": "stdout"
        }
      ]
    },
    {
      "cell_type": "code",
      "metadata": {
        "colab": {
          "base_uri": "https://localhost:8080/"
        },
        "id": "Nb_LqGIRD5Kn",
        "outputId": "4f2f7d58-34fc-4a72-9518-0a203468e7db"
      },
      "source": [
        "#Crear un tensor que contenga dos números fijos como elemntos\r\n",
        "x = torch.tensor([1,2])\r\n",
        "print(x)\r\n",
        "#Crear un tensor de dimensiones (1,2) lleno de ceros e instanciarlos\r\n",
        "x = torch.zeros((1,2))\r\n",
        "print(x)\r\n",
        "#Crear un tensor lleno de unos\r\n",
        "x = torch.ones([1,2])\r\n",
        "print(x)"
      ],
      "execution_count": 3,
      "outputs": [
        {
          "output_type": "stream",
          "text": [
            "tensor([1, 2])\n",
            "tensor([[0., 0.]])\n",
            "tensor([[1., 1.]])\n"
          ],
          "name": "stdout"
        }
      ]
    },
    {
      "cell_type": "code",
      "metadata": {
        "colab": {
          "base_uri": "https://localhost:8080/"
        },
        "id": "V1cvEDqJEQXj",
        "outputId": "4a3dddbc-7c35-4a49-89a9-71c4f3aeba95"
      },
      "source": [
        " #Crear tensores que estén dentro de un rango específico\r\n",
        " x = torch.arange(start=1, end=8)\r\n",
        " print(x)\r\n",
        " #Recuerdas para qué sirve el linspace de NumPy? Acá también puedes hacer algo parecido:\r\n",
        " x = torch.linspace(start=3, end=10, steps=5)\r\n",
        " print(x)\r\n",
        " #Podemos también generar un tensor con números randoms.\r\n",
        " x = torch.rand(5)\r\n",
        " print(x)\r\n",
        " #Halla un valor minimo y un valor máximo del tensor random q generaste, luego imprimelo.\r\n",
        " minimun_val = x.min()\r\n",
        " maximun_val = x.max()\r\n",
        " print(minimun_val, '-', maximun_val)"
      ],
      "execution_count": 4,
      "outputs": [
        {
          "output_type": "stream",
          "text": [
            "tensor([1, 2, 3, 4, 5, 6, 7])\n",
            "tensor([ 3.0000,  4.7500,  6.5000,  8.2500, 10.0000])\n",
            "tensor([0.3499, 0.9070, 0.5037, 0.5651, 0.2187])\n",
            "tensor(0.2187) - tensor(0.9070)\n"
          ],
          "name": "stdout"
        }
      ]
    },
    {
      "cell_type": "code",
      "metadata": {
        "colab": {
          "base_uri": "https://localhost:8080/"
        },
        "id": "aLCkBbipFP3P",
        "outputId": "5b8258a8-f254-4def-8d23-f39bb20b7e75"
      },
      "source": [
        "#Definamos un tensor:\r\n",
        "\r\n",
        "tensor_inicial = torch.tensor(\r\n",
        "[\r\n",
        "    [\r\n",
        "        [ 1,  2,  3,  4],\r\n",
        "        [ 5,  6,  7,  8],\r\n",
        "        [ 0,  1,  2,  3]\r\n",
        "    ]\r\n",
        "    ,\r\n",
        "    [\r\n",
        "        [ 9, 10, 11, 12],\r\n",
        "        [13, 14, 15, 16],\r\n",
        "        [ 0,  1,  2,  3]\r\n",
        "    ]\r\n",
        "    ,\r\n",
        "    [\r\n",
        "        [17, 18, 19, 20],\r\n",
        "        [21, 22, 23, 24],\r\n",
        "        [ 0,  1,  2,  3]\r\n",
        "    ]\r\n",
        "])\r\n",
        "print(tensor_inicial.shape)\r\n",
        "\r\n",
        "#Linearizamos un tensor (Flatten)\r\n",
        "flatten_tensor = tensor_inicial.flatten()\r\n",
        "print(flatten_tensor)"
      ],
      "execution_count": 5,
      "outputs": [
        {
          "output_type": "stream",
          "text": [
            "torch.Size([3, 3, 4])\n",
            "tensor([ 1,  2,  3,  4,  5,  6,  7,  8,  0,  1,  2,  3,  9, 10, 11, 12, 13, 14,\n",
            "        15, 16,  0,  1,  2,  3, 17, 18, 19, 20, 21, 22, 23, 24,  0,  1,  2,  3])\n"
          ],
          "name": "stdout"
        }
      ]
    },
    {
      "cell_type": "code",
      "metadata": {
        "colab": {
          "base_uri": "https://localhost:8080/"
        },
        "id": "0CziCC_sFQDQ",
        "outputId": "05e6f7fb-5a0f-4e9b-db13-7536d5583e97"
      },
      "source": [
        "#Convertir un tensor de pytorch a una lista.\r\n",
        "listed_tensor = flatten_tensor.tolist()\r\n",
        "print(listed_tensor)\r\n",
        "listed_inicial = tensor_inicial.tolist()\r\n",
        "print(listed_inicial)\r\n",
        "\r\n",
        "#Nota que cuando conviertes un tensor a lista, conserva sus dimensiones..."
      ],
      "execution_count": 6,
      "outputs": [
        {
          "output_type": "stream",
          "text": [
            "[1, 2, 3, 4, 5, 6, 7, 8, 0, 1, 2, 3, 9, 10, 11, 12, 13, 14, 15, 16, 0, 1, 2, 3, 17, 18, 19, 20, 21, 22, 23, 24, 0, 1, 2, 3]\n",
            "[[[1, 2, 3, 4], [5, 6, 7, 8], [0, 1, 2, 3]], [[9, 10, 11, 12], [13, 14, 15, 16], [0, 1, 2, 3]], [[17, 18, 19, 20], [21, 22, 23, 24], [0, 1, 2, 3]]]\n"
          ],
          "name": "stdout"
        }
      ]
    },
    {
      "cell_type": "markdown",
      "metadata": {
        "id": "FbeOxcV-FQdt"
      },
      "source": [
        "#### Conceptos de Álgebra Lineal"
      ]
    },
    {
      "cell_type": "code",
      "metadata": {
        "colab": {
          "base_uri": "https://localhost:8080/"
        },
        "id": "aJrMWVziJNmN",
        "outputId": "2243cf8d-ac57-40cf-b57f-96d164011674"
      },
      "source": [
        "#Producto punto:\r\n",
        "A = torch.rand((5))\r\n",
        "B = torch.rand((5))\r\n",
        "dot_prod = A.dot(B)\r\n",
        "\r\n",
        "print('A: {}\\nB: {}'.format(A,B))\r\n",
        "print('Dot_prod = {}'.format(dot_prod))"
      ],
      "execution_count": 7,
      "outputs": [
        {
          "output_type": "stream",
          "text": [
            "A: tensor([0.9060, 0.7984, 0.6299, 0.3573, 0.1845])\n",
            "B: tensor([0.8618, 0.6806, 0.5343, 0.9711, 0.2864])\n",
            "Dot_prod = 2.060469627380371\n"
          ],
          "name": "stdout"
        }
      ]
    },
    {
      "cell_type": "code",
      "metadata": {
        "colab": {
          "base_uri": "https://localhost:8080/"
        },
        "id": "33f2l4UZKv4y",
        "outputId": "a0d7d690-9973-4930-9df3-6389302885e5"
      },
      "source": [
        "#Matrices transpuestas:\r\n",
        "A_t = torch.transpose(A,0,-1)\r\n",
        "B_t = torch.transpose(B,0,-1) #Qué son los números de dim???¿?¿?¿?\r\n",
        "\r\n",
        "print(A_t)\r\n",
        "print(B_t)\r\n",
        "\r\n",
        "#Probando las propiedades.\r\n",
        "#Primera propiedad\r\n",
        "statement = ((A_t + B_t) == torch.transpose((A+B), 0, -1))\r\n",
        "print(statement)\r\n",
        "\r\n",
        "#Segunda propiedad\r\n",
        "statement = (torch.transpose(A.matmul(B), 0, -1) == B_t.matmul(A_t))\r\n",
        "print(statement)"
      ],
      "execution_count": 8,
      "outputs": [
        {
          "output_type": "stream",
          "text": [
            "tensor([0.9060, 0.7984, 0.6299, 0.3573, 0.1845])\n",
            "tensor([0.8618, 0.6806, 0.5343, 0.9711, 0.2864])\n",
            "tensor([True, True, True, True, True])\n",
            "tensor(True)\n"
          ],
          "name": "stdout"
        }
      ]
    },
    {
      "cell_type": "code",
      "metadata": {
        "colab": {
          "base_uri": "https://localhost:8080/"
        },
        "id": "3opEBxghVZhg",
        "outputId": "4744fd39-0638-4f1a-9a7d-40283dae1156"
      },
      "source": [
        "#Multiplicación de matrices: Con matmul.\r\n",
        "A = torch.rand((5,3))\r\n",
        "B = torch.rand((3,5))\r\n",
        "print(A)\r\n",
        "print(B)\r\n",
        "print(A.matmul(B))"
      ],
      "execution_count": 9,
      "outputs": [
        {
          "output_type": "stream",
          "text": [
            "tensor([[0.6690, 0.5288, 0.4234],\n",
            "        [0.5161, 0.7677, 0.3714],\n",
            "        [0.7834, 0.7875, 0.6735],\n",
            "        [0.9858, 0.7575, 0.6339],\n",
            "        [0.1595, 0.9606, 0.5906]])\n",
            "tensor([[0.9513, 0.1520, 0.7021, 0.6518, 0.3521],\n",
            "        [0.0902, 0.3357, 0.0958, 0.4299, 0.1738],\n",
            "        [0.6034, 0.4942, 0.9949, 0.8355, 0.8478]])\n",
            "tensor([[0.9397, 0.4885, 0.9417, 1.0172, 0.6864],\n",
            "        [0.7842, 0.5197, 0.8054, 0.9766, 0.6299],\n",
            "        [1.2227, 0.7163, 1.2956, 1.4118, 0.9837],\n",
            "        [1.3886, 0.7174, 1.3954, 1.4978, 1.0161],\n",
            "        [0.5947, 0.6385, 0.7916, 1.0103, 0.7238]])\n"
          ],
          "name": "stdout"
        }
      ]
    },
    {
      "cell_type": "markdown",
      "metadata": {
        "id": "4RbVcWlLW6fl"
      },
      "source": [
        "#### DETERMINANTES:"
      ]
    },
    {
      "cell_type": "code",
      "metadata": {
        "colab": {
          "base_uri": "https://localhost:8080/"
        },
        "id": "XAvlLFrnW2O8",
        "outputId": "9677bcd8-1b9b-4d5a-b69b-95e13f3e80e2"
      },
      "source": [
        "#Determinante\r\n",
        "tensor = torch.rand((2,2))\r\n",
        "print(tensor)\r\n",
        "print(\"Det: {}\".format(tensor.det()))\r\n",
        "#traza\r\n",
        "print(\"Traza: {}\".format(torch.trace(tensor)))"
      ],
      "execution_count": 10,
      "outputs": [
        {
          "output_type": "stream",
          "text": [
            "tensor([[0.5815, 0.0900],\n",
            "        [0.3851, 0.9968]])\n",
            "Det: 0.5449612140655518\n",
            "Traza: 1.5782952308654785\n"
          ],
          "name": "stdout"
        }
      ]
    },
    {
      "cell_type": "markdown",
      "metadata": {
        "id": "eHI5Jg9y3AcO"
      },
      "source": [
        "### Autovectores"
      ]
    },
    {
      "cell_type": "code",
      "metadata": {
        "id": "5EJ9u5LAW8tl",
        "colab": {
          "base_uri": "https://localhost:8080/"
        },
        "outputId": "017d4c0b-e853-4e09-f2d5-e3bf8e7e0a8f"
      },
      "source": [
        "print(\"Eigen vectors: \" ,tensor.eig(eigenvectors=True))"
      ],
      "execution_count": 12,
      "outputs": [
        {
          "output_type": "stream",
          "text": [
            "Eigen vectors:  torch.return_types.eig(\n",
            "eigenvalues=tensor([[0.5102, 0.0000],\n",
            "        [1.0681, 0.0000]]),\n",
            "eigenvectors=tensor([[-0.7841, -0.1819],\n",
            "        [ 0.6206, -0.9833]]))\n",
            "Eigen values:  torch.return_types.eig(\n",
            "eigenvalues=tensor([[0.5102, 0.0000],\n",
            "        [1.0681, 0.0000]]),\n",
            "eigenvectors=tensor([]))\n"
          ],
          "name": "stdout"
        }
      ]
    },
    {
      "cell_type": "markdown",
      "metadata": {
        "id": "6taVaXzbLn0G"
      },
      "source": [
        "## Creando un modelo lineal con Pytorch: "
      ]
    },
    {
      "cell_type": "code",
      "metadata": {
        "colab": {
          "base_uri": "https://localhost:8080/",
          "height": 282
        },
        "id": "hemAz_QBLuAW",
        "outputId": "bf2238ff-b25e-45f1-a76b-1ec62d571d64"
      },
      "source": [
        "#Generamos arrays que sean lineales de manera proporcional, pero a su vez random.\r\n",
        "import matplotlib.pyplot as plt\r\n",
        "\r\n",
        "\r\n",
        "X = torch.rand(500)\r\n",
        "Y = X*0.25 + torch.randint(low=0, high=100, size=(500,))/1000\r\n",
        "\r\n",
        "plt.scatter(X, Y)"
      ],
      "execution_count": 36,
      "outputs": [
        {
          "output_type": "execute_result",
          "data": {
            "text/plain": [
              "<matplotlib.collections.PathCollection at 0x7f626a0f9790>"
            ]
          },
          "metadata": {
            "tags": []
          },
          "execution_count": 36
        },
        {
          "output_type": "display_data",
          "data": {
            "image/png": "[encoded data removed]",
            "text/plain": [
              "<Figure size 432x288 with 1 Axes>"
            ]
          },
          "metadata": {
            "tags": [],
            "needs_background": "light"
          }
        }
      ]
    },
    {
      "cell_type": "code",
      "metadata": {
        "colab": {
          "base_uri": "https://localhost:8080/"
        },
        "id": "xfP9zoOmRsuQ",
        "outputId": "a2af5fb3-91ae-4b4a-a49e-f4f068756040"
      },
      "source": [
        "#Asumirmeos que a partir de ahora solo tenemos los datos, así que describiremos la forma de nuestro modelo.\r\n",
        "#En una función, para poder luego minimizar los errores.\r\n",
        "\r\n",
        "def model(X, w, b):\r\n",
        "  \"\"\"\r\n",
        "  Tenemos un modelo lineal simple.\r\n",
        "  \"\"\"\r\n",
        "  return X*w + b\r\n",
        "\r\n",
        "#Definimos la funcion de pérdida como el clásico error medio al cuadrado (MSE)\r\n",
        "\r\n",
        "def loss(preds,Y):\r\n",
        "  \"\"\"\r\n",
        "  Donde Y son los valores reales y preds las predicciones.\r\n",
        "  \"\"\"\r\n",
        "  squared_diffs = (preds - Y)**2\r\n",
        "  return squared_diffs.mean()\r\n",
        "\r\n",
        "#Ahora, debemos inicializar el modelo. Recuerda que vamos a inferir los pesos (w)\r\n",
        "\r\n",
        "w = torch.ones(())\r\n",
        "b = torch.zeros(())\r\n",
        "\r\n",
        "preds = model(X, w, b)\r\n",
        "#Ahora chequeamos el valor del error.\r\n",
        "loss = loss(preds, Y)\r\n",
        "print(\"El Loss es: \",loss)"
      ],
      "execution_count": 37,
      "outputs": [
        {
          "output_type": "stream",
          "text": [
            "El Loss es:  tensor(0.1549)\n"
          ],
          "name": "stdout"
        }
      ]
    },
    {
      "cell_type": "code",
      "metadata": {
        "id": "Ox0kOZGaTm4d"
      },
      "source": [
        "#Necesitamos la derivada de nuestra funcion de perdida:\r\n",
        "def deriv_loss(preds,Y):\r\n",
        "  dsq_diffs = 2 * (preds - Y) / preds.size(0)\r\n",
        "  return dsq_diffs\r\n",
        "\r\n",
        "def deriv_w_model(X, w, b):\r\n",
        "  return X\r\n",
        "\r\n",
        "def deriv_b_model(X, w, b):\r\n",
        "  return 1.0\r\n",
        "\r\n"
      ],
      "execution_count": 42,
      "outputs": []
    },
    {
      "cell_type": "code",
      "metadata": {
        "colab": {
          "base_uri": "https://localhost:8080/"
        },
        "id": "Q4oJ-YG-T3vO",
        "outputId": "c10a6a6b-e5c3-4423-f0d0-a52b0d824882"
      },
      "source": [
        "deriv_loss(preds,Y)"
      ],
      "execution_count": 43,
      "outputs": [
        {
          "output_type": "execute_result",
          "data": {
            "text/plain": [
              "tensor([ 1.1187e-03,  9.1541e-04,  1.0874e-03,  2.6655e-03, -1.9820e-04,\n",
              "         1.8389e-03,  2.8511e-03,  1.2909e-03,  2.4959e-03, -4.7312e-05,\n",
              "         2.8724e-03, -9.7629e-05,  5.5615e-04,  1.9757e-03,  2.7425e-03,\n",
              "         2.7813e-03,  2.7346e-03,  7.6080e-05,  1.4636e-03,  2.1057e-04,\n",
              "         2.2959e-03,  1.0852e-03,  9.3666e-04,  2.6973e-03,  5.2099e-04,\n",
              "         3.5317e-04,  1.4422e-03,  4.3242e-04,  1.8943e-04,  8.1593e-04,\n",
              "         2.3155e-03, -1.1815e-04,  5.6984e-04,  7.9382e-05,  2.1189e-03,\n",
              "         1.5109e-03,  2.2857e-03,  2.4631e-03,  2.3932e-03,  2.3625e-03,\n",
              "         2.3957e-03,  1.2367e-03,  2.8969e-04,  1.4456e-03,  6.6348e-04,\n",
              "         7.4262e-05,  1.7875e-03,  1.4529e-04,  5.9366e-04,  5.8763e-04,\n",
              "         2.2252e-03,  2.3124e-03,  8.8160e-04,  2.4019e-04,  1.0146e-03,\n",
              "         2.7222e-03,  5.1623e-04,  2.2239e-03,  1.8741e-03,  6.5387e-04,\n",
              "         2.8224e-03,  3.9573e-04, -3.0608e-05,  2.4825e-04,  1.5040e-03,\n",
              "         9.3849e-04,  1.2184e-03,  2.4820e-03,  2.5688e-03,  1.3952e-03,\n",
              "         2.5065e-03,  1.3235e-03,  1.1767e-03,  2.2258e-03,  1.7019e-03,\n",
              "         2.2419e-03,  2.0930e-03,  6.9772e-04,  1.5649e-03,  1.2107e-05,\n",
              "         1.7820e-03, -2.2673e-04,  2.2758e-04,  1.5251e-03,  1.7484e-03,\n",
              "         1.6275e-03, -1.9746e-04,  1.4638e-03,  2.1652e-03,  2.1649e-03,\n",
              "         5.4826e-05,  2.2870e-03,  1.4854e-03,  1.3768e-03,  7.6401e-04,\n",
              "         1.0582e-03,  9.9606e-04,  1.7546e-03,  2.6075e-04,  3.8905e-04,\n",
              "         1.7858e-03,  1.0414e-03,  2.5872e-03,  2.5675e-03,  1.1317e-03,\n",
              "         1.3458e-03,  8.3959e-04,  9.2301e-04,  5.9484e-04,  1.9991e-04,\n",
              "         7.5062e-04,  2.3424e-03,  2.6427e-03,  1.4667e-03,  6.5224e-05,\n",
              "         1.5996e-03, -1.2174e-04,  5.0126e-04,  2.5641e-03, -1.1612e-04,\n",
              "         1.6749e-03,  3.6631e-04,  1.3597e-03,  1.4684e-03,  2.7245e-03,\n",
              "         2.4119e-03,  6.3119e-06,  2.8093e-03,  5.7692e-04,  2.6285e-04,\n",
              "         5.6264e-04,  3.0092e-04,  2.7036e-03,  1.9355e-03,  1.4617e-03,\n",
              "         3.6982e-04,  3.7092e-04,  1.0238e-03,  2.6848e-03,  1.8455e-03,\n",
              "         1.7708e-03,  1.9732e-03,  2.4397e-04,  2.2743e-04,  2.4022e-03,\n",
              "         2.0716e-04,  2.3986e-03,  2.5578e-03,  9.4358e-04,  2.5341e-03,\n",
              "         2.6413e-03,  4.8748e-04,  2.4383e-03, -2.1774e-04,  1.6712e-03,\n",
              "        -6.8146e-07,  2.8177e-03, -8.4270e-05,  9.8339e-05,  1.5790e-03,\n",
              "         1.8659e-03,  1.5865e-03,  2.6498e-03,  2.1677e-03,  2.5377e-03,\n",
              "         2.6095e-03,  3.4708e-05,  1.6793e-03,  4.7239e-04,  1.1118e-03,\n",
              "         2.6567e-03,  3.0246e-04, -4.4917e-06,  5.9521e-04,  1.6173e-03,\n",
              "         1.4607e-03,  1.8467e-03,  8.5074e-04, -1.8516e-06, -2.6238e-04,\n",
              "         2.9762e-04,  2.1337e-03,  1.7105e-04,  2.7337e-03,  2.2356e-04,\n",
              "         2.2934e-03,  3.2912e-04,  6.2621e-04,  1.0420e-03,  7.3216e-04,\n",
              "         8.7586e-04,  2.1116e-03,  9.7030e-04,  8.3503e-04,  1.6576e-03,\n",
              "         2.0878e-03,  4.3756e-04,  2.1466e-03,  2.1720e-03,  2.7928e-03,\n",
              "         4.5714e-04,  1.7272e-03,  5.4100e-04, -9.1982e-05, -3.7714e-04,\n",
              "         4.5749e-04,  2.0909e-03,  2.5789e-03,  2.6737e-03,  1.0373e-03,\n",
              "         2.2908e-03,  1.0852e-03, -1.5521e-04,  1.0712e-03,  1.6186e-03,\n",
              "         2.5766e-03,  2.0089e-03, -4.1650e-06,  2.5271e-03,  1.9164e-03,\n",
              "         1.3136e-03,  2.7010e-03,  2.4417e-04,  9.8127e-04,  1.4335e-03,\n",
              "         2.5241e-03,  8.0488e-04,  2.5159e-03,  1.7816e-03, -8.9838e-05,\n",
              "         2.2381e-03,  1.0440e-03,  4.3862e-04,  1.3649e-04, -1.0178e-04,\n",
              "         2.9013e-04,  3.4324e-04,  1.5871e-03,  2.2455e-03,  2.1313e-03,\n",
              "         2.8065e-03,  1.2077e-03,  1.4522e-03,  1.8762e-03,  1.3256e-03,\n",
              "         2.3715e-03,  3.3855e-04,  2.4500e-03,  8.4377e-05,  9.7185e-05,\n",
              "         1.9787e-03,  1.4272e-03,  2.5111e-03,  1.3502e-03,  1.7574e-03,\n",
              "         9.9964e-04,  2.2944e-03,  4.9689e-04, -1.1052e-04,  2.3918e-03,\n",
              "         2.2027e-03,  1.3018e-04, -2.9060e-05,  1.7224e-03,  2.5610e-03,\n",
              "         2.5682e-03,  1.2041e-03,  5.5131e-04,  3.5213e-04,  2.0007e-03,\n",
              "         1.0410e-03,  1.1440e-03,  2.4851e-03,  1.0023e-03,  1.4300e-03,\n",
              "         6.3470e-04,  2.3158e-03,  1.4141e-03,  2.0353e-03,  2.6065e-03,\n",
              "         2.6640e-03,  2.4365e-03,  2.0676e-03,  1.9100e-03,  2.1230e-03,\n",
              "         2.4230e-04,  2.8624e-03,  5.8304e-05,  1.8577e-04,  2.5621e-06,\n",
              "         3.8247e-04,  2.5197e-03,  1.8560e-03,  4.1604e-05,  2.3187e-03,\n",
              "         1.1380e-03,  2.0601e-03,  4.9540e-04,  1.7270e-03,  2.3973e-03,\n",
              "         2.3904e-03,  2.4722e-03,  2.0115e-03,  1.3952e-03,  1.5918e-03,\n",
              "         1.0511e-03,  1.3271e-03,  2.6792e-03,  1.2620e-03,  6.7251e-04,\n",
              "         1.8654e-04,  6.7021e-04,  6.5357e-05,  2.8661e-04,  1.8429e-03,\n",
              "         7.9133e-04,  2.2720e-03,  1.7560e-03,  9.5231e-04,  1.3173e-03,\n",
              "         1.7448e-03,  3.4296e-04,  1.7299e-03,  2.4148e-03,  1.1985e-03,\n",
              "         1.6434e-04,  2.7201e-03,  9.0412e-04,  1.6952e-03,  9.8297e-04,\n",
              "         1.8957e-03,  2.7816e-04,  2.1305e-03,  3.0077e-04,  1.9879e-04,\n",
              "         1.6395e-03,  5.2760e-04,  1.9841e-03,  2.1079e-03, -2.7224e-05,\n",
              "         2.1183e-03,  1.2893e-03,  8.9320e-04,  5.3052e-04,  1.8434e-03,\n",
              "        -7.8719e-05,  7.0913e-04,  8.3311e-04,  2.9448e-03,  5.1916e-04,\n",
              "         3.0719e-04, -1.9100e-04,  2.7050e-03,  5.0576e-04,  2.3555e-03,\n",
              "         1.3682e-03,  2.7142e-03,  8.3555e-04,  3.6313e-04,  2.7060e-03,\n",
              "         1.9331e-03,  1.8536e-03,  2.4690e-04,  2.6090e-03,  2.5226e-03,\n",
              "         3.5014e-04,  1.0874e-03,  3.3530e-04,  1.1625e-03,  1.2744e-03,\n",
              "         1.1025e-03,  1.1389e-03,  7.6744e-04,  5.2133e-04,  2.1380e-03,\n",
              "         8.0346e-05,  2.4387e-03,  1.1852e-03,  2.9500e-03, -1.7883e-04,\n",
              "         4.4784e-04,  1.6832e-03,  1.9801e-03,  8.1898e-05,  1.9077e-03,\n",
              "         7.3911e-04,  1.9886e-03,  2.1427e-03,  9.9594e-04,  1.0413e-03,\n",
              "        -1.6685e-04,  1.5739e-03,  4.2659e-04,  1.3528e-03,  8.2764e-04,\n",
              "        -8.0149e-05,  1.8485e-03,  8.5197e-04,  1.9156e-03,  1.5225e-03,\n",
              "         2.2713e-03,  2.2031e-03,  2.6039e-04,  1.7675e-04,  5.6051e-05,\n",
              "         1.3388e-03,  1.4526e-03,  1.1642e-03,  9.9715e-04,  2.8646e-04,\n",
              "         1.0861e-03,  1.8620e-03,  1.7722e-04,  2.3973e-03,  2.8529e-03,\n",
              "        -2.2261e-05,  1.2874e-03,  1.9355e-03,  2.2297e-03,  1.7121e-03,\n",
              "        -1.6975e-04,  1.3028e-03,  1.0067e-03,  2.4097e-03,  1.4229e-04,\n",
              "        -7.4929e-05,  2.2810e-03,  1.0558e-04,  1.6413e-03,  1.2126e-03,\n",
              "         2.2841e-03,  2.1002e-04,  4.9467e-04,  9.7439e-04,  4.5574e-04,\n",
              "        -1.2622e-04,  7.8932e-04,  1.7915e-03,  2.4417e-03,  2.6568e-03,\n",
              "         1.9818e-03,  1.8533e-03,  2.0211e-03,  1.6786e-03,  1.9402e-04,\n",
              "        -1.2087e-04,  2.7726e-03,  2.5864e-03,  1.6575e-04,  7.3208e-04,\n",
              "         6.7919e-04,  1.5809e-03,  1.6804e-03,  1.9611e-03,  2.7702e-03,\n",
              "         8.2340e-04,  1.8895e-03,  6.3386e-04, -3.4946e-04,  1.3053e-03,\n",
              "         2.1855e-03,  8.5811e-04,  7.2820e-04,  4.6456e-04,  4.2436e-04,\n",
              "         6.7294e-04, -5.2111e-05,  1.6604e-03,  5.5652e-04,  6.7737e-06,\n",
              "         1.2224e-03,  2.2272e-03,  7.8659e-04,  2.6974e-03,  1.1985e-03,\n",
              "         3.6357e-04,  2.1261e-03, -1.0497e-04,  1.4950e-03,  8.4207e-04,\n",
              "         9.7480e-04,  2.6534e-03,  1.7213e-03,  1.5860e-03,  8.1365e-04,\n",
              "         2.3019e-03,  3.4719e-04,  1.0178e-04,  2.1260e-03,  2.5111e-04,\n",
              "         9.3593e-04,  4.4068e-04, -1.0545e-04,  6.3471e-04,  1.1864e-03,\n",
              "         3.7770e-04,  1.8891e-05,  1.0336e-03,  1.8248e-03,  4.5898e-04])"
            ]
          },
          "metadata": {
            "tags": []
          },
          "execution_count": 43
        }
      ]
    }
  ]
}