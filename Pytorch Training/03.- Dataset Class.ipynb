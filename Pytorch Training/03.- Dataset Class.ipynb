{
 "cells": [
  {
   "cell_type": "markdown",
   "metadata": {},
   "source": [
    "### Custom Datasets vs DataLoader.\n",
    "\n",
    "Cuando trabajamos con los datos, usualmente por familiaridad lo importamos con Pandas o alguna otra librería. Esto tiene sus contras porque Pytorch solo acepta tensores como inputs. En este sentido, vamos a querer tener una clase con la cual podamos transformar rápidamente los datos a tensores, así como consultar rápidamente algunas cuestiones de los datos. En este sentido hay dos formas en general de poder manejar los datos: Construir tu propia clase desde cero o construirla heredando algunas funcionalidades de ```torch.utils.data```\n",
    "\n",
    "¿Cuáles son las diferencias y por qué debemos usar uno u otro?\n",
    "\n",
    "\n",
    "\n",
    "Fuentes:\n",
    "\n",
    "https://stanford.edu/~shervine/blog/pytorch-how-to-generate-data-parallel\n",
    "\n",
    "https://medium.com/analytics-vidhya/creating-a-custom-dataset-and-dataloader-in-pytorch-76f210a1df5d\n",
    "\n",
    "https://pytorch.org/tutorials/beginner/data_loading_tutorial.html"
   ]
  },
  {
   "cell_type": "code",
   "execution_count": 1,
   "metadata": {},
   "outputs": [],
   "source": [
    "class CustomDataset():\n",
    "    def __init__(data, labels):\n",
    "        self.data = data\n",
    "        self.labels = labels"
   ]
  },
  {
   "cell_type": "code",
   "execution_count": null,
   "metadata": {},
   "outputs": [],
   "source": [
    "from torch.utils.data import DataLoader"
   ]
  }
 ],
 "metadata": {
  "kernelspec": {
   "display_name": "Python 3",
   "language": "python",
   "name": "python3"
  },
  "language_info": {
   "codemirror_mode": {
    "name": "ipython",
    "version": 3
   },
   "file_extension": ".py",
   "mimetype": "text/x-python",
   "name": "python",
   "nbconvert_exporter": "python",
   "pygments_lexer": "ipython3",
   "version": "3.8.5"
  }
 },
 "nbformat": 4,
 "nbformat_minor": 4
}
