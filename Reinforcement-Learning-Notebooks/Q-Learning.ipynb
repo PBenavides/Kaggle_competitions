{
 "cells": [
  {
   "cell_type": "markdown",
   "metadata": {},
   "source": [
    "**Introducción:** \n",
    "\n",
    "\n",
    "\n",
    "**Environment:** \n",
    "\n",
    "\n",
    "![img](https://blog.floydhub.com/content/images/2019/05/Screenshot-2019-05-20-at-18.03.38.png)\n",
    "\n",
    "**Matriz de Pagos:** Esta será la matriz de pagos. Solo habrán pagos (1) si es que podemos trasladarnos desde hacia ese estado.\n",
    "\n",
    "![img2](https://blog.floydhub.com/content/images/2019/09/table-of-rewards.png)"
   ]
  },
  {
   "cell_type": "code",
   "execution_count": 4,
   "metadata": {},
   "outputs": [],
   "source": [
    "import gym\n",
    "\n",
    "env = gym.make('CartPole-v0')\n",
    "env.reset()\n",
    "\n",
    "for _ in range(1000):\n",
    "    env.render()\n",
    "    env.step(env.action_space.sample())\n",
    "\n",
    "env.close()"
   ]
  },
  {
   "cell_type": "code",
   "execution_count": 2,
   "metadata": {},
   "outputs": [],
   "source": [
    "import numpy as np"
   ]
  },
  {
   "cell_type": "code",
   "execution_count": 4,
   "metadata": {},
   "outputs": [],
   "source": [
    "#Definimos los estados:\n",
    "\n",
    "locacion_a_estado = {'L1' : 0,'L2' : 1,'L3' : 2,'L4' : 3,'L5' : 4,'L6' : 5,'L7' : 6,'L8' : 7,'L9' : 8}\n",
    "\n",
    "acciones = [0,1,2,3,4,5,6,7,8]\n",
    "\n",
    "#Recompensas\n",
    "pagos = np.array([[0,1,0,0,0,0,0,0,0],\n",
    "              [1,0,1,0,1,0,0,0,0],[0,1,0,0,0,1,0,0,0],[0,0,0,0,0,0,1,0,0],[0,1,0,0,0,0,0,1,0],\n",
    "              [0,0,1,0,0,0,0,0,0],[0,0,0,1,0,0,0,1,0],[0,0,0,0,1,0,1,0,1],[0,0,0,0,0,0,0,1,0]])\n",
    "\n",
    "#https://blog.floydhub.com/an-introduction-to-q-learning-reinforcement-learning/\n",
    "#https://ai.googleblog.com/2018/10/curiosity-and-procrastination-in.html\n",
    "\n",
    "estado_a_locacion = dict((state,location) for location,state in locacion_a_estado.items())\n",
    "\n",
    "#Tendremos dos parámetros que daremos como externos: el factor de descuento y el learning_rate.\n",
    "\n",
    "factor_descuento = 0.75\n",
    "learning_rate = 0.9"
   ]
  },
  {
   "cell_type": "markdown",
   "metadata": {},
   "source": [
    "Nuestro Q serán 9 vectores de 9 valores cada uno, pues son en sí cómo las decisiones que tomará el agente"
   ]
  },
  {
   "cell_type": "code",
   "execution_count": 10,
   "metadata": {},
   "outputs": [
    {
     "ename": "KeyError",
     "evalue": "'999'",
     "output_type": "error",
     "traceback": [
      "\u001b[1;31m---------------------------------------------------------------------------\u001b[0m",
      "\u001b[1;31mKeyError\u001b[0m                                  Traceback (most recent call last)",
      "\u001b[1;32m<ipython-input-10-71317dabe7d4>\u001b[0m in \u001b[0;36m<module>\u001b[1;34m\u001b[0m\n\u001b[0;32m      7\u001b[0m \u001b[0mlocacion_final\u001b[0m \u001b[1;33m=\u001b[0m \u001b[1;34m'999'\u001b[0m\u001b[1;33m\u001b[0m\u001b[1;33m\u001b[0m\u001b[0m\n\u001b[0;32m      8\u001b[0m \u001b[1;33m\u001b[0m\u001b[0m\n\u001b[1;32m----> 9\u001b[1;33m \u001b[0mestado_final\u001b[0m \u001b[1;33m=\u001b[0m \u001b[0mlocacion_a_estado\u001b[0m\u001b[1;33m[\u001b[0m\u001b[0mlocacion_final\u001b[0m\u001b[1;33m]\u001b[0m\u001b[1;33m\u001b[0m\u001b[1;33m\u001b[0m\u001b[0m\n\u001b[0m",
      "\u001b[1;31mKeyError\u001b[0m: '999'"
     ]
    }
   ],
   "source": [
    "Q = np.array(np.zeros([9,9]))   #Inicializamos Q\n",
    "\n",
    "#Hacemos una copia de la matriz de pagos.\n",
    "copia_pagos = np.copy(pagos)\n",
    "\n",
    "#Obtenemos el Estado final corresponiendo \n",
    "locacion_final = '999'\n",
    "\n",
    "estado_final = locacion_a_estado[locacion_final]"
   ]
  },
  {
   "cell_type": "code",
   "execution_count": 9,
   "metadata": {},
   "outputs": [
    {
     "data": {
      "text/plain": [
       "array([[0., 0., 0., 0., 0., 0., 0., 0., 0.],\n",
       "       [0., 0., 0., 0., 0., 0., 0., 0., 0.],\n",
       "       [0., 0., 0., 0., 0., 0., 0., 0., 0.],\n",
       "       [0., 0., 0., 0., 0., 0., 0., 0., 0.],\n",
       "       [0., 0., 0., 0., 0., 0., 0., 0., 0.],\n",
       "       [0., 0., 0., 0., 0., 0., 0., 0., 0.],\n",
       "       [0., 0., 0., 0., 0., 0., 0., 0., 0.],\n",
       "       [0., 0., 0., 0., 0., 0., 0., 0., 0.],\n",
       "       [0., 0., 0., 0., 0., 0., 0., 0., 0.]])"
      ]
     },
     "execution_count": 9,
     "metadata": {},
     "output_type": "execute_result"
    }
   ],
   "source": [
    "Q"
   ]
  }
 ],
 "metadata": {
  "kernelspec": {
   "display_name": "Python 3",
   "language": "python",
   "name": "python3"
  },
  "language_info": {
   "codemirror_mode": {
    "name": "ipython",
    "version": 3
   },
   "file_extension": ".py",
   "mimetype": "text/x-python",
   "name": "python",
   "nbconvert_exporter": "python",
   "pygments_lexer": "ipython3",
   "version": "3.8.5"
  }
 },
 "nbformat": 4,
 "nbformat_minor": 4
}
