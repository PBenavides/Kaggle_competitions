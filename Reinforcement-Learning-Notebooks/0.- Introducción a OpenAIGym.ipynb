{
 "cells": [
  {
   "cell_type": "markdown",
   "metadata": {},
   "source": [
    "#### Introducción al Gym:\n",
    "\n",
    "**Por qué necesitamos de un Gym en RL?**\n",
    "\n",
    "Existen dos problemas fundamentales cuando se hacen investigaciones en RL. El primero es que no existe un benchmark final para algunos de los algoritmos que salen dentro del campo, a comparación de datasets gigantescos que tenemos cuando aplicamos aprendizaje supervisado. OpenAI propone una serie de **environments predeterminados** donde los investigadores pueden probar el performance de sus algoritmos: En tiempo y eficiencia. El seguno motivo es que la **estandarización** de los environment a través de las publicaciones de investigación no es estricta. Esto lleva a que los papers sean difíciles de replicar, pues se presenta a una mal-especificación de los environments. \n",
    "\n",
    "\n",
    "\n",
    "**Qué ofrece la librería Gym?**\n",
    "Poder setear una cantidad diversa de environments para probar nuestros algoritmos de RL: [LISTA DE ENVIRONMENTS](https://gym.openai.com/envs/)\n",
    "\n",
    "**"
   ]
  },
  {
   "cell_type": "code",
   "execution_count": 1,
   "metadata": {},
   "outputs": [],
   "source": [
    "import gym"
   ]
  }
 ],
 "metadata": {
  "kernelspec": {
   "display_name": "Python 3",
   "language": "python",
   "name": "python3"
  },
  "language_info": {
   "codemirror_mode": {
    "name": "ipython",
    "version": 3
   },
   "file_extension": ".py",
   "mimetype": "text/x-python",
   "name": "python",
   "nbconvert_exporter": "python",
   "pygments_lexer": "ipython3",
   "version": "3.8.5"
  }
 },
 "nbformat": 4,
 "nbformat_minor": 4
}
