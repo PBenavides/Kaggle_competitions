{
 "cells": [
  {
   "cell_type": "markdown",
   "metadata": {},
   "source": [
    "### Sirviendo modelos con MLFlow.\n",
    "\n",
    "Un caso rápido con Pytorch e Iris Dataset."
   ]
  },
  {
   "cell_type": "code",
   "execution_count": 1,
   "metadata": {},
   "outputs": [],
   "source": [
    "import torch\n",
    "import pickle\n",
    "\n",
    "import pandas as pd\n",
    "import numpy as np\n",
    "\n",
    "from sklearn.preprocessing import LabelEncoder\n",
    "from sklearn.model_selection import train_test_split\n",
    "\n",
    "iris = pd.read_csv('https://raw.githubusercontent.com/HackSpacePeru/Datasets_intro_Data_Science/master/Iris_people/iris.csv')"
   ]
  },
  {
   "cell_type": "markdown",
   "metadata": {},
   "source": [
    "##### ¿A qué se le llaman artifacts?\n",
    "\n",
    "Artifacts no son más que objetos útiles e instanciados que usaremos para hacer nuestro proceso de predicción. Por ejemplo, puede ser un modelo ya entrenado, un diccionario que encodee algunas variables categóricas, o el famoso state_dict (los pesos del modelo) de Pytorch. En este caso, es necesario usar un LabelEncoder para poder continuar con el proceso de nuestro modelo. "
   ]
  },
  {
   "cell_type": "code",
   "execution_count": 2,
   "metadata": {},
   "outputs": [],
   "source": [
    "L_encoder = LabelEncoder()\n",
    "\n",
    "iris['tipo_flor'] = L_encoder.fit_transform(iris['tipo_flor'])\n",
    "\n",
    "#Tenemos que guardar este artifact para la inferecncia posterior.\n",
    "\n",
    "with open('artifacts/label_encoder.pkl', 'wb') as handle:\n",
    "    pickle.dump(L_encoder, handle, protocol = pickle.HIGHEST_PROTOCOL)"
   ]
  },
  {
   "cell_type": "code",
   "execution_count": 3,
   "metadata": {},
   "outputs": [],
   "source": [
    "#Ahora, para entrenar generaremos un X_train y X_test con un random seed de 10.\n",
    "X_train, X_test, Y_train, Y_test = train_test_split(iris.drop('tipo_flor',axis=1),\n",
    "                                                    iris['tipo_flor'], random_state=10)"
   ]
  },
  {
   "cell_type": "code",
   "execution_count": 4,
   "metadata": {},
   "outputs": [],
   "source": [
    "#Como usaremos Pytorch, convertiremos nuestro dataframe a tensores.\n",
    "X_train = torch.from_numpy(X_train.values).float()\n",
    "X_test = torch.from_numpy(X_test.values).float()\n",
    "y_train = torch.from_numpy(Y_train.values).view(1,-1)[0].type(torch.LongTensor)\n",
    "y_test = torch.from_numpy(Y_test.values).view(1,-1)[0].type(torch.LongTensor)"
   ]
  },
  {
   "cell_type": "markdown",
   "metadata": {},
   "source": [
    "#### Dónde armamos el modelo?\n",
    "\n",
    "El modelo va a estar definido en un script aparte llamado modelo.py. Esto nos permitirá importar la clase del modelo, con toda la arquitectura de la red neuronal que hayamos decidido usar. ¿Por qué hacemos esto? Porque es una forma más formal de almacenar nuestro modelo para una posterior puesta en producción."
   ]
  },
  {
   "cell_type": "code",
   "execution_count": 5,
   "metadata": {},
   "outputs": [],
   "source": [
    "from modelo import ModeloIris\n",
    "from torch.optim import Adam\n",
    "import torch.nn as nn\n",
    "\n",
    "model = ModeloIris()\n",
    "#Inicializamos el modelo, seteando las configuraciones:\n",
    "\n",
    "optimizer = Adam(model.parameters(), lr = 0.01)\n",
    "fn_perdida = nn.NLLLoss()"
   ]
  },
  {
   "cell_type": "code",
   "execution_count": 6,
   "metadata": {},
   "outputs": [
    {
     "name": "stdout",
     "output_type": "stream",
     "text": [
      "Epoch: 0 loss: 1.1388798952102661\n",
      "Epoch: 100 loss: 0.055816106498241425\n",
      "Epoch: 200 loss: 0.0496302954852581\n",
      "Epoch: 300 loss: 0.04864420369267464\n",
      "Epoch: 400 loss: 0.04905252903699875\n",
      "Epoch: 500 loss: 0.047640495002269745\n",
      "Epoch: 600 loss: 0.04695656895637512\n",
      "Epoch: 700 loss: 0.047282785177230835\n",
      "Epoch: 800 loss: 0.04627826437354088\n",
      "Epoch: 900 loss: 0.04583793133497238\n"
     ]
    }
   ],
   "source": [
    "#Entrenaremos el modelo.\n",
    "epochs = 1000\n",
    "\n",
    "for epoch in range(epochs):\n",
    "    optimizer.zero_grad()\n",
    "    y_pred = model(X_train)\n",
    "    loss = fn_perdida(y_pred, y_train)\n",
    "    loss.backward()\n",
    "    optimizer.step()\n",
    "    \n",
    "    if epoch % 100 == 0:\n",
    "        print(f'Epoch: {epoch} loss: {loss.item()}')"
   ]
  },
  {
   "cell_type": "code",
   "execution_count": 7,
   "metadata": {},
   "outputs": [],
   "source": [
    "import mlflow.pytorch\n",
    "\n",
    "mlflow_pytorch_path = 'models/iris_mlflow_pytorch'"
   ]
  },
  {
   "cell_type": "code",
   "execution_count": 8,
   "metadata": {},
   "outputs": [
    {
     "name": "stdout",
     "output_type": "stream",
     "text": [
      "{'name': 'mlflow-env', 'channels': ['defaults', 'conda-forge', 'pytorch'], 'dependencies': ['python=3.8.5', 'pytorch=1.8.1+cpu', 'torchvision=0.9.1+cpu', 'pip', {'pip': ['mlflow', 'cloudpickle==1.6.0']}]}\n"
     ]
    }
   ],
   "source": [
    "#Sacaremos el environment de anaconda que estamos usando:\n",
    "conda_env = mlflow.pytorch.get_default_conda_env()\n",
    "print(conda_env)"
   ]
  },
  {
   "cell_type": "code",
   "execution_count": 10,
   "metadata": {},
   "outputs": [],
   "source": [
    "#Guardaremos el modelo\n",
    "mlflow.pytorch.save_model(model, mlflow_pytorch_path, conda_env = conda_env)"
   ]
  },
  {
   "cell_type": "markdown",
   "metadata": {},
   "source": [
    "#### Hasta acá ya tenemos nuestro modelo. Lo que falta es poder cargarlo desde los archivos."
   ]
  },
  {
   "cell_type": "code",
   "execution_count": 11,
   "metadata": {},
   "outputs": [
    {
     "name": "stdout",
     "output_type": "stream",
     "text": [
      "tensor([0])\n"
     ]
    }
   ],
   "source": [
    "loaded_model = mlflow.pytorch.load_model(mlflow_pytorch_path)\n",
    "\n",
    "#Tomamos un ejemplo para hacer la inferencia.\n",
    "\n",
    "ejemplo = torch.tensor([[3.0, 2.5, 1.8, 0.8]])\n",
    "\n",
    "prediccion = torch.argmax(loaded_model(ejemplo), dim = 1)\n",
    "\n",
    "print(prediccion)"
   ]
  },
  {
   "cell_type": "code",
   "execution_count": null,
   "metadata": {},
   "outputs": [],
   "source": []
  }
 ],
 "metadata": {
  "kernelspec": {
   "display_name": "Python 3",
   "language": "python",
   "name": "python3"
  },
  "language_info": {
   "codemirror_mode": {
    "name": "ipython",
    "version": 3
   },
   "file_extension": ".py",
   "mimetype": "text/x-python",
   "name": "python",
   "nbconvert_exporter": "python",
   "pygments_lexer": "ipython3",
   "version": "3.8.5"
  }
 },
 "nbformat": 4,
 "nbformat_minor": 4
}
