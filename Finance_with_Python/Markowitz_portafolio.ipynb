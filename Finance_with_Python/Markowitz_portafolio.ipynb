{
 "cells": [
  {
   "cell_type": "code",
   "execution_count": 104,
   "metadata": {},
   "outputs": [],
   "source": [
    "import pandas as pd\n",
    "import numpy as np\n",
    "import matplotlib.pyplot as plt\n",
    "import scipy.optimize as sco\n",
    "\n",
    "#Config\n",
    "np.set_printoptions(formatter={'float': lambda x: \"{0:0.3f}\".format(x)})\n",
    "plt.style.use('fivethirtyeight')\n",
    "#np.random.seed(777)\n",
    "%matplotlib inline\n",
    "%config InlineBackend.figure_format = 'retina'"
   ]
  },
  {
   "cell_type": "code",
   "execution_count": 105,
   "metadata": {},
   "outputs": [
    {
     "name": "stdout",
     "output_type": "stream",
     "text": [
      " El volumen de la unidad C es Windows\n",
      " El n£mero de serie del volumen es: A808-BC75\n",
      "\n",
      " Directorio de C:\\Users\\pablo\\OneDrive\\Escritorio\\GitHub\\Kaggle_competitions_\\Finance_with_Python\n",
      "\n",
      "23/06/2020  09:24    <DIR>          .\n",
      "23/06/2020  09:24    <DIR>          ..\n",
      "21/06/2020  17:51    <DIR>          .ipynb_checkpoints\n",
      "14/06/2020  02:08            30.141 data_mrcado.xlsx\n",
      "21/06/2020  18:15            11.280 data_mrcado_mensual.xlsx\n",
      "23/06/2020  09:24           108.730 Markowitz_portafolio.ipynb\n",
      "21/06/2020  18:09                 0 PortfolioOptimizer.py\n",
      "23/06/2020  09:08            34.491 stocks m.xlsx\n",
      "               5 archivos        184.642 bytes\n",
      "               3 dirs  87.342.616.576 bytes libres\n"
     ]
    }
   ],
   "source": [
    "ls"
   ]
  },
  {
   "cell_type": "code",
   "execution_count": 126,
   "metadata": {},
   "outputs": [],
   "source": [
    "data = pd.read_excel('stocks m.xlsx').set_index('Date')"
   ]
  },
  {
   "cell_type": "code",
   "execution_count": 127,
   "metadata": {},
   "outputs": [],
   "source": [
    "data.drop('AMZ',axis=1,inplace=True)"
   ]
  },
  {
   "cell_type": "code",
   "execution_count": 128,
   "metadata": {},
   "outputs": [],
   "source": [
    "data.drop(['ADBE'],axis=1,inplace=True)"
   ]
  },
  {
   "cell_type": "code",
   "execution_count": 109,
   "metadata": {},
   "outputs": [],
   "source": []
  },
  {
   "cell_type": "code",
   "execution_count": 129,
   "metadata": {},
   "outputs": [],
   "source": [
    "n_periodos = 252"
   ]
  },
  {
   "cell_type": "code",
   "execution_count": 130,
   "metadata": {},
   "outputs": [],
   "source": [
    "num_columns = len(data.columns)\n",
    "#Estos weights deben estar en porcentajes\n",
    "initial_weights = np.full(shape=num_columns, fill_value = (1/num_columns))"
   ]
  },
  {
   "cell_type": "code",
   "execution_count": 131,
   "metadata": {},
   "outputs": [
    {
     "data": {
      "text/plain": [
       "array([0.143, 0.143, 0.143, 0.143, 0.143, 0.143, 0.143])"
      ]
     },
     "execution_count": 131,
     "metadata": {},
     "output_type": "execute_result"
    }
   ],
   "source": [
    "initial_weights"
   ]
  },
  {
   "cell_type": "code",
   "execution_count": 132,
   "metadata": {},
   "outputs": [],
   "source": [
    "data_portfolio = data.copy()\n",
    "data_portfolio['Portfolio'] = np.dot(data_portfolio, initial_weights)\n",
    "data_pct_change = data_portfolio.pct_change().dropna()\n",
    "#Creo arrays de Rendimiento diario, anual, dsv_diaria, dsv_anual y sharpe. \n",
    "amount = 1000000\n",
    "risk_free_rate = 0.0068"
   ]
  },
  {
   "cell_type": "code",
   "execution_count": 133,
   "metadata": {},
   "outputs": [],
   "source": [
    "matrix_info = pd.DataFrame({'Rend_diario': data_pct_change.agg('mean'),\n",
    "             'Rend_anual': (1 + data_pct_change.agg('mean'))**n_periodos - 1,\n",
    "             'desv_diaria': data_pct_change.agg('std'),\n",
    "             'desv_anual': data_pct_change.agg('std')*np.sqrt(n_periodos)})\n",
    "\n",
    "matrix_info['sharpe_ratio'] = (matrix_info['Rend_anual'] - risk_free_rate)/matrix_info['desv_anual']"
   ]
  },
  {
   "cell_type": "code",
   "execution_count": 134,
   "metadata": {},
   "outputs": [
    {
     "data": {
      "text/html": [
       "<div>\n",
       "<style scoped>\n",
       "    .dataframe tbody tr th:only-of-type {\n",
       "        vertical-align: middle;\n",
       "    }\n",
       "\n",
       "    .dataframe tbody tr th {\n",
       "        vertical-align: top;\n",
       "    }\n",
       "\n",
       "    .dataframe thead th {\n",
       "        text-align: right;\n",
       "    }\n",
       "</style>\n",
       "<table border=\"1\" class=\"dataframe\">\n",
       "  <thead>\n",
       "    <tr style=\"text-align: right;\">\n",
       "      <th></th>\n",
       "      <th>BYD</th>\n",
       "      <th>VMW</th>\n",
       "      <th>LHX</th>\n",
       "      <th>LIN</th>\n",
       "      <th>XOM</th>\n",
       "      <th>AAPL</th>\n",
       "      <th>DIS</th>\n",
       "      <th>Portfolio</th>\n",
       "    </tr>\n",
       "  </thead>\n",
       "  <tbody>\n",
       "    <tr>\n",
       "      <th>Rend_diario</th>\n",
       "      <td>0.000605</td>\n",
       "      <td>-0.000260</td>\n",
       "      <td>0.000105</td>\n",
       "      <td>0.000466</td>\n",
       "      <td>-0.001358</td>\n",
       "      <td>0.002722</td>\n",
       "      <td>-0.000290</td>\n",
       "      <td>0.000550</td>\n",
       "    </tr>\n",
       "    <tr>\n",
       "      <th>Rend_anual</th>\n",
       "      <td>0.164705</td>\n",
       "      <td>-0.063487</td>\n",
       "      <td>0.026897</td>\n",
       "      <td>0.124605</td>\n",
       "      <td>-0.289914</td>\n",
       "      <td>0.983572</td>\n",
       "      <td>-0.070379</td>\n",
       "      <td>0.148665</td>\n",
       "    </tr>\n",
       "    <tr>\n",
       "      <th>desv_diaria</th>\n",
       "      <td>0.056593</td>\n",
       "      <td>0.028759</td>\n",
       "      <td>0.025002</td>\n",
       "      <td>0.023137</td>\n",
       "      <td>0.028836</td>\n",
       "      <td>0.025436</td>\n",
       "      <td>0.027548</td>\n",
       "      <td>0.021835</td>\n",
       "    </tr>\n",
       "    <tr>\n",
       "      <th>desv_anual</th>\n",
       "      <td>0.898379</td>\n",
       "      <td>0.456541</td>\n",
       "      <td>0.396898</td>\n",
       "      <td>0.367282</td>\n",
       "      <td>0.457752</td>\n",
       "      <td>0.403777</td>\n",
       "      <td>0.437304</td>\n",
       "      <td>0.346624</td>\n",
       "    </tr>\n",
       "    <tr>\n",
       "      <th>sharpe_ratio</th>\n",
       "      <td>0.175766</td>\n",
       "      <td>-0.153956</td>\n",
       "      <td>0.050636</td>\n",
       "      <td>0.320747</td>\n",
       "      <td>-0.648199</td>\n",
       "      <td>2.419085</td>\n",
       "      <td>-0.176488</td>\n",
       "      <td>0.409275</td>\n",
       "    </tr>\n",
       "  </tbody>\n",
       "</table>\n",
       "</div>"
      ],
      "text/plain": [
       "                   BYD       VMW       LHX      LIN        XOM      AAPL  \\\n",
       "Rend_diario   0.000605 -0.000260  0.000105  0.000466 -0.001358  0.002722   \n",
       "Rend_anual    0.164705 -0.063487  0.026897  0.124605 -0.289914  0.983572   \n",
       "desv_diaria   0.056593  0.028759  0.025002  0.023137  0.028836  0.025436   \n",
       "desv_anual    0.898379  0.456541  0.396898  0.367282  0.457752  0.403777   \n",
       "sharpe_ratio  0.175766 -0.153956  0.050636  0.320747 -0.648199  2.419085   \n",
       "\n",
       "                   DIS  Portfolio  \n",
       "Rend_diario  -0.000290   0.000550  \n",
       "Rend_anual   -0.070379   0.148665  \n",
       "desv_diaria   0.027548   0.021835  \n",
       "desv_anual    0.437304   0.346624  \n",
       "sharpe_ratio -0.176488   0.409275  "
      ]
     },
     "execution_count": 134,
     "metadata": {},
     "output_type": "execute_result"
    }
   ],
   "source": [
    "matrix_info.T"
   ]
  },
  {
   "cell_type": "markdown",
   "metadata": {},
   "source": [
    "**Optimización del Portafolio**"
   ]
  },
  {
   "cell_type": "code",
   "execution_count": 135,
   "metadata": {},
   "outputs": [],
   "source": [
    "#retornos\n",
    "returns = data_pct_change.drop('Portfolio',axis=1) #porcentaje\n",
    "cov_matrix = returns.cov() \n",
    "media_retornos = returns.mean() #tambien en porcentaje"
   ]
  },
  {
   "cell_type": "code",
   "execution_count": 136,
   "metadata": {},
   "outputs": [],
   "source": [
    "def performance_anualizado_portafolio(weights, media_retornos, cov_matrix):\n",
    "    \"\"\"\n",
    "    Me dará los retornos totales de mi portafolio, junto a la desv_standar del mismo\n",
    "    \"\"\"\n",
    "    retornos_totales = np.sum(media_retornos*weights) * 252 #La media de retornos al día, por 252 días.\n",
    "    desv_std = np.sqrt(np.dot(weights.T, np.dot(cov_matrix, weights))) * np.sqrt(252) #Tengo la dsv stand del portafolio\n",
    "    return desv_std, retornos_totales"
   ]
  },
  {
   "cell_type": "code",
   "execution_count": 137,
   "metadata": {},
   "outputs": [],
   "source": [
    "def neg_sharpe_ratio(weights,media_retornos, cov_matrix, risk_free_rate):\n",
    "    desv_standar_portafolio, retornos_portafolio = performance_anualizado_portafolio(weights, media_retornos, cov_matrix) #Obtengo la desv y retornos totales\n",
    "    return -(retornos_portafolio - risk_free_rate)/desv_standar_portafolio"
   ]
  },
  {
   "cell_type": "code",
   "execution_count": 147,
   "metadata": {},
   "outputs": [],
   "source": [
    "def max_sharpe(media_retornos, cov_matrix, risk_free_rate):\n",
    "    \"\"\"\n",
    "    Función de maximización para el ratio de Sharpe\n",
    "    \"\"\"\n",
    "    num_acciones = len(media_retornos)\n",
    "    args = (media_retornos, cov_matrix, risk_free_rate)\n",
    "    restricciones = ({'type':'eq','fun':lambda x: np.sum(x)-1}) #Esta es la restricción para que los pesos sumen 1\n",
    "    limite = (0.0,1.0) #Los limites de los valores de los pesos.\n",
    "    limites = tuple(limite for accion in range(num_acciones)) #creo N limites\n",
    "    result = sco.minimize(neg_sharpe_ratio, initial_weights, args=args,\n",
    "                         method='SLSQP',bounds=limites, constraints=restricciones)\n",
    "    return result\n",
    "\n",
    "def volatilidad_portafolio(weights, media_retornos, cov_matrix):\n",
    "    return performance_anualizado_portafolio(weights, media_retornos, cov_matrix)[0]\n",
    "\n",
    "def retorno_portafolio(weights, media_retornos, cov_matrix):\n",
    "    return performance_anualizado_portafolio(weights, media_retornos, cov_matrix)[1]\n",
    "\n",
    "def neg_retorno_portafolio(weights, media_retornos, cov_matrix):\n",
    "    return -performance_anualizado_portafolio(weights, media_retornos, cov_matrix)[1]\n",
    "\n",
    "def varianza_minima(media_retornos, cov_matrix):\n",
    "    \"\"\"\n",
    "    Función de minimización de varianza del portafolio.\n",
    "    \"\"\"\n",
    "    num_acciones = len(media_retornos)\n",
    "    args = (media_retornos, cov_matrix)\n",
    "    restricciones = ({'type':'eq','fun': lambda x: np.sum(x) - 1})\n",
    "    limite = (0.0, 1.0)\n",
    "    limites = tuple(limite for asset in range(num_acciones))\n",
    "    \n",
    "    result_min_varianza = sco.minimize(volatilidad_portafolio, num_acciones*[1./num_acciones,], args=args,\n",
    "                                     method='SLSQP',bounds=limites,constraints = restricciones)\n",
    "    return result_min_varianza\n",
    "\n",
    "def max_rentabilidad(media_retornos, cov_matrix):\n",
    "    \"\"\"\n",
    "    Función de maximización del retorno\n",
    "    \"\"\"\n",
    "    num_acciones = len(media_retornos)\n",
    "    args = (media_retornos, cov_matrix)\n",
    "    restricciones = ({'type':'eq','fun': lambda x: np.sum(x) - 1})\n",
    "    limite = (0.0, 1.0)\n",
    "    limites = tuple(limite for asset in range(num_acciones))\n",
    "    \n",
    "    result_max_retorno = sco.minimize(neg_retorno_portafolio, num_acciones*[1./num_acciones,], args=args,\n",
    "                                     method='SLSQP',bounds = limites,constraints=restricciones)\n",
    "    return result_max_retorno"
   ]
  },
  {
   "cell_type": "code",
   "execution_count": 148,
   "metadata": {},
   "outputs": [
    {
     "data": {
      "text/plain": [
       "     fun: -0.6858307552014136\n",
       "     jac: array([-0.153, 0.066, -0.027, -0.117, 0.342, -0.686, 0.073])\n",
       " message: 'Optimization terminated successfully.'\n",
       "    nfev: 27\n",
       "     nit: 3\n",
       "    njev: 3\n",
       "  status: 0\n",
       " success: True\n",
       "       x: array([0.000, 0.000, 0.000, 0.000, 0.000, 1.000, 0.000])"
      ]
     },
     "execution_count": 148,
     "metadata": {},
     "output_type": "execute_result"
    }
   ],
   "source": [
    "max_rentabilidad(media_retornos, cov_matrix)"
   ]
  },
  {
   "cell_type": "code",
   "execution_count": 149,
   "metadata": {},
   "outputs": [
    {
     "data": {
      "text/plain": [
       "array([0.000, 0.132, 0.329, 0.391, 0.008, 0.065, 0.074])"
      ]
     },
     "execution_count": 149,
     "metadata": {},
     "output_type": "execute_result"
    }
   ],
   "source": [
    "#Hallando el portafolio con mínima varianza:\n",
    "resultados_pesos_min_var = varianza_minima(media_retornos, cov_matrix)\n",
    "resultados_pesos_min_var.x"
   ]
  },
  {
   "cell_type": "code",
   "execution_count": 150,
   "metadata": {},
   "outputs": [
    {
     "data": {
      "text/plain": [
       "array([0.000, 0.000, 0.000, 0.000, 0.000, 1.000, 0.000])"
      ]
     },
     "execution_count": 150,
     "metadata": {},
     "output_type": "execute_result"
    }
   ],
   "source": [
    "#Hallando el ratio de Sharpe\n",
    "resultados_pesos_max_sharpe = max_sharpe(media_retornos, cov_matrix, risk_free_rate).x\n",
    "resultados_pesos_max_sharpe"
   ]
  },
  {
   "cell_type": "markdown",
   "metadata": {},
   "source": [
    "##### Ahora intentemos graficar el portafolio con máximo ratio de sharpe"
   ]
  },
  {
   "cell_type": "code",
   "execution_count": 151,
   "metadata": {},
   "outputs": [],
   "source": [
    "#Haremos primero las funciones para ubicar la frontera eficiente.\n",
    "\n",
    "def retornos_eficientes(media_retornos, cov_matrix, target):\n",
    "    num_acciones = len(media_retornos)\n",
    "    args = (media_retornos, cov_matrix)\n",
    "    \n",
    "    #Acá la restricción es el retorno del portafolio, pero con \n",
    "    restricciones = ({'type':'eq','fun': lambda x: retorno_portafolio(x, media_retornos, cov_matrix) - target},\n",
    "                    {'type':'eq', 'fun': lambda x: np.sum(x) - 1})\n",
    "    \n",
    "    limites = tuple((0,1) for accion in range(num_acciones))\n",
    "    \n",
    "    retornos_eficientes = sco.minimize(volatilidad_portafolio, num_acciones*[1./num_acciones,], args = args, method='SLSQP', bounds = limites, constraints=restricciones)\n",
    "    \n",
    "    return retornos_eficientes\n",
    "\n",
    "def frontera_eficiente(media_retornos, cov_matrix, rango_retornos):\n",
    "    \"\"\"\n",
    "    Esta función me va a calcular varios portafolios eficientes en un dentro de un rango retornos requerido.\n",
    "    Recuerda que el rango de retornos máximo, será el portafolio que me de más rentabilidad. Por lo tanto, tendré también que optimizar c/r a la rentabilidad.\n",
    "    \"\"\"\n",
    "    eficientes = []\n",
    "    for retorno in rango_retornos:\n",
    "        eficientes.append(retornos_eficientes(media_retornos, cov_matrix, retorno))\n",
    "    return eficientes"
   ]
  },
  {
   "cell_type": "code",
   "execution_count": 156,
   "metadata": {},
   "outputs": [],
   "source": [
    "def frontera_eficiente_sharpe_var(media_retornos, cov_matrix, risk_free_rate,data):\n",
    "    \n",
    "    #----------------------------Optimizaciones-------------------------\n",
    "    sharpe_maximo = max_sharpe(media_retornos, cov_matrix, risk_free_rate)\n",
    "    sharpe_dsv, sharpe_retornos = performance_anualizado_portafolio(weights=sharpe_maximo['x'], #Los weights serán los valores que me botan la maximización\n",
    "                                                                    media_retornos = media_retornos, cov_matrix = cov_matrix)\n",
    "    sharpe_max_posicion = pd.DataFrame(sharpe_maximo['x'], index = data.columns, columns=['Posicion'])\n",
    "    sharpe_max_posicion['Posicion'] = [round(i*100,2) for i in sharpe_max_posicion['Posicion']]\n",
    "    sharpe_max_posicion = sharpe_max_posicion.T\n",
    "    print('Optimizando Ratio de Sharpe:')\n",
    "    print(sharpe_max_posicion*(800000/100))\n",
    "    \n",
    "    volat_min = varianza_minima(media_retornos, cov_matrix)\n",
    "    dsv_min_var, dsv_min_retornos = performance_anualizado_portafolio(weights=volat_min['x'], media_retornos=media_retornos, cov_matrix=cov_matrix)\n",
    "    volat_min_posicion = pd.DataFrame(volat_min['x'], index=data.columns, columns=['Posicion'])\n",
    "    volat_min_posicion['Posicion'] = [round(i*100,2) for i in volat_min_posicion['Posicion']]\n",
    "    volat_min_posicion = volat_min_posicion.T\n",
    "    print('-------------------------------------------------------------------------------------')\n",
    "    print('Minimizando Varianza, según nuestro portafolio')\n",
    "    print(volat_min_posicion*(800000/100))\n",
    "    max_retorno = max_rentabilidad(media_retornos, cov_matrix)\n",
    "    dsv_max_retorno, total_retorno_max = performance_anualizado_portafolio(weights=max_retorno['x'], media_retornos = media_retornos, cov_matrix=cov_matrix)\n",
    "    max_retorno_posicion = pd.DataFrame(max_retorno['x'], index=data.columns, columns=['Posicion'])\n",
    "    max_retorno_posicion['Posicion'] = [round(i*100,2) for i in max_retorno_posicion['Posicion']]\n",
    "    max_retorno_posicion = max_retorno_posicion.T\n",
    "    print('-------------------GA----------------------------------------------------------------')\n",
    "    print('MAx rentabilidad')\n",
    "    print(max_retorno_posicion*(800000/100))\n",
    "    cambio_pct_stocks = data.pct_change()\n",
    "    retornos_medios_stocks = cambio_pct_stocks.mean()\n",
    "    volatilidad_anual_stocks = np.std(cambio_pct_stocks) * np.sqrt(252)\n",
    "    retornos_anual = media_retornos * 252\n",
    "    \n",
    "    #Ahora hacemos la figura\n",
    "    fig, ax = plt.subplots(figsize=(10,7))\n",
    "    ax.scatter(volatilidad_anual_stocks, retornos_anual, marker='o',s=200)\n",
    "    \n",
    "    #Pongo los nombres a cada uno de los puntos.\n",
    "    for i, txt in enumerate(data.columns):\n",
    "        ax.annotate(txt, (volatilidad_anual_stocks[i], retornos_anual[i]), xytext=(10,0), textcoords='offset points')\n",
    "    \n",
    "    #Gráficos de max_sharpe y varianza minima\n",
    "    ax.scatter(sharpe_dsv, sharpe_retornos, marker='*', color='r',s=500, label='Maximo Ratios de Sharpe')\n",
    "    ax.scatter(dsv_min_var, dsv_min_retornos, marker='*', color='g',s=500, label='Minima Volatilidad')\n",
    "    print(total_retorno_max)\n",
    "    #Ajustamos la máxima volatilidad de algún stock para el gráfico.\n",
    "    target = np.linspace(dsv_min_retornos, total_retorno_max, 50) #Esta linea me va a generar un array de 50 muestras con límite de portafolio de máxima rentabilidad.\n",
    "    \n",
    "    portafolios_eficientes = frontera_eficiente(media_retornos, cov_matrix, target)\n",
    "    \n",
    "    #Grafico todos los portafolios eficientes.\n",
    "    ax.plot([p['fun'] for p in portafolios_eficientes], target, linestyle='-.', color='black', label='frontera eficiente')\n",
    "    \n",
    "    ax.set_title('Optimización de Portafolio')\n",
    "    ax.set_xlabel('Volatilidad Anualizada')\n",
    "    ax.set_ylabel('Retornos Anualizados')\n",
    "    ax.legend(labelspacing=0.8)"
   ]
  },
  {
   "cell_type": "code",
   "execution_count": 157,
   "metadata": {},
   "outputs": [
    {
     "name": "stdout",
     "output_type": "stream",
     "text": [
      "Optimizando Ratio de Sharpe:\n",
      "          BYD  VMW  LHX  LIN   XOM      AAPL  DIS\n",
      "Posicion  0.0  0.0  0.0   0.0  0.0  800000.0  0.0\n",
      "-------------------------------------------------------------------------------------\n",
      "Minimizando Varianza, según nuestro portafolio\n",
      "          BYD       VMW       LHX      LIN      XOM     AAPL      DIS\n",
      "Posicion  0.0  105760.0  263520.0  312640.0  6560.0  52080.0  59360.0\n",
      "-------------------GA----------------------------------------------------------------\n",
      "MAx rentabilidad\n",
      "          BYD  VMW  LHX  LIN   XOM      AAPL  DIS\n",
      "Posicion  0.0  0.0  0.0   0.0  0.0  800000.0  0.0\n",
      "0.6858307552014136\n"
     ]
    },
    {
     "data": {
      "image/png": "[encoded data removed]",
      "text/plain": [
       "<Figure size 720x504 with 1 Axes>"
      ]
     },
     "metadata": {
      "image/png": {
       "height": 441,
       "width": 684
      },
      "needs_background": "light"
     },
     "output_type": "display_data"
    }
   ],
   "source": [
    "frontera_eficiente_sharpe_var(media_retornos, cov_matrix, risk_free_rate,data)"
   ]
  },
  {
   "cell_type": "code",
   "execution_count": null,
   "metadata": {},
   "outputs": [],
   "source": []
  },
  {
   "cell_type": "code",
   "execution_count": null,
   "metadata": {},
   "outputs": [],
   "source": []
  },
  {
   "cell_type": "code",
   "execution_count": null,
   "metadata": {},
   "outputs": [],
   "source": []
  },
  {
   "cell_type": "code",
   "execution_count": null,
   "metadata": {},
   "outputs": [],
   "source": []
  },
  {
   "cell_type": "code",
   "execution_count": null,
   "metadata": {},
   "outputs": [],
   "source": []
  },
  {
   "cell_type": "code",
   "execution_count": null,
   "metadata": {},
   "outputs": [],
   "source": []
  },
  {
   "cell_type": "code",
   "execution_count": null,
   "metadata": {},
   "outputs": [],
   "source": []
  },
  {
   "cell_type": "code",
   "execution_count": null,
   "metadata": {},
   "outputs": [],
   "source": []
  },
  {
   "cell_type": "code",
   "execution_count": null,
   "metadata": {},
   "outputs": [],
   "source": []
  },
  {
   "cell_type": "code",
   "execution_count": null,
   "metadata": {},
   "outputs": [],
   "source": []
  }
 ],
 "metadata": {
  "kernelspec": {
   "display_name": "Python 3",
   "language": "python",
   "name": "python3"
  },
  "language_info": {
   "codemirror_mode": {
    "name": "ipython",
    "version": 3
   },
   "file_extension": ".py",
   "mimetype": "text/x-python",
   "name": "python",
   "nbconvert_exporter": "python",
   "pygments_lexer": "ipython3",
   "version": "3.7.5"
  }
 },
 "nbformat": 4,
 "nbformat_minor": 4
}
