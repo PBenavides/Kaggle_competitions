{
 "cells": [
  {
   "cell_type": "code",
   "execution_count": 54,
   "metadata": {},
   "outputs": [],
   "source": [
    "import pandas as pd\n",
    "import numpy as np\n",
    "import matplotlib.pyplot as plt\n",
    "import scipy.optimize as sco\n",
    "\n",
    "#Config\n",
    "np.set_printoptions(formatter={'float': lambda x: \"{0:0.3f}\".format(x)})\n",
    "plt.style.use('fivethirtyeight')\n",
    "#np.random.seed(777)\n",
    "%matplotlib inline\n",
    "%config InlineBackend.figure_format = 'retina'"
   ]
  },
  {
   "cell_type": "code",
   "execution_count": 55,
   "metadata": {},
   "outputs": [
    {
     "data": {
      "text/html": [
       "<div>\n",
       "<style scoped>\n",
       "    .dataframe tbody tr th:only-of-type {\n",
       "        vertical-align: middle;\n",
       "    }\n",
       "\n",
       "    .dataframe tbody tr th {\n",
       "        vertical-align: top;\n",
       "    }\n",
       "\n",
       "    .dataframe thead th {\n",
       "        text-align: right;\n",
       "    }\n",
       "</style>\n",
       "<table border=\"1\" class=\"dataframe\">\n",
       "  <thead>\n",
       "    <tr style=\"text-align: right;\">\n",
       "      <th></th>\n",
       "      <th>AMZN</th>\n",
       "      <th>MSFT</th>\n",
       "      <th>NVDA</th>\n",
       "      <th>NFLX</th>\n",
       "      <th>V</th>\n",
       "      <th>AAPL</th>\n",
       "      <th>GOOGL</th>\n",
       "    </tr>\n",
       "    <tr>\n",
       "      <th>Date</th>\n",
       "      <th></th>\n",
       "      <th></th>\n",
       "      <th></th>\n",
       "      <th></th>\n",
       "      <th></th>\n",
       "      <th></th>\n",
       "      <th></th>\n",
       "    </tr>\n",
       "  </thead>\n",
       "  <tbody>\n",
       "    <tr>\n",
       "      <th>2019-06-11</th>\n",
       "      <td>1863.699951</td>\n",
       "      <td>130.494232</td>\n",
       "      <td>150.331329</td>\n",
       "      <td>351.269989</td>\n",
       "      <td>169.251297</td>\n",
       "      <td>192.512451</td>\n",
       "      <td>1081.040039</td>\n",
       "    </tr>\n",
       "    <tr>\n",
       "      <th>2019-06-12</th>\n",
       "      <td>1855.319946</td>\n",
       "      <td>129.891647</td>\n",
       "      <td>145.793976</td>\n",
       "      <td>345.559998</td>\n",
       "      <td>170.523346</td>\n",
       "      <td>191.899780</td>\n",
       "      <td>1079.099976</td>\n",
       "    </tr>\n",
       "    <tr>\n",
       "      <th>2019-06-13</th>\n",
       "      <td>1870.300049</td>\n",
       "      <td>130.711548</td>\n",
       "      <td>147.848221</td>\n",
       "      <td>343.429993</td>\n",
       "      <td>168.297272</td>\n",
       "      <td>191.860229</td>\n",
       "      <td>1091.010010</td>\n",
       "    </tr>\n",
       "  </tbody>\n",
       "</table>\n",
       "</div>"
      ],
      "text/plain": [
       "                   AMZN        MSFT        NVDA        NFLX           V  \\\n",
       "Date                                                                      \n",
       "2019-06-11  1863.699951  130.494232  150.331329  351.269989  169.251297   \n",
       "2019-06-12  1855.319946  129.891647  145.793976  345.559998  170.523346   \n",
       "2019-06-13  1870.300049  130.711548  147.848221  343.429993  168.297272   \n",
       "\n",
       "                  AAPL        GOOGL  \n",
       "Date                                 \n",
       "2019-06-11  192.512451  1081.040039  \n",
       "2019-06-12  191.899780  1079.099976  \n",
       "2019-06-13  191.860229  1091.010010  "
      ]
     },
     "execution_count": 55,
     "metadata": {},
     "output_type": "execute_result"
    }
   ],
   "source": [
    "data = pd.read_excel('data_mrcado.xlsx').set_index('Date')\n",
    "data.head(3)"
   ]
  },
  {
   "cell_type": "code",
   "execution_count": null,
   "metadata": {},
   "outputs": [],
   "source": []
  },
  {
   "cell_type": "code",
   "execution_count": 57,
   "metadata": {},
   "outputs": [],
   "source": [
    "num_columns = len(data.columns)\n",
    "#Estos weights deben estar en porcentajes\n",
    "initial_weights = np.full(shape=num_columns, fill_value = (1/num_columns))"
   ]
  },
  {
   "cell_type": "code",
   "execution_count": 58,
   "metadata": {},
   "outputs": [
    {
     "data": {
      "text/plain": [
       "array([0.143, 0.143, 0.143, 0.143, 0.143, 0.143, 0.143])"
      ]
     },
     "execution_count": 58,
     "metadata": {},
     "output_type": "execute_result"
    }
   ],
   "source": [
    "initial_weights"
   ]
  },
  {
   "cell_type": "code",
   "execution_count": 59,
   "metadata": {},
   "outputs": [],
   "source": [
    "data_portfolio = data.copy()\n",
    "data_portfolio['Portfolio'] = np.dot(data_portfolio, initial_weights)\n",
    "data_pct_change = data_portfolio.pct_change().dropna()\n",
    "#Creo arrays de Rendimiento diario, anual, dsv_diaria, dsv_anual y sharpe. \n",
    "amount = 1000000\n",
    "risk_free_rate = 0.0068"
   ]
  },
  {
   "cell_type": "code",
   "execution_count": 60,
   "metadata": {},
   "outputs": [],
   "source": [
    "matrix_info = pd.DataFrame({'Rend_diario': data_pct_change.agg('mean'),\n",
    "             'Rend_anual': (1 + data_pct_change.agg('mean'))**252 - 1,\n",
    "             'desv_diaria': data_pct_change.agg('std'),\n",
    "             'desv_anual': data_pct_change.agg('std')*np.sqrt(252)})\n",
    "\n",
    "matrix_info['sharpe_ratio'] = (matrix_info['Rend_anual'] - risk_free_rate)/matrix_info['desv_anual']"
   ]
  },
  {
   "cell_type": "markdown",
   "metadata": {},
   "source": [
    "**Del Portafolio**\n",
    "\n",
    "Ahora, como tengo que hacer markowitz. Necesito definir: \n",
    "\n",
    "1.- El vector de pesos.\n",
    "\n",
    "2.- La media de retornos.\n",
    "\n",
    "3.- La matriz de covarianza.\n",
    "\n",
    "4.- La tasa libre de riesgo.\n",
    "\n",
    "5.- La función del Ratio de Sharpe.\n",
    "\n",
    "6.- La función de maximización del ratio de sharpe. \n",
    "\n",
    "7- La volatilidad del portafolio, con la funcion que me dé el performance anualizado del portafolio.\n",
    "\n",
    "8.- La función que me de los pesos que den el portafolio de mínima varianza.\n",
    "\n",
    "9.- La función que me de los pesos que den el portafolio de máxima rentabilidad"
   ]
  },
  {
   "cell_type": "code",
   "execution_count": 61,
   "metadata": {},
   "outputs": [],
   "source": [
    "#retornos\n",
    "returns = data_pct_change.drop('Portfolio',axis=1) #porcentaje\n",
    "cov_matrix = returns.cov() \n",
    "media_retornos = returns.mean() #tambien en porcentaje"
   ]
  },
  {
   "cell_type": "code",
   "execution_count": 62,
   "metadata": {},
   "outputs": [],
   "source": [
    "def performance_anualizado_portafolio(weights, media_retornos, cov_matrix):\n",
    "    \"\"\"\n",
    "    Me dará los retornos totales de mi portafolio, junto a la desv_standar del mismo\n",
    "    \"\"\"\n",
    "    retornos_totales = np.sum(media_retornos*weights) * 252 #La media de retornos al día, por 252 días.\n",
    "    desv_std = np.sqrt(np.dot(weights.T, np.dot(cov_matrix, weights))) * np.sqrt(252) #Tengo la dsv stand del portafolio\n",
    "    return desv_std, retornos_totales"
   ]
  },
  {
   "cell_type": "code",
   "execution_count": 63,
   "metadata": {},
   "outputs": [],
   "source": [
    "def neg_sharpe_ratio(weights,media_retornos, cov_matrix, risk_free_rate):\n",
    "    desv_standar_portafolio, retornos_portafolio = performance_anualizado_portafolio(weights, media_retornos, cov_matrix) #Obtengo la desv y retornos totales\n",
    "    return -(retornos_portafolio - risk_free_rate)/desv_standar_portafolio"
   ]
  },
  {
   "cell_type": "code",
   "execution_count": 165,
   "metadata": {},
   "outputs": [],
   "source": [
    "def max_sharpe(media_retornos, cov_matrix, risk_free_rate):\n",
    "    \"\"\"\n",
    "    Función de maximización para el ratio de Sharpe\n",
    "    \"\"\"\n",
    "    num_acciones = len(media_retornos)\n",
    "    args = (media_retornos, cov_matrix, risk_free_rate)\n",
    "    restricciones = ({'type':'eq','fun':lambda x: np.sum(x)-1}) #Esta es la restricción para que los pesos sumen 1\n",
    "    limite = (0.0,1.0) #Los limites de los valores de los pesos.\n",
    "    limites = tuple(limite for accion in range(num_acciones)) #creo N limites\n",
    "    result = sco.minimize(neg_sharpe_ratio, initial_weights, args=args,\n",
    "                         method='SLSQP',bounds=limites, constraints=restricciones)\n",
    "    return result\n",
    "\n",
    "def volatilidad_portafolio(weights, media_retornos, cov_matrix):\n",
    "    return performance_anualizado_portafolio(weights, media_retornos, cov_matrix)[0]\n",
    "\n",
    "def retorno_portafolio(weights, media_retornos, cov_matrix):\n",
    "    return performance_anualizado_portafolio(weights, media_retornos, cov_matrix)[1]\n",
    "\n",
    "def neg_retorno_portafolio(weights, media_retornos, cov_matrix):\n",
    "    return -performance_anualizado_portafolio(weights, media_retornos, cov_matrix)[1]\n",
    "\n",
    "def varianza_minima(media_retornos, cov_matrix):\n",
    "    \"\"\"\n",
    "    Función de minimización de varianza del portafolio.\n",
    "    \"\"\"\n",
    "    num_acciones = len(media_retornos)\n",
    "    args = (media_retornos, cov_matrix)\n",
    "    restricciones = ({'type':'eq','fun': lambda x: np.sum(x) - 1})\n",
    "    limite = (0.0, 1.0)\n",
    "    limites = tuple(limite for asset in range(num_acciones))\n",
    "    \n",
    "    result_min_varianza = sco.minimize(volatilidad_portafolio, num_acciones*[1./num_acciones,], args=args,\n",
    "                                     method='SLSQP',bounds=limites,constraints = restricciones)\n",
    "    return result_min_varianza\n",
    "\n",
    "def max_rentabilidad(media_retornos, cov_matrix):\n",
    "    \"\"\"\n",
    "    Función de maximización del retorno\n",
    "    \"\"\"\n",
    "    num_acciones = len(media_retornos)\n",
    "    args = (media_retornos, cov_matrix)\n",
    "    restricciones = ({'type':'eq','fun': lambda x: np.sum(x) - 1})\n",
    "    limite = (0.0, 1.0)\n",
    "    limites = tuple(limite for asset in range(num_acciones))\n",
    "    \n",
    "    result_max_retorno = sco.minimize(neg_retorno_portafolio, num_acciones*[1./num_acciones,], args=args,\n",
    "                                     method='SLSQP',bounds=limites,constraints=restricciones)\n",
    "    return result_max_retorno"
   ]
  },
  {
   "cell_type": "code",
   "execution_count": 166,
   "metadata": {},
   "outputs": [
    {
     "data": {
      "text/plain": [
       "     fun: -1.0683868161970678\n",
       "     jac: array([-0.399, -0.490, -1.068, -0.298, -0.252, -0.686, -0.368])\n",
       " message: 'Optimization terminated successfully.'\n",
       "    nfev: 36\n",
       "     nit: 4\n",
       "    njev: 4\n",
       "  status: 0\n",
       " success: True\n",
       "       x: array([0.000, 0.000, 1.000, 0.000, 0.000, 0.000, 0.000])"
      ]
     },
     "execution_count": 166,
     "metadata": {},
     "output_type": "execute_result"
    }
   ],
   "source": [
    "max_rentabilidad(media_retornos, cov_matrix)"
   ]
  },
  {
   "cell_type": "code",
   "execution_count": 65,
   "metadata": {},
   "outputs": [
    {
     "data": {
      "text/plain": [
       "array([0.658, 0.000, 0.000, 0.077, 0.155, 0.000, 0.109])"
      ]
     },
     "execution_count": 65,
     "metadata": {},
     "output_type": "execute_result"
    }
   ],
   "source": [
    "#Hallando el portafolio con mínima varianza:\n",
    "resultados_pesos_min_var = varianza_minima(media_retornos, cov_matrix)\n",
    "resultados_pesos_min_var.x"
   ]
  },
  {
   "cell_type": "code",
   "execution_count": 66,
   "metadata": {},
   "outputs": [
    {
     "data": {
      "text/plain": [
       "array([0.000, 0.000, 0.686, 0.000, 0.000, 0.314, 0.000])"
      ]
     },
     "execution_count": 66,
     "metadata": {},
     "output_type": "execute_result"
    }
   ],
   "source": [
    "#Hallando el ratio de Sharpe\n",
    "resultados_pesos_max_sharpe = max_sharpe(media_retornos, cov_matrix, risk_free_rate).x\n",
    "resultados_pesos_max_sharpe"
   ]
  },
  {
   "cell_type": "markdown",
   "metadata": {},
   "source": [
    "##### Ahora intentemos graficar el portafolio con máximo ratio de sharpe"
   ]
  },
  {
   "cell_type": "code",
   "execution_count": 108,
   "metadata": {},
   "outputs": [],
   "source": [
    "#Haremos primero las funciones para ubicar la frontera eficiente.\n",
    "\n",
    "def retornos_eficientes(media_retornos, cov_matrix, target):\n",
    "    num_acciones = len(media_retornos)\n",
    "    args = (media_retornos, cov_matrix)\n",
    "    \n",
    "    #Acá la restricción es el retorno del portafolio, pero con \n",
    "    restricciones = ({'type':'eq','fun': lambda x: retorno_portafolio(x, media_retornos, cov_matrix) - target},\n",
    "                    {'type':'eq', 'fun': lambda x: np.sum(x) - 1})\n",
    "    \n",
    "    limites = tuple((0,1) for accion in range(num_acciones))\n",
    "    \n",
    "    retornos_eficientes = sco.minimize(volatilidad_portafolio, num_acciones*[1./num_acciones,], args = args, method='SLSQP', bounds = limites, constraints=restricciones)\n",
    "    \n",
    "    return retornos_eficientes\n",
    "\n",
    "def frontera_eficiente(media_retornos, cov_matrix, rango_retornos):\n",
    "    \"\"\"\n",
    "    Esta función me va a calcular varios portafolios eficientes en un dentro de un rango retornos requerido.\n",
    "    Recuerda que el rango de retornos máximo, será el portafolio que me de más rentabilidad. Por lo tanto, tendré también que optimizar c/r a la rentabilidad.\n",
    "    \"\"\"\n",
    "    eficientes = []\n",
    "    for retorno in rango_retornos:\n",
    "        eficientes.append(retornos_eficientes(media_retornos, cov_matrix, retorno))\n",
    "    return eficientes"
   ]
  },
  {
   "cell_type": "code",
   "execution_count": 176,
   "metadata": {},
   "outputs": [],
   "source": [
    "def frontera_eficiente_sharpe_var(media_retornos, cov_matrix, risk_free_rate,data):\n",
    "    \n",
    "    #----------------------------Optimizaciones-------------------------\n",
    "    sharpe_maximo = max_sharpe(media_retornos, cov_matrix, risk_free_rate)\n",
    "    sharpe_dsv, sharpe_retornos = performance_anualizado_portafolio(weights=sharpe_maximo['x'], #Los weights serán los valores que me botan la maximización\n",
    "                                                                    media_retornos = media_retornos, cov_matrix = cov_matrix)\n",
    "    sharpe_max_posicion = pd.DataFrame(sharpe_maximo['x'], index = data.columns, columns=['Posicion'])\n",
    "    sharpe_max_posicion['Posicion'] = [round(i*100,2) for i in sharpe_max_posicion['Posicion']]\n",
    "    sharpe_max_posicion = sharpe_max_posicion.T\n",
    "    \n",
    "    volat_min = varianza_minima(media_retornos, cov_matrix)\n",
    "    dsv_min_var, dsv_min_retornos = performance_anualizado_portafolio(weights=volat_min['x'], media_retornos=media_retornos, cov_matrix=cov_matrix)\n",
    "    volat_min_posicion = pd.DataFrame(volat_min['x'], index=data.columns, columns=['Posicion'])\n",
    "    volat_min_posicion['Posicion'] = [round(i*100,2) for i in volat_min_posicion['Posicion']]\n",
    "    volat_min_posicion = volat_min_posicion.T\n",
    "    \n",
    "    max_retorno = max_rentabilidad(media_retornos, cov_matrix)\n",
    "    dsv_max_retorno, total_retorno_max = performance_anualizado_portafolio(weights=max_retorno['x'], media_retornos = media_retornos, cov_matrix=cov_matrix)\n",
    "    max_retorno_posicion = pd.DataFrame(max_retorno['x'], index=data.columns, columns=['Posicion'])\n",
    "    max_retorno_posicion['Posicion'] = [round(i*100,2) for i in max_retorno_posicion['Posicion']]\n",
    "    max_retorno_posicion = max_retorno_posicion.T\n",
    "    \n",
    "    cambio_pct_stocks = data.pct_change()\n",
    "    retornos_medios_stocks = cambio_pct_stocks.mean()\n",
    "    volatilidad_anual_stocks = np.std(cambio_pct_stocks) * np.sqrt(252)\n",
    "    retornos_anual = media_retornos * 252\n",
    "    \n",
    "    #Ahora hacemos la figura\n",
    "    fig, ax = plt.subplots(figsize=(10,7))\n",
    "    ax.scatter(volatilidad_anual_stocks, retornos_anual, marker='o',s=200)\n",
    "    \n",
    "    #Pongo los nombres a cada uno de los puntos.\n",
    "    for i, txt in enumerate(data.columns):\n",
    "        ax.annotate(txt, (volatilidad_anual_stocks[i], retornos_anual[i]), xytext=(10,0), textcoords='offset points')\n",
    "    \n",
    "    #Gráficos de max_sharpe y varianza minima\n",
    "    ax.scatter(sharpe_dsv, sharpe_retornos, marker='*', color='r',s=500, label='Maximo Ratios de Sharpe')\n",
    "    ax.scatter(dsv_min_var, dsv_min_retornos, marker='*', color='g',s=500, label='Minima Volatilidad')\n",
    "    \n",
    "    #Ajustamos la máxima volatilidad de algún stock para el gráfico.\n",
    "    target = np.linspace(dsv_min_retornos, total_retorno_max, 50) #Esta linea me va a generar un array de 50 muestras con límite de portafolio de máxima rentabilidad.\n",
    "    \n",
    "    portafolios_eficientes = frontera_eficiente(media_retornos, cov_matrix, target)\n",
    "    \n",
    "    #Grafico todos los portafolios eficientes.\n",
    "    ax.plot([p['fun'] for p in portafolios_eficientes], target, linestyle='-.', color='black', label='frontera eficiente')\n",
    "    \n",
    "    ax.set_title('Optimización de Portafolio')\n",
    "    ax.set_xlabel('Volatilidad Anualizada')\n",
    "    ax.set_ylabel('Retornos Anualizados')\n",
    "    ax.legend(labelspacing=0.8)"
   ]
  },
  {
   "cell_type": "code",
   "execution_count": 179,
   "metadata": {},
   "outputs": [
    {
     "data": {
      "image/png": "[encoded data removed]",
      "text/plain": [
       "<Figure size 720x504 with 1 Axes>"
      ]
     },
     "metadata": {
      "image/png": {
       "height": 441,
       "width": 676
      },
      "needs_background": "light"
     },
     "output_type": "display_data"
    }
   ],
   "source": [
    "frontera_eficiente_sharpe_var(media_retornos, cov_matrix, risk_free_rate,data)"
   ]
  },
  {
   "cell_type": "code",
   "execution_count": null,
   "metadata": {},
   "outputs": [],
   "source": []
  },
  {
   "cell_type": "code",
   "execution_count": null,
   "metadata": {},
   "outputs": [],
   "source": []
  },
  {
   "cell_type": "code",
   "execution_count": null,
   "metadata": {},
   "outputs": [],
   "source": []
  },
  {
   "cell_type": "code",
   "execution_count": null,
   "metadata": {},
   "outputs": [],
   "source": []
  },
  {
   "cell_type": "code",
   "execution_count": null,
   "metadata": {},
   "outputs": [],
   "source": []
  },
  {
   "cell_type": "code",
   "execution_count": null,
   "metadata": {},
   "outputs": [],
   "source": []
  },
  {
   "cell_type": "code",
   "execution_count": null,
   "metadata": {},
   "outputs": [],
   "source": []
  },
  {
   "cell_type": "code",
   "execution_count": null,
   "metadata": {},
   "outputs": [],
   "source": []
  },
  {
   "cell_type": "code",
   "execution_count": null,
   "metadata": {},
   "outputs": [],
   "source": []
  },
  {
   "cell_type": "code",
   "execution_count": null,
   "metadata": {},
   "outputs": [],
   "source": []
  }
 ],
 "metadata": {
  "kernelspec": {
   "display_name": "Python 3",
   "language": "python",
   "name": "python3"
  },
  "language_info": {
   "codemirror_mode": {
    "name": "ipython",
    "version": 3
   },
   "file_extension": ".py",
   "mimetype": "text/x-python",
   "name": "python",
   "nbconvert_exporter": "python",
   "pygments_lexer": "ipython3",
   "version": "3.7.5"
  }
 },
 "nbformat": 4,
 "nbformat_minor": 4
}
