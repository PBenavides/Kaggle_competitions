{
 "cells": [
  {
   "cell_type": "code",
   "execution_count": 1,
   "metadata": {},
   "outputs": [],
   "source": [
    "import pandas as pd\n",
    "import numpy as np\n",
    "import matplotlib.pyplot as plt\n",
    "from sklearn.preprocessing import LabelEncoder\n",
    "from sklearn.model_selection import train_test_split\n",
    "from sklearn.metrics import roc_curve\n",
    "from sklearn.metrics import roc_auc_score\n",
    "from sklearn.linear_model import LogisticRegression"
   ]
  },
  {
   "cell_type": "code",
   "execution_count": 32,
   "metadata": {},
   "outputs": [],
   "source": [
    "train = pd.read_csv('train.csv')\n",
    "test = pd.read_csv('test.csv')"
   ]
  },
  {
   "cell_type": "code",
   "execution_count": 5,
   "metadata": {},
   "outputs": [
    {
     "name": "stdout",
     "output_type": "stream",
     "text": [
      "id bin_0 bin_1 bin_2 bin_3 bin_4 nom_0 nom_1 nom_2 nom_3 nom_4 nom_5 nom_6 nom_7 nom_8 nom_9 ord_0 ord_1 ord_2 ord_3 ord_4 ord_5 day month target\n"
     ]
    }
   ],
   "source": [
    "print(*train.columns)"
   ]
  },
  {
   "cell_type": "code",
   "execution_count": 3,
   "metadata": {},
   "outputs": [],
   "source": [
    "#Separo las columnas binarias, nominales y ordinales.\n",
    "bin_cols = [col for col in train.columns if col.startswith('bin')]\n",
    "nom_cols = [col for col in train.columns if col.startswith('nom')]\n",
    "ord_cols = [col for col in train.columns if col.startswith('ord')]"
   ]
  },
  {
   "cell_type": "markdown",
   "metadata": {},
   "source": [
    "### Columnas ordinales. \n",
    "\n",
    "- Lo que se hace es reemplazar los valores de 3 columnas ordinales (3 & 4 & 5), todas con un mismo orden. Es decir, contando desde 0 y que todos comiencen de la misma manera...."
   ]
  },
  {
   "cell_type": "code",
   "execution_count": 42,
   "metadata": {},
   "outputs": [],
   "source": [
    "def ord_to_num(df,list_col):\n",
    "    for col in list_col:\n",
    "        keys = np.sort(df[col].unique()) #Saco los valores únicos, y ordenados de menor a mayor\n",
    "        values = np.arange(len(keys)) #establezco un rango en que mis valores van a estar \n",
    "        map_ = dict(zip(keys,values)) #Para cada valor único, le doy un valor numérico. \n",
    "        df[col] = df[col].replace(map_) #Los reemplazo con respecto diccionario"
   ]
  },
  {
   "cell_type": "code",
   "execution_count": 43,
   "metadata": {},
   "outputs": [],
   "source": [
    "ord_to_num(train,['ord_3','ord_4','ord_5'])\n",
    "ord_to_num(test,['ord_3','ord_4','ord_5'])"
   ]
  },
  {
   "cell_type": "code",
   "execution_count": 44,
   "metadata": {},
   "outputs": [
    {
     "data": {
      "text/plain": [
       "array([ 0,  1,  2,  3,  4,  5,  6,  7,  8,  9, 10, 11, 12, 13, 14, 15, 16,\n",
       "       17, 18, 19, 20, 21, 22, 23, 24, 25], dtype=int64)"
      ]
     },
     "execution_count": 44,
     "metadata": {},
     "output_type": "execute_result"
    }
   ],
   "source": [
    "np.sort(train.ord_4.unique())"
   ]
  },
  {
   "cell_type": "code",
   "execution_count": 45,
   "metadata": {},
   "outputs": [
    {
     "data": {
      "text/plain": [
       "array([ 0,  1,  2,  3,  4,  5,  6,  7,  8,  9, 10, 11, 12, 13, 14, 15, 16,\n",
       "       17, 18, 19, 20, 21, 22, 23, 24, 25], dtype=int64)"
      ]
     },
     "execution_count": 45,
     "metadata": {},
     "output_type": "execute_result"
    }
   ],
   "source": [
    "np.sort(test.ord_4.unique())"
   ]
  },
  {
   "cell_type": "markdown",
   "metadata": {},
   "source": [
    "### Presentando a pd.qcut() \n",
    "\n",
    "- Nos divide la data en quantiles. Es decir, si tenemos una muestra de 1000 y le ponemos un q de 10. Tendremos que lo dividirá en 10 intervalos donde el valor que nos botará será del rango en sí por el que los divide. \n",
    "\n",
    "### Presentando a pd.cut()\n",
    "\n",
    "- Nos divide la data en un determinado número de espacios. al igual que quartile cut solo que sin cuartiles peeees"
   ]
  },
  {
   "cell_type": "code",
   "execution_count": 63,
   "metadata": {
    "scrolled": true
   },
   "outputs": [],
   "source": [
    "def quartil_cutter(df,col, order = 6):    \n",
    "    df[col+'_band'] = pd.qcut(df[col],order)\n",
    "    bands = df[col+'_band'].unique()\n",
    "    keys_bands = np.sort(bands)\n",
    "    values_bands = np.arange(len(keys_bands))\n",
    "    map_bands = dict(zip(keys_bands,values_bands))\n",
    "    df[col+'_band'] = df[col+'_band'].replace(map_bands)\n",
    "    pd.cut(test.ord_4,pd.IntervalIndex(keys_bands))"
   ]
  },
  {
   "cell_type": "code",
   "execution_count": 62,
   "metadata": {},
   "outputs": [
    {
     "data": {
      "text/plain": [
       "0         0\n",
       "1         0\n",
       "2         3\n",
       "3         0\n",
       "4         3\n",
       "         ..\n",
       "299995    2\n",
       "299996    5\n",
       "299997    0\n",
       "299998    5\n",
       "299999    3\n",
       "Name: ord_4_band, Length: 300000, dtype: int64"
      ]
     },
     "execution_count": 62,
     "metadata": {},
     "output_type": "execute_result"
    }
   ],
   "source": [
    "train.ord_4_band"
   ]
  },
  {
   "cell_type": "code",
   "execution_count": 64,
   "metadata": {},
   "outputs": [],
   "source": [
    "for i in [train,test]:\n",
    "    quartil_cutter(i,'ord_4')\n",
    "    quartil_cutter(i,'ord_5')"
   ]
  },
  {
   "cell_type": "code",
   "execution_count": 65,
   "metadata": {},
   "outputs": [
    {
     "data": {
      "text/plain": [
       "0         0\n",
       "1         0\n",
       "2         3\n",
       "3         0\n",
       "4         3\n",
       "         ..\n",
       "299995    2\n",
       "299996    5\n",
       "299997    0\n",
       "299998    5\n",
       "299999    3\n",
       "Name: ord_4_band, Length: 300000, dtype: int64"
      ]
     },
     "execution_count": 65,
     "metadata": {},
     "output_type": "execute_result"
    }
   ],
   "source": [
    "train.ord_4_band"
   ]
  },
  {
   "cell_type": "code",
   "execution_count": null,
   "metadata": {},
   "outputs": [],
   "source": []
  },
  {
   "cell_type": "code",
   "execution_count": null,
   "metadata": {},
   "outputs": [],
   "source": []
  }
 ],
 "metadata": {
  "kernelspec": {
   "display_name": "Python 3",
   "language": "python",
   "name": "python3"
  },
  "language_info": {
   "codemirror_mode": {
    "name": "ipython",
    "version": 3
   },
   "file_extension": ".py",
   "mimetype": "text/x-python",
   "name": "python",
   "nbconvert_exporter": "python",
   "pygments_lexer": "ipython3",
   "version": "3.7.5"
  }
 },
 "nbformat": 4,
 "nbformat_minor": 2
}
