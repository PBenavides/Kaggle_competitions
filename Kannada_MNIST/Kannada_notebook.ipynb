{
 "cells": [
  {
   "cell_type": "code",
   "execution_count": 1,
   "metadata": {},
   "outputs": [],
   "source": [
    "import pandas as pd\n",
    "import numpy as np\n",
    "import matplotlib.pyplot as plt\n",
    "from tensorflow import keras"
   ]
  },
  {
   "cell_type": "code",
   "execution_count": 4,
   "metadata": {},
   "outputs": [],
   "source": [
    "train = pd.read_csv('train.csv')\n",
    "test = pd.read_csv('test.csv')"
   ]
  },
  {
   "cell_type": "code",
   "execution_count": 5,
   "metadata": {},
   "outputs": [],
   "source": [
    "X = train.drop('label',axis=1)\n",
    "y = train['label']"
   ]
  },
  {
   "cell_type": "markdown",
   "metadata": {},
   "source": [
    "### First we have to transform the data for training and testing"
   ]
  },
  {
   "cell_type": "code",
   "execution_count": 14,
   "metadata": {},
   "outputs": [],
   "source": [
    "from sklearn.model_selection import train_test_split\n",
    "\n",
    "X_train,X_test,y_train,y_test = train_test_split(X,y)"
   ]
  },
  {
   "cell_type": "code",
   "execution_count": 19,
   "metadata": {},
   "outputs": [],
   "source": [
    "#Building a simple neural network\n",
    "model = keras.models.Sequential([\n",
    "    keras.layers.Input(shape=X_train.shape[1:]),\n",
    "    keras.layers.Dense(300,activation='relu'),\n",
    "    keras.layers.Dense(100,activation='relu'),\n",
    "    keras.layers.Dense(10,activation='softmax')\n",
    "])"
   ]
  },
  {
   "cell_type": "code",
   "execution_count": 21,
   "metadata": {},
   "outputs": [],
   "source": [
    "model.compile(\n",
    "    loss = \"sparse_categorical_crossentropy\",\n",
    "    optimizer = \"sgd\",\n",
    "    metrics = [\"accuracy\"]\n",
    ")"
   ]
  },
  {
   "cell_type": "code",
   "execution_count": 22,
   "metadata": {},
   "outputs": [
    {
     "name": "stdout",
     "output_type": "stream",
     "text": [
      "WARNING:tensorflow:Falling back from v2 loop because of error: Failed to find data adapter that can handle input: <class 'pandas.core.frame.DataFrame'>, <class 'NoneType'>\n",
      "Train on 45000 samples, validate on 15000 samples\n",
      "Epoch 1/50\n",
      "45000/45000 [==============================] - 6s 125us/sample - loss: 12.3102 - accuracy: 0.2358 - val_loss: 10.1634 - val_accuracy: 0.3693\n",
      "Epoch 2/50\n",
      "45000/45000 [==============================] - 5s 112us/sample - loss: 10.1619 - accuracy: 0.3693 - val_loss: 10.6555 - val_accuracy: 0.3389\n",
      "Epoch 3/50\n",
      "45000/45000 [==============================] - 5s 114us/sample - loss: 10.0497 - accuracy: 0.3764 - val_loss: 10.3232 - val_accuracy: 0.3595\n",
      "Epoch 4/50\n",
      "45000/45000 [==============================] - 6s 126us/sample - loss: 10.2282 - accuracy: 0.3654 - val_loss: 10.6774 - val_accuracy: 0.3375\n",
      "Epoch 5/50\n",
      "45000/45000 [==============================] - 5s 114us/sample - loss: 11.3553 - accuracy: 0.2954 - val_loss: 12.2691 - val_accuracy: 0.2388\n",
      "Epoch 6/50\n",
      "45000/45000 [==============================] - 5s 113us/sample - loss: 11.5250 - accuracy: 0.2849 - val_loss: 12.3612 - val_accuracy: 0.2331\n",
      "Epoch 7/50\n",
      "45000/45000 [==============================] - 5s 118us/sample - loss: 11.8374 - accuracy: 0.2656 - val_loss: 11.1445 - val_accuracy: 0.3085\n",
      "Epoch 8/50\n",
      "45000/45000 [==============================] - 6s 128us/sample - loss: 10.6903 - accuracy: 0.3367 - val_loss: 10.3586 - val_accuracy: 0.3573\n",
      "Epoch 9/50\n",
      "45000/45000 [==============================] - 6s 144us/sample - loss: 10.3364 - accuracy: 0.3587 - val_loss: 10.3586 - val_accuracy: 0.3573\n",
      "Epoch 10/50\n",
      "45000/45000 [==============================] - 5s 116us/sample - loss: 10.3364 - accuracy: 0.3587 - val_loss: 10.3586 - val_accuracy: 0.3573\n",
      "Epoch 11/50\n",
      "45000/45000 [==============================] - 5s 113us/sample - loss: 10.3364 - accuracy: 0.3587 - val_loss: 10.3586 - val_accuracy: 0.3573\n",
      "Epoch 12/50\n",
      "45000/45000 [==============================] - 5s 112us/sample - loss: 10.3364 - accuracy: 0.3587 - val_loss: 10.3586 - val_accuracy: 0.3573\n",
      "Epoch 13/50\n",
      "45000/45000 [==============================] - 5s 112us/sample - loss: 10.3364 - accuracy: 0.3587 - val_loss: 10.3586 - val_accuracy: 0.3573\n",
      "Epoch 14/50\n",
      "45000/45000 [==============================] - 5s 113us/sample - loss: 10.3364 - accuracy: 0.3587 - val_loss: 10.3586 - val_accuracy: 0.3573\n",
      "Epoch 15/50\n",
      "45000/45000 [==============================] - 5s 113us/sample - loss: 10.3364 - accuracy: 0.3587 - val_loss: 10.3586 - val_accuracy: 0.3573\n",
      "Epoch 16/50\n",
      "45000/45000 [==============================] - 5s 119us/sample - loss: 10.3364 - accuracy: 0.3587 - val_loss: 10.3586 - val_accuracy: 0.3573\n",
      "Epoch 17/50\n",
      "45000/45000 [==============================] - 5s 111us/sample - loss: 10.3364 - accuracy: 0.3587 - val_loss: 10.3586 - val_accuracy: 0.3573\n",
      "Epoch 18/50\n",
      "45000/45000 [==============================] - 5s 111us/sample - loss: 10.3364 - accuracy: 0.3587 - val_loss: 10.3586 - val_accuracy: 0.3573\n",
      "Epoch 19/50\n",
      "45000/45000 [==============================] - 5s 111us/sample - loss: 10.3364 - accuracy: 0.3587 - val_loss: 10.3586 - val_accuracy: 0.3573\n",
      "Epoch 20/50\n",
      "45000/45000 [==============================] - 5s 112us/sample - loss: 10.3364 - accuracy: 0.3587 - val_loss: 10.3586 - val_accuracy: 0.3573\n",
      "Epoch 21/50\n",
      "45000/45000 [==============================] - 5s 112us/sample - loss: 10.3364 - accuracy: 0.3587 - val_loss: 10.3586 - val_accuracy: 0.3573\n",
      "Epoch 22/50\n",
      "45000/45000 [==============================] - 5s 118us/sample - loss: 10.3364 - accuracy: 0.3587 - val_loss: 10.3586 - val_accuracy: 0.3573\n",
      "Epoch 23/50\n",
      "45000/45000 [==============================] - 5s 116us/sample - loss: 10.3364 - accuracy: 0.3587 - val_loss: 10.3586 - val_accuracy: 0.3573\n",
      "Epoch 24/50\n",
      "45000/45000 [==============================] - 6s 123us/sample - loss: 10.3364 - accuracy: 0.3587 - val_loss: 10.3586 - val_accuracy: 0.3573\n",
      "Epoch 25/50\n",
      "45000/45000 [==============================] - 5s 120us/sample - loss: 10.3364 - accuracy: 0.3587 - val_loss: 10.3586 - val_accuracy: 0.3573\n",
      "Epoch 26/50\n",
      "45000/45000 [==============================] - 6s 137us/sample - loss: 10.3364 - accuracy: 0.3587 - val_loss: 10.3586 - val_accuracy: 0.3573\n",
      "Epoch 27/50\n",
      "45000/45000 [==============================] - 7s 153us/sample - loss: 10.3364 - accuracy: 0.3587 - val_loss: 10.3586 - val_accuracy: 0.3573\n",
      "Epoch 28/50\n",
      "45000/45000 [==============================] - 6s 130us/sample - loss: 10.3364 - accuracy: 0.3587 - val_loss: 10.3586 - val_accuracy: 0.3573\n",
      "Epoch 29/50\n",
      "45000/45000 [==============================] - 5s 118us/sample - loss: 10.3364 - accuracy: 0.3587 - val_loss: 10.3586 - val_accuracy: 0.3573\n",
      "Epoch 30/50\n",
      "45000/45000 [==============================] - 7s 156us/sample - loss: 10.3364 - accuracy: 0.3587 - val_loss: 10.3586 - val_accuracy: 0.3573\n",
      "Epoch 31/50\n",
      "45000/45000 [==============================] - 7s 149us/sample - loss: 10.3364 - accuracy: 0.3587 - val_loss: 10.3586 - val_accuracy: 0.3573\n",
      "Epoch 32/50\n",
      "45000/45000 [==============================] - 6s 144us/sample - loss: 10.3364 - accuracy: 0.3587 - val_loss: 10.3586 - val_accuracy: 0.3573\n",
      "Epoch 33/50\n",
      "45000/45000 [==============================] - 7s 163us/sample - loss: 10.3364 - accuracy: 0.3587 - val_loss: 10.3586 - val_accuracy: 0.3573\n",
      "Epoch 34/50\n",
      "45000/45000 [==============================] - 8s 168us/sample - loss: 10.3364 - accuracy: 0.3587 - val_loss: 10.3586 - val_accuracy: 0.3573\n",
      "Epoch 35/50\n",
      "45000/45000 [==============================] - 7s 151us/sample - loss: 10.3364 - accuracy: 0.3587 - val_loss: 10.3586 - val_accuracy: 0.3573\n",
      "Epoch 36/50\n",
      "45000/45000 [==============================] - 7s 155us/sample - loss: 10.3364 - accuracy: 0.3587 - val_loss: 10.3586 - val_accuracy: 0.3573\n",
      "Epoch 37/50\n",
      "45000/45000 [==============================] - 7s 163us/sample - loss: 10.3364 - accuracy: 0.3587 - val_loss: 10.3586 - val_accuracy: 0.3573\n",
      "Epoch 38/50\n",
      "45000/45000 [==============================] - 6s 139us/sample - loss: 10.3364 - accuracy: 0.3587 - val_loss: 10.3586 - val_accuracy: 0.3573\n",
      "Epoch 39/50\n",
      "45000/45000 [==============================] - 7s 158us/sample - loss: 10.3364 - accuracy: 0.3587 - val_loss: 10.3586 - val_accuracy: 0.3573\n",
      "Epoch 40/50\n",
      "45000/45000 [==============================] - 6s 130us/sample - loss: 10.3364 - accuracy: 0.3587 - val_loss: 10.3586 - val_accuracy: 0.3573\n",
      "Epoch 41/50\n",
      "45000/45000 [==============================] - 6s 143us/sample - loss: 10.3364 - accuracy: 0.3587 - val_loss: 10.3586 - val_accuracy: 0.3573\n",
      "Epoch 42/50\n",
      "45000/45000 [==============================] - 7s 161us/sample - loss: 10.3364 - accuracy: 0.3587 - val_loss: 10.3586 - val_accuracy: 0.3573\n",
      "Epoch 43/50\n",
      "45000/45000 [==============================] - 9s 210us/sample - loss: 10.3364 - accuracy: 0.3587 - val_loss: 10.3586 - val_accuracy: 0.3573\n",
      "Epoch 44/50\n",
      "45000/45000 [==============================] - 10s 213us/sample - loss: 10.3364 - accuracy: 0.3587 - val_loss: 10.3586 - val_accuracy: 0.3573\n",
      "Epoch 45/50\n",
      "45000/45000 [==============================] - 8s 167us/sample - loss: 10.3364 - accuracy: 0.3587 - val_loss: 10.3586 - val_accuracy: 0.3573\n",
      "Epoch 46/50\n",
      "45000/45000 [==============================] - 6s 135us/sample - loss: 10.3364 - accuracy: 0.3587 - val_loss: 10.3586 - val_accuracy: 0.3573\n",
      "Epoch 47/50\n",
      "45000/45000 [==============================] - 6s 125us/sample - loss: 10.3364 - accuracy: 0.3587 - val_loss: 10.3586 - val_accuracy: 0.3573\n",
      "Epoch 48/50\n",
      "45000/45000 [==============================] - 5s 122us/sample - loss: 10.3364 - accuracy: 0.3587 - val_loss: 10.3586 - val_accuracy: 0.3573\n",
      "Epoch 49/50\n",
      "45000/45000 [==============================] - 5s 119us/sample - loss: 10.3364 - accuracy: 0.3587 - val_loss: 10.3586 - val_accuracy: 0.3573\n",
      "Epoch 50/50\n",
      "45000/45000 [==============================] - 5s 109us/sample - loss: 10.3364 - accuracy: 0.3587 - val_loss: 10.3586 - val_accuracy: 0.3573\n"
     ]
    },
    {
     "data": {
      "text/plain": [
       "<tensorflow.python.keras.callbacks.History at 0x25c351719c8>"
      ]
     },
     "execution_count": 22,
     "metadata": {},
     "output_type": "execute_result"
    }
   ],
   "source": [
    "model.fit(X_train,y_train,epochs=50,validation_data=(X_test,y_test))"
   ]
  },
  {
   "cell_type": "code",
   "execution_count": null,
   "metadata": {},
   "outputs": [],
   "source": []
  }
 ],
 "metadata": {
  "kernelspec": {
   "display_name": "Python 3",
   "language": "python",
   "name": "python3"
  },
  "language_info": {
   "codemirror_mode": {
    "name": "ipython",
    "version": 3
   },
   "file_extension": ".py",
   "mimetype": "text/x-python",
   "name": "python",
   "nbconvert_exporter": "python",
   "pygments_lexer": "ipython3",
   "version": "3.7.5"
  }
 },
 "nbformat": 4,
 "nbformat_minor": 2
}
