{
 "cells": [
  {
   "cell_type": "code",
   "execution_count": 21,
   "metadata": {},
   "outputs": [],
   "source": [
    "import os\n",
    "from nltk.corpus import stopwords\n",
    "import re \n",
    "import pandas as pd\n",
    "from sklearn.feature_extraction.text import TfidfVectorizer\n",
    "import numpy as np\n",
    "from spacy.lang.es import \n",
    "import warnings\n",
    "\n",
    "warnings.filterwarnings('ignore')\n",
    "\n",
    "def remove_stopword(x, lista_stopwords):\n",
    "    return [y for y in x if y not in lista_stopwords]\n",
    "\n",
    "def clean_text(text):\n",
    "    '''Make text lowercase, remove text in square brackets,remove links,remove punctuation\n",
    "    and remove words containing numbers. Also, we added the unicode line for accent marks'''\n",
    "    text = str(text).lower()\n",
    "    text = re.sub('\\[.*?\\]', '', text) #Punctuations...\n",
    "    text = re.sub('https?://\\S+|www\\.\\S+', '', text)\n",
    "    text = re.sub('<.*?>+', '', text)\n",
    "    #text = re.sub('[%s]' % re.escape(string.punctuation), '', text)\n",
    "    text = re.sub('\\n', '', text)\n",
    "    text = re.sub('\\w*\\d\\w*', '', text)\n",
    "    #text = unidecode.unidecode(text)\n",
    "    return text\n",
    "\n",
    "def make_clean_dataframe(stopwords_espaniol, path_textos):\n",
    "    #Accedo al path y jalo toda la info\n",
    "    dicc={}\n",
    "    for nombre_doc in os.listdir(path_textos):\n",
    "        text_string = open(path_textos+'/'+nombre_doc).read()\n",
    "        dicc[nombre_doc[:-4]] = text_string\n",
    "    \n",
    "    #Limpio y transformo el texto.\n",
    "    dataframe = pd.DataFrame(dicc,index=[0]).T.rename(columns={0:'texto'}).reset_index()\n",
    "    dataframe['temp_list'] = dataframe['texto'].apply(lambda x: clean_text(x))\n",
    "    dataframe['temp_list'] = dataframe['temp_list'].apply(lambda x: str(x).split())\n",
    "    dataframe['texto_limpio'] = dataframe['temp_list'].apply(lambda x: remove_stopword(x, stopwords_espaniol))\n",
    "    dataframe = dataframe.rename(columns={'index':'nombre_doc'})\n",
    "\n",
    "    for k,v in dataframe['texto_limpio'].items():\n",
    "        dataframe.loc[k,'raw_clean_text'] = ' '.join(dataframe.loc[k,'texto_limpio'])\n",
    "    \n",
    "    return dataframe\n",
    "\n",
    "agg_stopword = ['s', '2018','31','diciembre','financieros','000','2019','nota','grupo','valor','2017','resultados','compania','1',\n",
    " 'total','consolidados','consolidado','razonable','gerencia','ciento','c','activos','cuentas','neto','us','efectivo','fecha','peru',\n",
    " 'inretail','2','3','importe', 'aproximadamente','b','respectivamente','ver','ano','si','vida','anos','4','d','5','i','www','com',\n",
    " 'aa', 'aaa', 'aaahipotecario', 'aaatat', 'aamnto', 'ab','ir','email','mes','niif','fmiv','bbb','ok','mzo','inc','alicorp','notas','dic','a','y']\n",
    "\n",
    "\n",
    "stopwords_espaniol = list(STOP_WORDS)\n",
    "stopwords_espaniol.extend(agg_stopword)"
   ]
  },
  {
   "cell_type": "code",
   "execution_count": null,
   "metadata": {},
   "outputs": [],
   "source": []
  },
  {
   "cell_type": "code",
   "execution_count": 22,
   "metadata": {},
   "outputs": [],
   "source": [
    "def jaccard_score(str1, str2):\n",
    "    a = set(str1.lower().split()) \n",
    "    b = set(str2.lower().split())\n",
    "    c = a.intersection(b)\n",
    "    return float(len(c) / (len(a) + len(b) - len(c)))"
   ]
  },
  {
   "cell_type": "code",
   "execution_count": 23,
   "metadata": {},
   "outputs": [
    {
     "data": {
      "text/html": [
       "<div>\n",
       "<style scoped>\n",
       "    .dataframe tbody tr th:only-of-type {\n",
       "        vertical-align: middle;\n",
       "    }\n",
       "\n",
       "    .dataframe tbody tr th {\n",
       "        vertical-align: top;\n",
       "    }\n",
       "\n",
       "    .dataframe thead th {\n",
       "        text-align: right;\n",
       "    }\n",
       "</style>\n",
       "<table border=\"1\" class=\"dataframe\">\n",
       "  <thead>\n",
       "    <tr style=\"text-align: right;\">\n",
       "      <th></th>\n",
       "      <th>nombre_doc</th>\n",
       "      <th>texto</th>\n",
       "      <th>temp_list</th>\n",
       "      <th>texto_limpio</th>\n",
       "      <th>raw_clean_text</th>\n",
       "    </tr>\n",
       "  </thead>\n",
       "  <tbody>\n",
       "    <tr>\n",
       "      <th>0</th>\n",
       "      <td>NOTAS_ALICORP_2018_1Q</td>\n",
       "      <td>alicorp s a a notas a los estados financieros ...</td>\n",
       "      <td>[alicorp, s, a, a, notas, a, los, estados, fin...</td>\n",
       "      <td>[marzo, expresados, miles, soles, principios, ...</td>\n",
       "      <td>marzo expresados miles soles principios practi...</td>\n",
       "    </tr>\n",
       "    <tr>\n",
       "      <th>1</th>\n",
       "      <td>NOTAS_ALICORP_2018_2Q</td>\n",
       "      <td>alicorp s a a notas a los estados financieros ...</td>\n",
       "      <td>[alicorp, s, a, a, notas, a, los, estados, fin...</td>\n",
       "      <td>[junio, expresados, miles, soles, principios, ...</td>\n",
       "      <td>junio expresados miles soles principios practi...</td>\n",
       "    </tr>\n",
       "    <tr>\n",
       "      <th>2</th>\n",
       "      <td>NOTAS_ALICORP_2018_3Q</td>\n",
       "      <td>alicorp s a a notas a los estados financieros ...</td>\n",
       "      <td>[alicorp, s, a, a, notas, a, los, estados, fin...</td>\n",
       "      <td>[setiembre, expresados, miles, soles, principi...</td>\n",
       "      <td>setiembre expresados miles soles principios pr...</td>\n",
       "    </tr>\n",
       "    <tr>\n",
       "      <th>3</th>\n",
       "      <td>NOTAS_ALICORP_2018_4Q</td>\n",
       "      <td>alicorp s a a notas a los estados financieros ...</td>\n",
       "      <td>[alicorp, s, a, a, notas, a, los, estados, fin...</td>\n",
       "      <td>[expresados, miles, soles, principios, practic...</td>\n",
       "      <td>expresados miles soles principios practicas co...</td>\n",
       "    </tr>\n",
       "    <tr>\n",
       "      <th>4</th>\n",
       "      <td>NOTAS_ALICORP_2019_1Q</td>\n",
       "      <td>alicorp s a a notas a los estados financieros ...</td>\n",
       "      <td>[alicorp, s, a, a, notas, a, los, estados, fin...</td>\n",
       "      <td>[marzo, expresados, miles, soles, principios, ...</td>\n",
       "      <td>marzo expresados miles soles principios practi...</td>\n",
       "    </tr>\n",
       "    <tr>\n",
       "      <th>5</th>\n",
       "      <td>NOTAS_ALICORP_2019_2Q</td>\n",
       "      <td>alicorp s a a notas a los estados financieros ...</td>\n",
       "      <td>[alicorp, s, a, a, notas, a, los, estados, fin...</td>\n",
       "      <td>[separados, junio, expresados, miles, soles, p...</td>\n",
       "      <td>separados junio expresados miles soles princip...</td>\n",
       "    </tr>\n",
       "    <tr>\n",
       "      <th>6</th>\n",
       "      <td>NOTAS_ALICORP_2019_3Q</td>\n",
       "      <td>alicorp s a a notas a los estados financieros ...</td>\n",
       "      <td>[alicorp, s, a, a, notas, a, los, estados, fin...</td>\n",
       "      <td>[separados, septiembre, expresados, miles, sol...</td>\n",
       "      <td>separados septiembre expresados miles soles pr...</td>\n",
       "    </tr>\n",
       "    <tr>\n",
       "      <th>7</th>\n",
       "      <td>NOTAS_ALICORP_2019_4Q</td>\n",
       "      <td>alicorp s a a y subsidiarias notas a los estad...</td>\n",
       "      <td>[alicorp, s, a, a, y, subsidiarias, notas, a, ...</td>\n",
       "      <td>[subsidiarias, expresados, miles, soles, princ...</td>\n",
       "      <td>subsidiarias expresados miles soles principios...</td>\n",
       "    </tr>\n",
       "    <tr>\n",
       "      <th>8</th>\n",
       "      <td>NOTAS_ALICORP_2020_1Q</td>\n",
       "      <td>alicorp s a a y subsidiarias notas a los estad...</td>\n",
       "      <td>[alicorp, s, a, a, y, subsidiarias, notas, a, ...</td>\n",
       "      <td>[subsidiarias, marzo, expresados, miles, soles...</td>\n",
       "      <td>subsidiarias marzo expresados miles soles acti...</td>\n",
       "    </tr>\n",
       "  </tbody>\n",
       "</table>\n",
       "</div>"
      ],
      "text/plain": [
       "              nombre_doc                                              texto  \\\n",
       "0  NOTAS_ALICORP_2018_1Q  alicorp s a a notas a los estados financieros ...   \n",
       "1  NOTAS_ALICORP_2018_2Q  alicorp s a a notas a los estados financieros ...   \n",
       "2  NOTAS_ALICORP_2018_3Q  alicorp s a a notas a los estados financieros ...   \n",
       "3  NOTAS_ALICORP_2018_4Q  alicorp s a a notas a los estados financieros ...   \n",
       "4  NOTAS_ALICORP_2019_1Q  alicorp s a a notas a los estados financieros ...   \n",
       "5  NOTAS_ALICORP_2019_2Q  alicorp s a a notas a los estados financieros ...   \n",
       "6  NOTAS_ALICORP_2019_3Q  alicorp s a a notas a los estados financieros ...   \n",
       "7  NOTAS_ALICORP_2019_4Q  alicorp s a a y subsidiarias notas a los estad...   \n",
       "8  NOTAS_ALICORP_2020_1Q  alicorp s a a y subsidiarias notas a los estad...   \n",
       "\n",
       "                                           temp_list  \\\n",
       "0  [alicorp, s, a, a, notas, a, los, estados, fin...   \n",
       "1  [alicorp, s, a, a, notas, a, los, estados, fin...   \n",
       "2  [alicorp, s, a, a, notas, a, los, estados, fin...   \n",
       "3  [alicorp, s, a, a, notas, a, los, estados, fin...   \n",
       "4  [alicorp, s, a, a, notas, a, los, estados, fin...   \n",
       "5  [alicorp, s, a, a, notas, a, los, estados, fin...   \n",
       "6  [alicorp, s, a, a, notas, a, los, estados, fin...   \n",
       "7  [alicorp, s, a, a, y, subsidiarias, notas, a, ...   \n",
       "8  [alicorp, s, a, a, y, subsidiarias, notas, a, ...   \n",
       "\n",
       "                                        texto_limpio  \\\n",
       "0  [marzo, expresados, miles, soles, principios, ...   \n",
       "1  [junio, expresados, miles, soles, principios, ...   \n",
       "2  [setiembre, expresados, miles, soles, principi...   \n",
       "3  [expresados, miles, soles, principios, practic...   \n",
       "4  [marzo, expresados, miles, soles, principios, ...   \n",
       "5  [separados, junio, expresados, miles, soles, p...   \n",
       "6  [separados, septiembre, expresados, miles, sol...   \n",
       "7  [subsidiarias, expresados, miles, soles, princ...   \n",
       "8  [subsidiarias, marzo, expresados, miles, soles...   \n",
       "\n",
       "                                      raw_clean_text  \n",
       "0  marzo expresados miles soles principios practi...  \n",
       "1  junio expresados miles soles principios practi...  \n",
       "2  setiembre expresados miles soles principios pr...  \n",
       "3  expresados miles soles principios practicas co...  \n",
       "4  marzo expresados miles soles principios practi...  \n",
       "5  separados junio expresados miles soles princip...  \n",
       "6  separados septiembre expresados miles soles pr...  \n",
       "7  subsidiarias expresados miles soles principios...  \n",
       "8  subsidiarias marzo expresados miles soles acti...  "
      ]
     },
     "execution_count": 23,
     "metadata": {},
     "output_type": "execute_result"
    }
   ],
   "source": [
    "dataframe = make_clean_dataframe(stopwords_espaniol, 'data')\n",
    "dataframe"
   ]
  },
  {
   "cell_type": "code",
   "execution_count": 56,
   "metadata": {},
   "outputs": [],
   "source": [
    "dicc_replace = {'coberturas':'cobertura','arrendamientos':'arrendamiento','bonos':'bono','opciones':'opcion','pasivos':'pasivo','corporativos':'corporativo'}\n",
    "dataframe['raw_clean_text'].replace(dicc_replace, inplace=True)"
   ]
  },
  {
   "cell_type": "code",
   "execution_count": 57,
   "metadata": {},
   "outputs": [
    {
     "data": {
      "text/html": [
       "<div>\n",
       "<style scoped>\n",
       "    .dataframe tbody tr th:only-of-type {\n",
       "        vertical-align: middle;\n",
       "    }\n",
       "\n",
       "    .dataframe tbody tr th {\n",
       "        vertical-align: top;\n",
       "    }\n",
       "\n",
       "    .dataframe thead th {\n",
       "        text-align: right;\n",
       "    }\n",
       "</style>\n",
       "<table border=\"1\" class=\"dataframe\">\n",
       "  <thead>\n",
       "    <tr style=\"text-align: right;\">\n",
       "      <th></th>\n",
       "      <th>nombre_doc</th>\n",
       "      <th>texto</th>\n",
       "      <th>temp_list</th>\n",
       "      <th>texto_limpio</th>\n",
       "      <th>raw_clean_text</th>\n",
       "      <th>Jaccard</th>\n",
       "      <th>Jaccard cr 4Q 2019</th>\n",
       "    </tr>\n",
       "  </thead>\n",
       "  <tbody>\n",
       "    <tr>\n",
       "      <th>0</th>\n",
       "      <td>NOTAS_ALICORP_2018_1Q</td>\n",
       "      <td>alicorp s a a notas a los estados financieros ...</td>\n",
       "      <td>[alicorp, s, a, a, notas, a, los, estados, fin...</td>\n",
       "      <td>[marzo, expresados, miles, soles, principios, ...</td>\n",
       "      <td>marzo expresados miles soles principios practi...</td>\n",
       "      <td>0.643917</td>\n",
       "      <td>0.260692</td>\n",
       "    </tr>\n",
       "    <tr>\n",
       "      <th>1</th>\n",
       "      <td>NOTAS_ALICORP_2018_2Q</td>\n",
       "      <td>alicorp s a a notas a los estados financieros ...</td>\n",
       "      <td>[alicorp, s, a, a, notas, a, los, estados, fin...</td>\n",
       "      <td>[junio, expresados, miles, soles, principios, ...</td>\n",
       "      <td>junio expresados miles soles principios practi...</td>\n",
       "      <td>0.830357</td>\n",
       "      <td>0.261477</td>\n",
       "    </tr>\n",
       "    <tr>\n",
       "      <th>2</th>\n",
       "      <td>NOTAS_ALICORP_2018_3Q</td>\n",
       "      <td>alicorp s a a notas a los estados financieros ...</td>\n",
       "      <td>[alicorp, s, a, a, notas, a, los, estados, fin...</td>\n",
       "      <td>[setiembre, expresados, miles, soles, principi...</td>\n",
       "      <td>setiembre expresados miles soles principios pr...</td>\n",
       "      <td>0.592965</td>\n",
       "      <td>0.226923</td>\n",
       "    </tr>\n",
       "    <tr>\n",
       "      <th>3</th>\n",
       "      <td>NOTAS_ALICORP_2018_4Q</td>\n",
       "      <td>alicorp s a a notas a los estados financieros ...</td>\n",
       "      <td>[alicorp, s, a, a, notas, a, los, estados, fin...</td>\n",
       "      <td>[expresados, miles, soles, principios, practic...</td>\n",
       "      <td>expresados miles soles principios practicas co...</td>\n",
       "      <td>0.384091</td>\n",
       "      <td>0.277895</td>\n",
       "    </tr>\n",
       "    <tr>\n",
       "      <th>4</th>\n",
       "      <td>NOTAS_ALICORP_2019_1Q</td>\n",
       "      <td>alicorp s a a notas a los estados financieros ...</td>\n",
       "      <td>[alicorp, s, a, a, notas, a, los, estados, fin...</td>\n",
       "      <td>[marzo, expresados, miles, soles, principios, ...</td>\n",
       "      <td>marzo expresados miles soles principios practi...</td>\n",
       "      <td>0.825949</td>\n",
       "      <td>0.303226</td>\n",
       "    </tr>\n",
       "    <tr>\n",
       "      <th>5</th>\n",
       "      <td>NOTAS_ALICORP_2019_2Q</td>\n",
       "      <td>alicorp s a a notas a los estados financieros ...</td>\n",
       "      <td>[alicorp, s, a, a, notas, a, los, estados, fin...</td>\n",
       "      <td>[separados, junio, expresados, miles, soles, p...</td>\n",
       "      <td>separados junio expresados miles soles princip...</td>\n",
       "      <td>0.573134</td>\n",
       "      <td>0.246085</td>\n",
       "    </tr>\n",
       "    <tr>\n",
       "      <th>6</th>\n",
       "      <td>NOTAS_ALICORP_2019_3Q</td>\n",
       "      <td>alicorp s a a notas a los estados financieros ...</td>\n",
       "      <td>[alicorp, s, a, a, notas, a, los, estados, fin...</td>\n",
       "      <td>[separados, septiembre, expresados, miles, sol...</td>\n",
       "      <td>separados septiembre expresados miles soles pr...</td>\n",
       "      <td>0.246085</td>\n",
       "      <td>1.000000</td>\n",
       "    </tr>\n",
       "    <tr>\n",
       "      <th>7</th>\n",
       "      <td>NOTAS_ALICORP_2019_4Q</td>\n",
       "      <td>alicorp s a a y subsidiarias notas a los estad...</td>\n",
       "      <td>[alicorp, s, a, a, y, subsidiarias, notas, a, ...</td>\n",
       "      <td>[subsidiarias, expresados, miles, soles, princ...</td>\n",
       "      <td>subsidiarias expresados miles soles principios...</td>\n",
       "      <td>0.172000</td>\n",
       "      <td>0.172000</td>\n",
       "    </tr>\n",
       "    <tr>\n",
       "      <th>8</th>\n",
       "      <td>NOTAS_ALICORP_2020_1Q</td>\n",
       "      <td>alicorp s a a y subsidiarias notas a los estad...</td>\n",
       "      <td>[alicorp, s, a, a, y, subsidiarias, notas, a, ...</td>\n",
       "      <td>[subsidiarias, marzo, expresados, miles, soles...</td>\n",
       "      <td>subsidiarias marzo expresados miles soles acti...</td>\n",
       "      <td>NaN</td>\n",
       "      <td>NaN</td>\n",
       "    </tr>\n",
       "  </tbody>\n",
       "</table>\n",
       "</div>"
      ],
      "text/plain": [
       "              nombre_doc                                              texto  \\\n",
       "0  NOTAS_ALICORP_2018_1Q  alicorp s a a notas a los estados financieros ...   \n",
       "1  NOTAS_ALICORP_2018_2Q  alicorp s a a notas a los estados financieros ...   \n",
       "2  NOTAS_ALICORP_2018_3Q  alicorp s a a notas a los estados financieros ...   \n",
       "3  NOTAS_ALICORP_2018_4Q  alicorp s a a notas a los estados financieros ...   \n",
       "4  NOTAS_ALICORP_2019_1Q  alicorp s a a notas a los estados financieros ...   \n",
       "5  NOTAS_ALICORP_2019_2Q  alicorp s a a notas a los estados financieros ...   \n",
       "6  NOTAS_ALICORP_2019_3Q  alicorp s a a notas a los estados financieros ...   \n",
       "7  NOTAS_ALICORP_2019_4Q  alicorp s a a y subsidiarias notas a los estad...   \n",
       "8  NOTAS_ALICORP_2020_1Q  alicorp s a a y subsidiarias notas a los estad...   \n",
       "\n",
       "                                           temp_list  \\\n",
       "0  [alicorp, s, a, a, notas, a, los, estados, fin...   \n",
       "1  [alicorp, s, a, a, notas, a, los, estados, fin...   \n",
       "2  [alicorp, s, a, a, notas, a, los, estados, fin...   \n",
       "3  [alicorp, s, a, a, notas, a, los, estados, fin...   \n",
       "4  [alicorp, s, a, a, notas, a, los, estados, fin...   \n",
       "5  [alicorp, s, a, a, notas, a, los, estados, fin...   \n",
       "6  [alicorp, s, a, a, notas, a, los, estados, fin...   \n",
       "7  [alicorp, s, a, a, y, subsidiarias, notas, a, ...   \n",
       "8  [alicorp, s, a, a, y, subsidiarias, notas, a, ...   \n",
       "\n",
       "                                        texto_limpio  \\\n",
       "0  [marzo, expresados, miles, soles, principios, ...   \n",
       "1  [junio, expresados, miles, soles, principios, ...   \n",
       "2  [setiembre, expresados, miles, soles, principi...   \n",
       "3  [expresados, miles, soles, principios, practic...   \n",
       "4  [marzo, expresados, miles, soles, principios, ...   \n",
       "5  [separados, junio, expresados, miles, soles, p...   \n",
       "6  [separados, septiembre, expresados, miles, sol...   \n",
       "7  [subsidiarias, expresados, miles, soles, princ...   \n",
       "8  [subsidiarias, marzo, expresados, miles, soles...   \n",
       "\n",
       "                                      raw_clean_text   Jaccard  \\\n",
       "0  marzo expresados miles soles principios practi...  0.643917   \n",
       "1  junio expresados miles soles principios practi...  0.830357   \n",
       "2  setiembre expresados miles soles principios pr...  0.592965   \n",
       "3  expresados miles soles principios practicas co...  0.384091   \n",
       "4  marzo expresados miles soles principios practi...  0.825949   \n",
       "5  separados junio expresados miles soles princip...  0.573134   \n",
       "6  separados septiembre expresados miles soles pr...  0.246085   \n",
       "7  subsidiarias expresados miles soles principios...  0.172000   \n",
       "8  subsidiarias marzo expresados miles soles acti...       NaN   \n",
       "\n",
       "   Jaccard cr 4Q 2019  \n",
       "0            0.260692  \n",
       "1            0.261477  \n",
       "2            0.226923  \n",
       "3            0.277895  \n",
       "4            0.303226  \n",
       "5            0.246085  \n",
       "6            1.000000  \n",
       "7            0.172000  \n",
       "8                 NaN  "
      ]
     },
     "execution_count": 57,
     "metadata": {},
     "output_type": "execute_result"
    }
   ],
   "source": [
    "dataframe['Jaccard'] = np.nan\n",
    "dataframe['Jaccard cr 4Q 2019'] = np.nan\n",
    "for i in dataframe.index:\n",
    "    try:\n",
    "        dataframe['Jaccard'][i] = jaccard_score(dataframe.loc[i,'raw_clean_text'], dataframe.loc[i + 1, 'raw_clean_text'])\n",
    "        dataframe['Jaccard cr 4Q 2019'][i] = jaccard_score(dataframe.loc[7,'raw_clean_text'], dataframe.loc[i+1, 'raw_clean_text'])\n",
    "    except:\n",
    "        pass\n",
    "dataframe"
   ]
  },
  {
   "cell_type": "code",
   "execution_count": 58,
   "metadata": {},
   "outputs": [
    {
     "data": {
      "text/html": [
       "<div>\n",
       "<style scoped>\n",
       "    .dataframe tbody tr th:only-of-type {\n",
       "        vertical-align: middle;\n",
       "    }\n",
       "\n",
       "    .dataframe tbody tr th {\n",
       "        vertical-align: top;\n",
       "    }\n",
       "\n",
       "    .dataframe thead th {\n",
       "        text-align: right;\n",
       "    }\n",
       "</style>\n",
       "<table border=\"1\" class=\"dataframe\">\n",
       "  <thead>\n",
       "    <tr style=\"text-align: right;\">\n",
       "      <th></th>\n",
       "      <th>nombre_doc</th>\n",
       "      <th>Jaccard</th>\n",
       "      <th>Jaccard cr 4Q 2019</th>\n",
       "    </tr>\n",
       "  </thead>\n",
       "  <tbody>\n",
       "    <tr>\n",
       "      <th>0</th>\n",
       "      <td>NOTAS_ALICORP_2018_1Q</td>\n",
       "      <td>0.643917</td>\n",
       "      <td>0.260692</td>\n",
       "    </tr>\n",
       "    <tr>\n",
       "      <th>1</th>\n",
       "      <td>NOTAS_ALICORP_2018_2Q</td>\n",
       "      <td>0.830357</td>\n",
       "      <td>0.261477</td>\n",
       "    </tr>\n",
       "    <tr>\n",
       "      <th>2</th>\n",
       "      <td>NOTAS_ALICORP_2018_3Q</td>\n",
       "      <td>0.592965</td>\n",
       "      <td>0.226923</td>\n",
       "    </tr>\n",
       "    <tr>\n",
       "      <th>3</th>\n",
       "      <td>NOTAS_ALICORP_2018_4Q</td>\n",
       "      <td>0.384091</td>\n",
       "      <td>0.277895</td>\n",
       "    </tr>\n",
       "    <tr>\n",
       "      <th>4</th>\n",
       "      <td>NOTAS_ALICORP_2019_1Q</td>\n",
       "      <td>0.825949</td>\n",
       "      <td>0.303226</td>\n",
       "    </tr>\n",
       "    <tr>\n",
       "      <th>5</th>\n",
       "      <td>NOTAS_ALICORP_2019_2Q</td>\n",
       "      <td>0.573134</td>\n",
       "      <td>0.246085</td>\n",
       "    </tr>\n",
       "    <tr>\n",
       "      <th>6</th>\n",
       "      <td>NOTAS_ALICORP_2019_3Q</td>\n",
       "      <td>0.246085</td>\n",
       "      <td>1.000000</td>\n",
       "    </tr>\n",
       "    <tr>\n",
       "      <th>7</th>\n",
       "      <td>NOTAS_ALICORP_2019_4Q</td>\n",
       "      <td>0.172000</td>\n",
       "      <td>0.172000</td>\n",
       "    </tr>\n",
       "    <tr>\n",
       "      <th>8</th>\n",
       "      <td>NOTAS_ALICORP_2020_1Q</td>\n",
       "      <td>NaN</td>\n",
       "      <td>NaN</td>\n",
       "    </tr>\n",
       "  </tbody>\n",
       "</table>\n",
       "</div>"
      ],
      "text/plain": [
       "              nombre_doc   Jaccard  Jaccard cr 4Q 2019\n",
       "0  NOTAS_ALICORP_2018_1Q  0.643917            0.260692\n",
       "1  NOTAS_ALICORP_2018_2Q  0.830357            0.261477\n",
       "2  NOTAS_ALICORP_2018_3Q  0.592965            0.226923\n",
       "3  NOTAS_ALICORP_2018_4Q  0.384091            0.277895\n",
       "4  NOTAS_ALICORP_2019_1Q  0.825949            0.303226\n",
       "5  NOTAS_ALICORP_2019_2Q  0.573134            0.246085\n",
       "6  NOTAS_ALICORP_2019_3Q  0.246085            1.000000\n",
       "7  NOTAS_ALICORP_2019_4Q  0.172000            0.172000\n",
       "8  NOTAS_ALICORP_2020_1Q       NaN                 NaN"
      ]
     },
     "execution_count": 58,
     "metadata": {},
     "output_type": "execute_result"
    }
   ],
   "source": [
    "dataframe[['nombre_doc','Jaccard','Jaccard cr 4Q 2019']]"
   ]
  },
  {
   "cell_type": "markdown",
   "metadata": {},
   "source": [
    "#### Hasta acá tenemos 9 estados financieros de una misma empresa ya limpios de caracteres y palabras basura. Ahora tenemos que Lemmatizar las palabras, es decir, volverlas a su raíz para mejor procesamiento. Luego, intentaremos clasificar los documentos según el modelo No Supervisado: Latent Dirichlet Allocation.\n",
    "\n",
    "Recuerda en que la diferencia entre Lemmatizer y Stemmer yace en la metodología de la reducción de palabras. Mientras Lemmatizer se basa en un análisis morfológico de las palabras y requiere de un diccionario de especificación, Stemmer se basa en cortar prefijos y sufijos comunes a las palabras involucradas en el texto. "
   ]
  },
  {
   "cell_type": "code",
   "execution_count": 59,
   "metadata": {},
   "outputs": [],
   "source": [
    "from nltk.stem import PorterStemmer\n",
    "\n",
    "def porter_stemmer(word):\n",
    "    stemmer = PorterStemmer()\n",
    "    return stemmer.stem(word)"
   ]
  },
  {
   "cell_type": "code",
   "execution_count": 60,
   "metadata": {},
   "outputs": [
    {
     "data": {
      "text/plain": [
       "0    [marzo, expresados, miles, soles, principios, ...\n",
       "1    [junio, expresados, miles, soles, principios, ...\n",
       "2    [setiembre, expresados, miles, soles, principi...\n",
       "3    [expresados, miles, soles, principios, practic...\n",
       "4    [marzo, expresados, miles, soles, principios, ...\n",
       "5    [separados, junio, expresados, miles, soles, p...\n",
       "6    [separados, septiembre, expresados, miles, sol...\n",
       "7    [subsidiarias, expresados, miles, soles, princ...\n",
       "8    [subsidiarias, marzo, expresados, miles, soles...\n",
       "Name: raw_clean_text, dtype: object"
      ]
     },
     "execution_count": 60,
     "metadata": {},
     "output_type": "execute_result"
    }
   ],
   "source": [
    "dataframe['raw_clean_text'].str.split()"
   ]
  },
  {
   "cell_type": "code",
   "execution_count": 62,
   "metadata": {},
   "outputs": [
    {
     "data": {
      "text/plain": [
       "'subsidiaria'"
      ]
     },
     "execution_count": 62,
     "metadata": {},
     "output_type": "execute_result"
    }
   ],
   "source": [
    "porter_stemmer('subsidiarias')"
   ]
  },
  {
   "cell_type": "code",
   "execution_count": 63,
   "metadata": {},
   "outputs": [],
   "source": [
    "dict_data = {k:v.split() for k, v in zip(dataframe['nombre_doc'],dataframe['raw_clean_text'])}"
   ]
  },
  {
   "cell_type": "code",
   "execution_count": 64,
   "metadata": {},
   "outputs": [],
   "source": [
    "doc_clean = [*dataframe['raw_clean_text'].str.split()]"
   ]
  },
  {
   "cell_type": "code",
   "execution_count": 65,
   "metadata": {},
   "outputs": [],
   "source": [
    "import gensim\n",
    "from gensim import corpora\n",
    "from gensim.models import CoherenceModel\n",
    "\n",
    "#Debemos crear un diccionario de nuestro corpus (lista de docs), donde cada término único sea asignado a un index. \n",
    "\n",
    "#Convirtiendo la lista de documentos corpus en una Matriz de términos de documentos, usando el diccionario dict_data\n",
    "\n",
    "dictionary = corpora.Dictionary(doc_clean)\n",
    "doc_term_matrix = [dictionary.doc2bow(doc) for doc in doc_clean]"
   ]
  },
  {
   "cell_type": "code",
   "execution_count": 66,
   "metadata": {},
   "outputs": [],
   "source": [
    "dictionary = corpora.Dictionary(doc_clean)"
   ]
  },
  {
   "cell_type": "code",
   "execution_count": null,
   "metadata": {},
   "outputs": [],
   "source": []
  },
  {
   "cell_type": "markdown",
   "metadata": {},
   "source": [
    "#### Latent Dirichlet Allocation model: "
   ]
  },
  {
   "cell_type": "code",
   "execution_count": 37,
   "metadata": {},
   "outputs": [],
   "source": [
    "LDA = gensim.models.ldamodel.LdaModel\n",
    "\n",
    "ldamodel = LDA(doc_term_matrix, num_topics=5, id2word=dictionary, passes=40,random_state=300)"
   ]
  },
  {
   "cell_type": "code",
   "execution_count": 38,
   "metadata": {},
   "outputs": [
    {
     "name": "stdout",
     "output_type": "stream",
     "text": [
      "[(0, '0.015*\"arrendamiento\" + 0.014*\"inversiones\" + 0.012*\"activo\" + 0.012*\"arrendamientos\" + 0.011*\"pasivo\" + 0.010*\"subsidiaria\"'), (1, '0.012*\"instrumentos\" + 0.011*\"coberturas\" + 0.011*\"cobertura\" + 0.011*\"ingresos\" + 0.010*\"contables\" + 0.010*\"inversiones\"'), (2, '0.001*\"cobrar\" + 0.001*\"emision\" + 0.001*\"serie\" + 0.001*\"inversiones\" + 0.001*\"marzo\" + 0.001*\"contables\"'), (3, '0.019*\"arrendamiento\" + 0.014*\"bonos\" + 0.014*\"emision\" + 0.010*\"subsidiarias\" + 0.009*\"vigentes\" + 0.009*\"bolivianos\"'), (4, '0.023*\"cobrar\" + 0.014*\"marzo\" + 0.008*\"vitapro\" + 0.008*\"distribucion\" + 0.008*\"deterioro\" + 0.006*\"mar\"')]\n"
     ]
    }
   ],
   "source": [
    "print(ldamodel.print_topics(num_topics=5, num_words=6))"
   ]
  },
  {
   "cell_type": "markdown",
   "metadata": {},
   "source": [
    "#### Hierarchical Dirichlet process:\n",
    "\n",
    "En este caso, el modelo debería poner el número de tópicos que necesitas."
   ]
  },
  {
   "cell_type": "code",
   "execution_count": 50,
   "metadata": {},
   "outputs": [
    {
     "data": {
      "text/plain": [
       "[(0,\n",
       "  '0.014*arrendamiento + 0.012*inversiones + 0.012*subsidiaria + 0.010*pasivo + 0.010*activo + 0.010*arrendamientos + 0.009*cambio + 0.008*derecho + 0.008*call + 0.007*acciones + 0.007*enero + 0.006*spread + 0.006*contables + 0.006*corporativos + 0.006*separados + 0.006*capital + 0.006*emision + 0.006*tipo + 0.006*realizo + 0.006*serie'),\n",
       " (1,\n",
       "  '0.009*instrumentos + 0.009*inversiones + 0.008*contables + 0.008*ingresos + 0.008*cobertura + 0.008*coberturas + 0.007*serie + 0.007*soles + 0.007*emision + 0.007*costo + 0.007*subsidiaria + 0.006*forma + 0.006*informacion + 0.006*enero + 0.006*opciones + 0.006*vencimiento + 0.006*corrienteno + 0.005*bimbo + 0.005*periodo + 0.005*bonos'),\n",
       " (2,\n",
       "  '0.009*dividendos + 0.008*inversiones + 0.008*serie + 0.008*emision + 0.007*contables + 0.007*arrendamiento + 0.007*informacion + 0.007*o + 0.006*arrendamientos + 0.006*instrumentos + 0.006*bonos + 0.006*opciones + 0.006*ecuador + 0.006*periodo + 0.006*pasivo + 0.006*activo + 0.006*plazo + 0.006*enero + 0.006*ingresos + 0.006*declaro'),\n",
       " (3,\n",
       "  '0.014*arrendamiento + 0.012*bonos + 0.011*emision + 0.008*subsidiarias + 0.008*vigentes + 0.007*bolivianos + 0.007*marzo + 0.006*inversiones + 0.006*programa + 0.006*call + 0.006*spread + 0.006*propiedad + 0.006*millones + 0.006*l + 0.006*planta + 0.006*abril + 0.005*contratos + 0.005*acuicultura + 0.005*internacionales + 0.005*cambio'),\n",
       " (4,\n",
       "  '0.010*ingresos + 0.009*contables + 0.007*instrumentos + 0.007*cobertura + 0.007*serie + 0.007*emision + 0.007*equipos + 0.007*soles + 0.006*coberturas + 0.006*enero + 0.006*informacion + 0.006*contratos + 0.006*tipo + 0.005*medicion + 0.005*deterioro + 0.005*variaciones + 0.005*contabilidad + 0.005*forma + 0.005*cambio + 0.005*perdidas'),\n",
       " (5,\n",
       "  '0.016*cobrar + 0.009*marzo + 0.007*deterioro + 0.006*decidio + 0.006*vitapro + 0.006*distribucion + 0.006*enseres + 0.005*subsidiarias + 0.005*corriente + 0.005*continuacion + 0.005*emision + 0.005*serie + 0.005*indirecta + 0.005*equipos + 0.005*fiscal + 0.005*l + 0.005*emergencia + 0.005*definicion + 0.005*estimaciones + 0.004*calificado'),\n",
       " (6,\n",
       "  '0.008*sustancialmente + 0.008*acordo + 0.007*reconocidos + 0.006*relacionan + 0.006*operacion + 0.006*especificas + 0.006*medida + 0.006*accounting + 0.005*tasas + 0.005*productos + 0.005*control + 0.005*perdidas + 0.005*e + 0.005*ndeg + 0.005*dolar + 0.005*caso + 0.005*incluye + 0.004*relaciones + 0.004*facturas + 0.004*totalidad'),\n",
       " (7,\n",
       "  '0.007*promedio + 0.006*garantias + 0.006*cierre + 0.006*periodica + 0.006*actual + 0.006*exenciones + 0.005*commodities + 0.005*constante + 0.005*demar + 0.005*material + 0.005*jabon + 0.005*obligacion + 0.005*f + 0.005*iasb + 0.004*adicionales + 0.004*corporation + 0.004*bienes + 0.004*base + 0.004*analizando + 0.004*finalmente'),\n",
       " (8,\n",
       "  '0.007*variaciones + 0.007*downford + 0.007*transferida + 0.007*contabilidad + 0.006*ingreso + 0.006*plazo + 0.006*distribuidos + 0.006*recompras + 0.006*decretada + 0.005*fiscales + 0.005*derechos + 0.005*intereses + 0.005*arrendatario + 0.004*integrales + 0.004*facturas + 0.004*actual + 0.004*presenta + 0.004*saldos + 0.004*garantia + 0.004*tipos'),\n",
       " (9,\n",
       "  '0.008*probabilidad + 0.008*sustituye + 0.006*comiencen + 0.006*cernical + 0.006*panetones + 0.006*procedera + 0.006*corto + 0.006*distribuyo + 0.005*circunstancias + 0.005*efectiva + 0.005*brote + 0.005*molienda + 0.005*finalidad + 0.005*salud + 0.005*expiro + 0.005*bank + 0.005*aplicables + 0.005*nicovita + 0.005*juntas + 0.005*tomen'),\n",
       " (10,\n",
       "  '0.007*sucursal + 0.007*papeles + 0.007*recta + 0.006*definicion + 0.006*opcion + 0.006*previas + 0.006*supremo + 0.005*intrinseco + 0.005*servicios + 0.005*dispuesta + 0.005*nicovita + 0.005*comercializacion + 0.005*incertidumbres + 0.005*internacionales + 0.005*adquiridos + 0.005*forman + 0.005*cernical + 0.004*beneficio + 0.004*partes + 0.004*operativos'),\n",
       " (11,\n",
       "  '0.008*agosto + 0.007*efectiva + 0.007*requerimientos + 0.007*ltda + 0.006*subsidiaria + 0.006*ajuste + 0.006*internacionales + 0.005*indicada + 0.005*eficaces + 0.005*realizan + 0.005*posibles + 0.005*pagos + 0.005*e + 0.005*generan + 0.005*vigencia + 0.005*contenida + 0.005*ascendente + 0.004*v + 0.004*prooriente + 0.004*instantaneos'),\n",
       " (12,\n",
       "  '0.008*provisiones + 0.007*activo + 0.006*espana + 0.006*coberturas + 0.006*plusvalia + 0.006*moneda + 0.006*extension + 0.005*ejercicios + 0.005*referencia + 0.005*gastos + 0.005*mundo + 0.005*cobradas + 0.005*patrimonio + 0.005*bank + 0.005*intrinseco + 0.005*transferida + 0.005*tipo + 0.005*hechos + 0.005*mercado + 0.005*decretada'),\n",
       " (13,\n",
       "  '0.008*corrientegeneral + 0.007*participaciones + 0.007*contabilidad + 0.006*decidio + 0.006*economica + 0.006*eventos + 0.006*material + 0.006*solicitar + 0.005*asimismo + 0.005*calificando + 0.005*cubre + 0.005*sulfargen + 0.005*libros + 0.005*contabilizacion + 0.005*arrendatario + 0.005*tomen + 0.005*tendra + 0.005*previas + 0.005*promedio + 0.004*finalmente'),\n",
       " (14,\n",
       "  '0.008*obras + 0.007*acordo + 0.007*aplicada + 0.006*menores + 0.006*beneficios + 0.006*instrumentos + 0.006*declaracion + 0.006*clasificar + 0.006*circulacion + 0.005*composicion + 0.005*concluyan + 0.005*panificadora + 0.005*gratuita + 0.005*limite + 0.005*espera + 0.005*control + 0.005*desembolso + 0.005*adquirieron + 0.004*seguido + 0.004*transfirieron'),\n",
       " (15,\n",
       "  '0.008*informacion + 0.007*sanford + 0.007*contables + 0.007*octubre + 0.007*programa + 0.006*linea + 0.006*interpuestos + 0.006*logisticas + 0.006*seguir + 0.006*versiones + 0.006*argentina + 0.006*derivado + 0.005*ndeg + 0.005*obras + 0.005*financial + 0.005*industrias + 0.005*santa + 0.005*omitiendola + 0.005*contable + 0.005*indicado'),\n",
       " (16,\n",
       "  '0.008*denominada + 0.007*maquinaria + 0.006*ponderada + 0.006*bases + 0.005*genera + 0.005*cierre + 0.005*emitidas + 0.005*inbalnor + 0.005*mantenia + 0.005*santa + 0.005*global + 0.005*metodos + 0.005*fondo + 0.004*pastas + 0.004*f + 0.004*credicorp + 0.004*junta + 0.004*descritos + 0.004*capitalizada + 0.004*exenciones'),\n",
       " (17,\n",
       "  '0.007*adoptar + 0.007*ciniif + 0.006*sociedades + 0.006*economica + 0.006*procesos + 0.006*lavar + 0.006*julio + 0.005*mayo + 0.005*pagar + 0.005*cobrados + 0.005*ampliacion + 0.005*f + 0.005*masivo + 0.005*aceite + 0.005*ley + 0.005*absorcion + 0.005*liquidacion + 0.005*contabilizacion + 0.004*transicion + 0.004*derechos'),\n",
       " (18,\n",
       "  '0.008*instrumentos + 0.007*determina + 0.007*establece + 0.007*corrientegeneral + 0.006*adiciembre + 0.006*senior + 0.006*usuarios + 0.006*tvbc + 0.006*pagado + 0.005*evaluacion + 0.005*obras + 0.005*r + 0.005*notes + 0.005*junio + 0.005*comprende + 0.005*reconocen + 0.005*prospectiva + 0.004*monto + 0.004*contabilidad + 0.004*sucursal'),\n",
       " (19,\n",
       "  '0.009*global + 0.009*comercializacion + 0.007*beneficio + 0.006*productos + 0.006*set + 0.006*asistencia + 0.006*derivado + 0.006*desembolso + 0.006*cubrir + 0.006*comercializa + 0.006*iv + 0.005*programa + 0.005*pago + 0.005*estimacion + 0.005*establece + 0.005*industrial + 0.005*computo + 0.005*internacional + 0.005*instrumentos + 0.005*americano')]"
      ]
     },
     "execution_count": 50,
     "metadata": {},
     "output_type": "execute_result"
    }
   ],
   "source": [
    "from gensim.models.hdpmodel import HdpModel\n",
    "\n",
    "hdpmodel = HdpModel(corpus= doc_term_matrix, id2word=dictionary, random_state=300)\n",
    "\n",
    "hdpmodel.show_topics()"
   ]
  },
  {
   "cell_type": "markdown",
   "metadata": {},
   "source": [
    "#### Métricas del modelo: \n",
    "\n",
    "Perplexity: Qué tan bueno es el modelo con respecto a palabras buenas.\n",
    "\n",
    "Coherence Score: Qué tanto se sustenta el modelo con respecto a las palabras aledañas."
   ]
  },
  {
   "cell_type": "code",
   "execution_count": 39,
   "metadata": {},
   "outputs": [
    {
     "name": "stdout",
     "output_type": "stream",
     "text": [
      "Perplexity: -6.39911258259982\n",
      "Coherence Score: 0.27063647144685754\n"
     ]
    }
   ],
   "source": [
    "print('Perplexity: {}'.format(ldamodel.log_perplexity(doc_term_matrix))) #Mientras más bajo mejor.\n",
    "\n",
    "#Cohere Score:\n",
    "coherence_model_lda = CoherenceModel(model=ldamodel, texts= doc_clean, dictionary=dictionary, coherence='c_v')\n",
    "coherence_lda = coherence_model_lda.get_coherence()\n",
    "\n",
    "print('Coherence Score: {}'.format(coherence_lda))"
   ]
  },
  {
   "cell_type": "code",
   "execution_count": 40,
   "metadata": {},
   "outputs": [
    {
     "name": "stdout",
     "output_type": "stream",
     "text": [
      "Coherence Score: 0.24235503368297784\n"
     ]
    }
   ],
   "source": [
    "ldamodel2 = LDA(doc_term_matrix, num_topics=3, id2word=dictionary, passes=60,random_state=300)\n",
    "coherence_model_lda = CoherenceModel(model=ldamodel2, texts= doc_clean, dictionary=dictionary, coherence='c_v')\n",
    "coherence_lda = coherence_model_lda.get_coherence()\n",
    "\n",
    "print('Coherence Score: {}'.format(coherence_lda))"
   ]
  },
  {
   "cell_type": "code",
   "execution_count": 41,
   "metadata": {},
   "outputs": [
    {
     "name": "stdout",
     "output_type": "stream",
     "text": [
      "Coherence Score: 0.36707448323881103\n"
     ]
    }
   ],
   "source": [
    "#Ahora le pondremos 600 passes\n",
    "ldamodel2 = LDA(doc_term_matrix, num_topics=7, id2word=dictionary, passes=600,random_state=300)\n",
    "coherence_model_lda = CoherenceModel(model=ldamodel2, texts= doc_clean, dictionary=dictionary, coherence='c_v')\n",
    "coherence_lda = coherence_model_lda.get_coherence()\n",
    "\n",
    "print('Coherence Score: {}'.format(coherence_lda))"
   ]
  },
  {
   "cell_type": "code",
   "execution_count": 42,
   "metadata": {},
   "outputs": [
    {
     "name": "stdout",
     "output_type": "stream",
     "text": [
      "[(5, '0.020*\"arrendamiento\" + 0.015*\"bonos\" + 0.015*\"emision\" + 0.011*\"subsidiarias\" + 0.009*\"vigentes\" + 0.009*\"bolivianos\"'), (4, '0.001*\"construcciones\" + 0.001*\"edificios\" + 0.001*\"unidades\" + 0.001*\"obras\" + 0.001*\"maquinaria\" + 0.001*\"plantas\"'), (0, '0.026*\"cobrar\" + 0.015*\"marzo\" + 0.009*\"deterioro\" + 0.009*\"vitapro\" + 0.009*\"distribucion\" + 0.009*\"mar\"'), (2, '0.001*\"construcciones\" + 0.001*\"edificios\" + 0.001*\"unidades\" + 0.001*\"obras\" + 0.001*\"maquinaria\" + 0.001*\"plantas\"'), (1, '0.013*\"instrumentos\" + 0.012*\"coberturas\" + 0.012*\"cobertura\" + 0.011*\"ingresos\" + 0.011*\"contables\" + 0.011*\"inversiones\"')]\n"
     ]
    }
   ],
   "source": [
    "print(ldamodel2.print_topics(num_topics=5, num_words=6))"
   ]
  },
  {
   "cell_type": "code",
   "execution_count": 67,
   "metadata": {},
   "outputs": [
    {
     "name": "stdout",
     "output_type": "stream",
     "text": [
      "Coherence Score: 0.36707448323881103\n"
     ]
    }
   ],
   "source": [
    "ldamodel3 = LDA(corpus = doc_term_matrix, num_topics=7, id2word=dictionary, passes=600,random_state=300,alpha=0.05)\n",
    "coherence_model_lda = CoherenceModel(model=ldamodel2, texts= doc_clean, dictionary=dictionary, coherence='c_v')\n",
    "coherence_lda = coherence_model_lda.get_coherence()\n",
    "\n",
    "print('Coherence Score: {}'.format(coherence_lda))"
   ]
  },
  {
   "cell_type": "code",
   "execution_count": 68,
   "metadata": {},
   "outputs": [
    {
     "name": "stdout",
     "output_type": "stream",
     "text": [
      "[(5, '0.020*\"arrendamiento\" + 0.015*\"bonos\" + 0.015*\"emision\" + 0.011*\"subsidiarias\" + 0.009*\"vigentes\" + 0.009*\"bolivianos\"'), (4, '0.001*\"extension\" + 0.001*\"estime\" + 0.001*\"fiscales\" + 0.001*\"fiscal\" + 0.001*\"factores\" + 0.001*\"incertidumbre\"'), (0, '0.026*\"cobrar\" + 0.015*\"marzo\" + 0.009*\"deterioro\" + 0.009*\"vitapro\" + 0.009*\"distribucion\" + 0.009*\"mar\"'), (2, '0.001*\"extension\" + 0.001*\"estime\" + 0.001*\"fiscales\" + 0.001*\"fiscal\" + 0.001*\"factores\" + 0.001*\"incertidumbre\"'), (1, '0.013*\"instrumentos\" + 0.012*\"cobertura\" + 0.012*\"coberturas\" + 0.011*\"ingresos\" + 0.011*\"contables\" + 0.011*\"inversiones\"')]\n"
     ]
    }
   ],
   "source": [
    "print(ldamodel3.print_topics(num_topics=5, num_words=6))"
   ]
  },
  {
   "cell_type": "code",
   "execution_count": null,
   "metadata": {},
   "outputs": [],
   "source": []
  },
  {
   "cell_type": "markdown",
   "metadata": {},
   "source": [
    "Podemos ver que algunos de las palabras dentro de los tópicos nos pueden ser útiles. Pero, quedan las preguntas:\n",
    "\n",
    "¿Cómo sé cuántos tópicos son óptimos dentro de mis datos? \n",
    "\n",
    "¿Cómo veo el puntaje de un tópico por documento?\n",
    "\n",
    "#### Optimizando el Número de tópicos: \n",
    "\n",
    "Fuente: https://towardsdatascience.com/evaluate-topic-model-in-python-latent-dirichlet-allocation-lda-7d57484bb5d0"
   ]
  },
  {
   "cell_type": "code",
   "execution_count": 45,
   "metadata": {},
   "outputs": [
    {
     "name": "stdout",
     "output_type": "stream",
     "text": [
      "Va 1 grupo de modelos ejecutado para 3 de tópicos\n",
      "Va 1 modelo entrenado con un score de 0.2404934014818019\n",
      "Va 2 modelo entrenado con un score de 0.3842900891470514\n",
      "Va 3 modelo entrenado con un score de 0.38122253938677675\n",
      "Va 4 modelo entrenado con un score de 0.38122253938677675\n",
      "Va 5 modelo entrenado con un score de 0.3696535061736827\n",
      "Va 2 grupo de modelos ejecutado para 4 de tópicos\n",
      "Va 1 modelo entrenado con un score de 0.26706563521896154\n",
      "Va 2 modelo entrenado con un score de 0.2495850882560542\n",
      "Va 3 modelo entrenado con un score de 0.2565842424763964\n",
      "Va 4 modelo entrenado con un score de 0.2565842424763964\n",
      "Va 5 modelo entrenado con un score de 0.2655812412564498\n",
      "Va 3 grupo de modelos ejecutado para 5 de tópicos\n",
      "Va 1 modelo entrenado con un score de 0.2945573726610323\n",
      "Va 2 modelo entrenado con un score de 0.3711982774357735\n",
      "Va 3 modelo entrenado con un score de 0.364854330401864\n",
      "Va 4 modelo entrenado con un score de 0.3872173983424222\n",
      "Va 5 modelo entrenado con un score de 0.32092616930501194\n",
      "Va 4 grupo de modelos ejecutado para 6 de tópicos\n",
      "Va 1 modelo entrenado con un score de 0.29239198734742605\n",
      "Va 2 modelo entrenado con un score de 0.31309482628330704\n",
      "Va 3 modelo entrenado con un score de 0.330511083714172\n",
      "Va 4 modelo entrenado con un score de 0.291780658366816\n",
      "Va 5 modelo entrenado con un score de 0.2894662851337655\n",
      "Va 5 grupo de modelos ejecutado para 7 de tópicos\n",
      "Va 1 modelo entrenado con un score de 0.27531114443141846\n",
      "Va 2 modelo entrenado con un score de 0.28377655376457006\n",
      "Va 3 modelo entrenado con un score de 0.29286317266268325\n",
      "Va 4 modelo entrenado con un score de 0.4188134597723786\n",
      "Va 5 modelo entrenado con un score de 0.27685700629764576\n",
      "Va 6 grupo de modelos ejecutado para 8 de tópicos\n",
      "Va 1 modelo entrenado con un score de 0.2595961018472535\n",
      "Va 2 modelo entrenado con un score de 0.27766523953625155\n",
      "Va 3 modelo entrenado con un score de 0.27042850823387066\n",
      "Va 4 modelo entrenado con un score de 0.36132859883986435\n",
      "Va 5 modelo entrenado con un score de 0.2578753138185953\n",
      "Va 7 grupo de modelos ejecutado para 9 de tópicos\n",
      "Va 1 modelo entrenado con un score de 0.290560249319374\n",
      "Va 2 modelo entrenado con un score de 0.3009834102927209\n",
      "Va 3 modelo entrenado con un score de 0.3086725185339114\n",
      "Va 4 modelo entrenado con un score de 0.26822887066649037\n",
      "Va 5 modelo entrenado con un score de 0.29364338590480965\n"
     ]
    }
   ],
   "source": [
    "import numpy as np\n",
    "import tqdm\n",
    "\n",
    "def compute_coherence_values_lda(corpus, texts, id2word, alpha, n_topics):\n",
    "    \"Hace el modelo y luego valida los resultados\"\n",
    "    lda_model = gensim.models.LdaMulticore(corpus=corpus,\n",
    "                                           id2word=id2word,\n",
    "                                           num_topics=n_topics, \n",
    "                                           random_state=133,\n",
    "                                           passes=50,\n",
    "                                           alpha=alpha)\n",
    "    \n",
    "    coherence_model_lda = CoherenceModel(model=lda_model, texts=texts, dictionary=dictionary, coherence='c_v')\n",
    "    \n",
    "    return coherence_model_lda.get_coherence()\n",
    "\n",
    "def compute_coherence_values_hdp(corpus, texts, id2word, alpha, beta, tau):\n",
    "    return 0\n",
    "\n",
    "grid = {}\n",
    "grid['Validation_Set'] = {}\n",
    "# Rango de tópicos\n",
    "min_topics = 3\n",
    "max_topics = 10\n",
    "topics_range = range(min_topics, max_topics, 1)\n",
    "# Rango de optimización del alpha\n",
    "alpha = list(np.arange(0.01, 1, 0.25))\n",
    "alpha.append('symmetric')\n",
    "# Rango de optimización del beta\n",
    "beta = list(np.arange(0.01, 1, 0.25))\n",
    "beta.append('symmetric')\n",
    "# VTest de validación\n",
    "num_of_docs = len(doc_clean)\n",
    "\n",
    "model_results = {\n",
    "                 'Topics': [],\n",
    "                 'Alpha': [],\n",
    "                 'Coherence': []\n",
    "                }\n",
    "n=0\n",
    "for n_topic in topics_range:\n",
    "    n += 1\n",
    "    print(\"Va {} grupo de modelos ejecutado para {} de tópicos\".format(n,n_topic))\n",
    "    i=0\n",
    "    for a in alpha:\n",
    "        i+=1\n",
    "        coherence_value = compute_coherence_values_lda(corpus = doc_term_matrix, texts=doc_clean, n_topics=n_topic, alpha=a,id2word=dictionary)\n",
    "        print('Va {} modelo entrenado con un score de {}'.format(i, coherence_value))\n",
    "        model_results['Topics'].append(n_topic)\n",
    "        model_results['Alpha'].append(a)\n",
    "        model_results['Coherence'].append(coherence_value)\n",
    "\n",
    "resultados = pd.DataFrame(model_results)"
   ]
  },
  {
   "cell_type": "code",
   "execution_count": 46,
   "metadata": {},
   "outputs": [
    {
     "data": {
      "text/html": [
       "<div>\n",
       "<style scoped>\n",
       "    .dataframe tbody tr th:only-of-type {\n",
       "        vertical-align: middle;\n",
       "    }\n",
       "\n",
       "    .dataframe tbody tr th {\n",
       "        vertical-align: top;\n",
       "    }\n",
       "\n",
       "    .dataframe thead th {\n",
       "        text-align: right;\n",
       "    }\n",
       "</style>\n",
       "<table border=\"1\" class=\"dataframe\">\n",
       "  <thead>\n",
       "    <tr style=\"text-align: right;\">\n",
       "      <th></th>\n",
       "      <th>Topics</th>\n",
       "      <th>Alpha</th>\n",
       "      <th>Coherence</th>\n",
       "    </tr>\n",
       "  </thead>\n",
       "  <tbody>\n",
       "    <tr>\n",
       "      <th>23</th>\n",
       "      <td>7</td>\n",
       "      <td>0.76</td>\n",
       "      <td>0.418813</td>\n",
       "    </tr>\n",
       "    <tr>\n",
       "      <th>13</th>\n",
       "      <td>5</td>\n",
       "      <td>0.76</td>\n",
       "      <td>0.387217</td>\n",
       "    </tr>\n",
       "    <tr>\n",
       "      <th>1</th>\n",
       "      <td>3</td>\n",
       "      <td>0.26</td>\n",
       "      <td>0.384290</td>\n",
       "    </tr>\n",
       "    <tr>\n",
       "      <th>2</th>\n",
       "      <td>3</td>\n",
       "      <td>0.51</td>\n",
       "      <td>0.381223</td>\n",
       "    </tr>\n",
       "    <tr>\n",
       "      <th>3</th>\n",
       "      <td>3</td>\n",
       "      <td>0.76</td>\n",
       "      <td>0.381223</td>\n",
       "    </tr>\n",
       "  </tbody>\n",
       "</table>\n",
       "</div>"
      ],
      "text/plain": [
       "    Topics Alpha  Coherence\n",
       "23       7  0.76   0.418813\n",
       "13       5  0.76   0.387217\n",
       "1        3  0.26   0.384290\n",
       "2        3  0.51   0.381223\n",
       "3        3  0.76   0.381223"
      ]
     },
     "execution_count": 46,
     "metadata": {},
     "output_type": "execute_result"
    }
   ],
   "source": [
    "resultados.sort_values('Coherence',ascending=False).head()"
   ]
  },
  {
   "cell_type": "code",
   "execution_count": 69,
   "metadata": {},
   "outputs": [
    {
     "name": "stdout",
     "output_type": "stream",
     "text": [
      "Coherence Score: 0.36707448323881103\n"
     ]
    }
   ],
   "source": [
    "ldamodel3 = LDA(corpus = doc_term_matrix, num_topics=5, id2word=dictionary, passes=600,random_state=300,alpha=0.75)\n",
    "coherence_model_lda = CoherenceModel(model=ldamodel2, texts= doc_clean, dictionary=dictionary, coherence='c_v')\n",
    "coherence_lda = coherence_model_lda.get_coherence()\n",
    "\n",
    "print('Coherence Score: {}'.format(coherence_lda))"
   ]
  },
  {
   "cell_type": "code",
   "execution_count": 70,
   "metadata": {},
   "outputs": [
    {
     "name": "stdout",
     "output_type": "stream",
     "text": [
      "[(5, '0.001*\"iquitos\" + 0.001*\"distribuidor\" + 0.001*\"muebles\" + 0.001*\"consorcio\" + 0.001*\"maquinaria\" + 0.001*\"obras\"'), (0, '0.013*\"arrendamiento\" + 0.012*\"activo\" + 0.012*\"inversiones\" + 0.011*\"arrendamientos\" + 0.010*\"pasivo\" + 0.010*\"derecho\"'), (4, '0.001*\"iquitos\" + 0.001*\"distribuidor\" + 0.001*\"muebles\" + 0.001*\"consorcio\" + 0.001*\"maquinaria\" + 0.001*\"obras\"'), (3, '0.019*\"arrendamiento\" + 0.015*\"bonos\" + 0.015*\"emision\" + 0.011*\"subsidiarias\" + 0.009*\"vigentes\" + 0.009*\"bolivianos\"'), (1, '0.012*\"instrumentos\" + 0.011*\"inversiones\" + 0.011*\"ingresos\" + 0.011*\"contables\" + 0.011*\"coberturas\" + 0.011*\"cobertura\"')]\n"
     ]
    }
   ],
   "source": [
    "print(ldamodel3.print_topics(num_topics=5, num_words=6))"
   ]
  },
  {
   "cell_type": "code",
   "execution_count": 71,
   "metadata": {},
   "outputs": [
    {
     "name": "stdout",
     "output_type": "stream",
     "text": [
      "[(2, '0.014*\"swap\" + 0.014*\"unwind\" + 0.014*\"equivalente\" + 0.014*\"registro\" + 0.014*\"acciones\" + 0.009*\"perdida\"'), (4, '0.001*\"iquitos\" + 0.001*\"distribuidor\" + 0.001*\"muebles\" + 0.001*\"consorcio\" + 0.001*\"maquinaria\" + 0.001*\"obras\"'), (1, '0.012*\"instrumentos\" + 0.011*\"inversiones\" + 0.011*\"ingresos\" + 0.011*\"contables\" + 0.011*\"coberturas\" + 0.011*\"cobertura\"'), (3, '0.019*\"arrendamiento\" + 0.015*\"bonos\" + 0.015*\"emision\" + 0.011*\"subsidiarias\" + 0.009*\"vigentes\" + 0.009*\"bolivianos\"'), (5, '0.001*\"iquitos\" + 0.001*\"distribuidor\" + 0.001*\"muebles\" + 0.001*\"consorcio\" + 0.001*\"maquinaria\" + 0.001*\"obras\"')]\n"
     ]
    }
   ],
   "source": [
    "print(ldamodel3.print_topics(num_topics=5, num_words=6))"
   ]
  },
  {
   "cell_type": "code",
   "execution_count": null,
   "metadata": {},
   "outputs": [],
   "source": []
  },
  {
   "cell_type": "markdown",
   "metadata": {},
   "source": [
    "### PyLDAvis"
   ]
  },
  {
   "cell_type": "code",
   "execution_count": 73,
   "metadata": {},
   "outputs": [
    {
     "data": {
      "text/html": [
       "\n",
       "<link rel=\"stylesheet\" type=\"text/css\" href=\"https://cdn.rawgit.com/bmabey/pyLDAvis/files/ldavis.v1.0.0.css\">\n",
       "\n",
       "\n",
       "<div id=\"ldavis_el1389632495911547605015331849\"></div>\n",
       "<script type=\"text/javascript\">\n",
       "\n",
       "var ldavis_el1389632495911547605015331849_data = {\"mdsDat\": {\"x\": [-0.17455313829249045, -0.0525910354606226, -0.0014012061204298806, 0.14670786477068057, 0.04091875755143117, 0.04091875755143117], \"y\": [-0.056330578818349374, -0.00044594482159420146, 0.1443044206384287, -0.05740098522851557, -0.01506345588498482, -0.015063455884984811], \"topics\": [1, 2, 3, 4, 5, 6], \"cluster\": [1, 1, 1, 1, 1, 1], \"Freq\": [42.416568756103516, 42.09821701049805, 13.15347957611084, 2.2586138248443604, 0.03656291961669922, 0.03656291961669922]}, \"tinfo\": {\"Category\": [\"Default\", \"Default\", \"Default\", \"Default\", \"Default\", \"Default\", \"Default\", \"Default\", \"Default\", \"Default\", \"Default\", \"Default\", \"Default\", \"Default\", \"Default\", \"Default\", \"Default\", \"Default\", \"Default\", \"Default\", \"Default\", \"Default\", \"Default\", \"Default\", \"Default\", \"Default\", \"Default\", \"Default\", \"Default\", \"Default\", \"Topic1\", \"Topic1\", \"Topic1\", \"Topic1\", \"Topic1\", \"Topic1\", \"Topic1\", \"Topic1\", \"Topic1\", \"Topic1\", \"Topic1\", \"Topic1\", \"Topic1\", \"Topic1\", \"Topic1\", \"Topic1\", \"Topic1\", \"Topic1\", \"Topic1\", \"Topic1\", \"Topic1\", \"Topic1\", \"Topic1\", \"Topic1\", \"Topic1\", \"Topic1\", \"Topic1\", \"Topic1\", \"Topic1\", \"Topic1\", \"Topic1\", \"Topic1\", \"Topic1\", \"Topic1\", \"Topic1\", \"Topic1\", \"Topic1\", \"Topic1\", \"Topic1\", \"Topic1\", \"Topic1\", \"Topic1\", \"Topic1\", \"Topic1\", \"Topic1\", \"Topic1\", \"Topic1\", \"Topic1\", \"Topic1\", \"Topic1\", \"Topic1\", \"Topic1\", \"Topic1\", \"Topic1\", \"Topic1\", \"Topic1\", \"Topic1\", \"Topic1\", \"Topic1\", \"Topic1\", \"Topic1\", \"Topic1\", \"Topic1\", \"Topic1\", \"Topic1\", \"Topic1\", \"Topic1\", \"Topic1\", \"Topic1\", \"Topic1\", \"Topic1\", \"Topic1\", \"Topic1\", \"Topic1\", \"Topic1\", \"Topic1\", \"Topic1\", \"Topic1\", \"Topic1\", \"Topic1\", \"Topic1\", \"Topic1\", \"Topic2\", \"Topic2\", \"Topic2\", \"Topic2\", \"Topic2\", \"Topic2\", \"Topic2\", \"Topic2\", \"Topic2\", \"Topic2\", \"Topic2\", \"Topic2\", \"Topic2\", \"Topic2\", \"Topic2\", \"Topic2\", \"Topic2\", \"Topic2\", \"Topic2\", \"Topic2\", \"Topic2\", \"Topic2\", \"Topic2\", \"Topic2\", \"Topic2\", \"Topic2\", \"Topic2\", \"Topic2\", \"Topic2\", \"Topic2\", \"Topic2\", \"Topic2\", \"Topic2\", \"Topic2\", \"Topic2\", \"Topic2\", \"Topic2\", \"Topic2\", \"Topic2\", \"Topic2\", \"Topic2\", \"Topic2\", \"Topic2\", \"Topic2\", \"Topic2\", \"Topic2\", \"Topic2\", \"Topic2\", \"Topic2\", \"Topic2\", \"Topic2\", \"Topic2\", \"Topic2\", \"Topic2\", \"Topic2\", \"Topic2\", \"Topic2\", \"Topic2\", \"Topic2\", \"Topic2\", \"Topic2\", \"Topic2\", \"Topic2\", \"Topic2\", \"Topic2\", \"Topic2\", \"Topic2\", \"Topic2\", \"Topic2\", \"Topic2\", \"Topic2\", \"Topic2\", \"Topic2\", \"Topic2\", \"Topic2\", \"Topic2\", \"Topic2\", \"Topic2\", \"Topic2\", \"Topic2\", \"Topic2\", \"Topic2\", \"Topic3\", \"Topic3\", \"Topic3\", \"Topic3\", \"Topic3\", \"Topic3\", \"Topic3\", \"Topic3\", \"Topic3\", \"Topic3\", \"Topic3\", \"Topic3\", \"Topic3\", \"Topic3\", \"Topic3\", \"Topic3\", \"Topic3\", \"Topic3\", \"Topic3\", \"Topic3\", \"Topic3\", \"Topic3\", \"Topic3\", \"Topic3\", \"Topic3\", \"Topic3\", \"Topic3\", \"Topic3\", \"Topic3\", \"Topic3\", \"Topic3\", \"Topic3\", \"Topic3\", \"Topic3\", \"Topic3\", \"Topic3\", \"Topic3\", \"Topic3\", \"Topic3\", \"Topic3\", \"Topic3\", \"Topic3\", \"Topic3\", \"Topic3\", \"Topic3\", \"Topic3\", \"Topic3\", \"Topic3\", \"Topic3\", \"Topic3\", \"Topic3\", \"Topic3\", \"Topic3\", \"Topic3\", \"Topic3\", \"Topic3\", \"Topic3\", \"Topic3\", \"Topic3\", \"Topic3\", \"Topic3\", \"Topic3\", \"Topic3\", \"Topic3\", \"Topic3\", \"Topic3\", \"Topic3\", \"Topic3\", \"Topic3\", \"Topic3\", \"Topic3\", \"Topic3\", \"Topic3\", \"Topic3\", \"Topic3\", \"Topic3\", \"Topic3\", \"Topic3\", \"Topic3\", \"Topic3\", \"Topic3\", \"Topic3\", \"Topic3\", \"Topic3\", \"Topic3\", \"Topic3\", \"Topic3\", \"Topic3\", \"Topic3\", \"Topic3\", \"Topic3\", \"Topic3\", \"Topic3\", \"Topic3\", \"Topic3\", \"Topic3\", \"Topic4\", \"Topic4\", \"Topic4\", \"Topic4\", \"Topic4\", \"Topic4\", \"Topic4\", \"Topic4\", \"Topic4\", \"Topic4\", \"Topic4\", \"Topic4\", \"Topic4\", \"Topic4\", \"Topic4\", \"Topic4\", \"Topic4\", \"Topic4\", \"Topic4\", \"Topic4\", \"Topic4\", \"Topic4\", \"Topic4\", \"Topic4\", \"Topic4\", \"Topic4\", \"Topic4\", \"Topic4\", \"Topic4\", \"Topic4\", \"Topic4\", \"Topic4\", \"Topic4\", \"Topic4\", \"Topic4\", \"Topic4\", \"Topic4\", \"Topic4\", \"Topic4\", \"Topic4\", \"Topic4\", \"Topic4\", \"Topic4\", \"Topic4\", \"Topic4\", \"Topic4\", \"Topic4\", \"Topic4\", \"Topic4\", \"Topic4\", \"Topic4\", \"Topic4\", \"Topic4\", \"Topic4\", \"Topic4\", \"Topic4\", \"Topic4\", \"Topic4\", \"Topic4\", \"Topic4\", \"Topic4\", \"Topic4\", \"Topic4\", \"Topic4\", \"Topic5\", \"Topic5\", \"Topic5\", \"Topic5\", \"Topic5\", \"Topic5\", \"Topic5\", \"Topic5\", \"Topic5\", \"Topic5\", \"Topic5\", \"Topic5\", \"Topic5\", \"Topic5\", \"Topic5\", \"Topic5\", \"Topic5\", \"Topic5\", \"Topic5\", \"Topic5\", \"Topic5\", \"Topic5\", \"Topic5\", \"Topic5\", \"Topic5\", \"Topic5\", \"Topic5\", \"Topic5\", \"Topic5\", \"Topic5\", \"Topic5\", \"Topic5\", \"Topic5\", \"Topic5\", \"Topic5\", \"Topic5\", \"Topic5\", \"Topic5\", \"Topic5\", \"Topic5\", \"Topic5\", \"Topic5\", \"Topic5\", \"Topic5\", \"Topic5\", \"Topic5\", \"Topic5\", \"Topic5\", \"Topic5\", \"Topic5\", \"Topic5\", \"Topic5\", \"Topic5\", \"Topic5\", \"Topic5\", \"Topic5\", \"Topic5\", \"Topic5\", \"Topic5\", \"Topic5\", \"Topic5\", \"Topic6\", \"Topic6\", \"Topic6\", \"Topic6\", \"Topic6\", \"Topic6\", \"Topic6\", \"Topic6\", \"Topic6\", \"Topic6\", \"Topic6\", \"Topic6\", \"Topic6\", \"Topic6\", \"Topic6\", \"Topic6\", \"Topic6\", \"Topic6\", \"Topic6\", \"Topic6\", \"Topic6\", \"Topic6\", \"Topic6\", \"Topic6\", \"Topic6\", \"Topic6\", \"Topic6\", \"Topic6\", \"Topic6\", \"Topic6\", \"Topic6\", \"Topic6\", \"Topic6\", \"Topic6\", \"Topic6\", \"Topic6\", \"Topic6\", \"Topic6\", \"Topic6\", \"Topic6\", \"Topic6\", \"Topic6\", \"Topic6\", \"Topic6\", \"Topic6\", \"Topic6\", \"Topic6\", \"Topic6\", \"Topic6\", \"Topic6\", \"Topic6\", \"Topic6\", \"Topic6\", \"Topic6\", \"Topic6\", \"Topic6\", \"Topic6\", \"Topic6\", \"Topic6\", \"Topic6\", \"Topic6\"], \"Freq\": [33.0, 11.0, 19.0, 19.0, 22.0, 21.0, 18.0, 29.0, 13.0, 12.0, 38.0, 7.0, 27.0, 16.0, 9.0, 9.0, 17.0, 11.0, 21.0, 23.0, 27.0, 31.0, 19.0, 8.0, 8.0, 7.0, 15.0, 16.0, 16.0, 19.0, 18.652437210083008, 18.652437210083008, 13.102763175964355, 9.403270721435547, 9.402945518493652, 7.5528411865234375, 7.5528411865234375, 7.5528411865234375, 7.5528411865234375, 7.5528411865234375, 6.628228664398193, 6.628228664398193, 6.627748966217041, 5.702607154846191, 5.702010154724121, 4.778093338012695, 4.778093338012695, 4.776643753051758, 3.8529374599456787, 3.8529374599456787, 3.8529374599456787, 3.8529374599456787, 3.8529374599456787, 3.8529374599456787, 3.8529374599456787, 3.8529374599456787, 3.8529374599456787, 3.8529374599456787, 3.8529374599456787, 3.8529374599456787, 10.327423095703125, 3.8529374599456787, 3.8529374599456787, 3.8529374599456787, 3.8529374599456787, 3.8529374599456787, 3.8529374599456787, 3.8529374599456787, 3.8529374599456787, 3.8529374599456787, 3.8529374599456787, 3.8529374599456787, 3.8529374599456787, 3.8529374599456787, 3.8529374599456787, 7.552845001220703, 7.552845001220703, 3.8529374599456787, 3.8529374599456787, 3.8529374599456787, 3.8529374599456787, 3.8529374599456787, 21.427377700805664, 13.10280704498291, 13.102580070495605, 14.028268814086914, 6.628270149230957, 6.628270149230957, 18.65264129638672, 11.252762794494629, 11.252464294433594, 14.952425956726074, 13.102316856384277, 11.252459526062012, 18.652446746826172, 11.252737045288086, 16.802427291870117, 12.17724609375, 19.57724952697754, 12.177239418029785, 14.952584266662598, 14.952568054199219, 16.802337646484375, 10.32799243927002, 10.327380180358887, 10.327967643737793, 11.25272274017334, 9.40296745300293, 11.252730369567871, 11.252711296081543, 11.25234317779541, 10.32766342163086, 12.170645713806152, 8.473165512084961, 8.473165512084961, 6.62442684173584, 20.489988327026367, 5.700056552886963, 5.700056552886963, 17.71687889099121, 4.775684833526611, 4.775684833526611, 3.8513126373291016, 3.8513119220733643, 3.8513119220733643, 3.8513119220733643, 3.8513119220733643, 3.8513119220733643, 3.8513119220733643, 3.8513119220733643, 6.624420166015625, 2.9269371032714844, 2.9269371032714844, 2.9269371032714844, 2.9269371032714844, 2.9269371032714844, 2.9269371032714844, 2.9269371032714844, 2.9269371032714844, 2.9269371032714844, 2.9269371032714844, 2.9269371032714844, 2.9269371032714844, 2.9269371032714844, 2.9269371032714844, 2.9269371032714844, 2.9269371032714844, 2.9269371032714844, 2.9269371032714844, 2.9269371032714844, 10.321854591369629, 2.9269371032714844, 18.641250610351562, 2.9269371032714844, 2.9269371032714844, 2.9269371032714844, 2.9269371032714844, 4.77567720413208, 2.9269371032714844, 2.9269371032714844, 17.71692657470703, 2.9269371032714844, 2.9269371032714844, 5.700057506561279, 2.9269371032714844, 2.9269371032714844, 23.26296615600586, 5.7000885009765625, 12.170700073242188, 16.79254913330078, 2.9269371032714844, 6.624449729919434, 15.868145942687988, 8.473139762878418, 14.943761825561523, 13.09502124786377, 20.489946365356445, 10.321919441223145, 13.095013618469238, 7.548812389373779, 5.700045585632324, 14.01937198638916, 11.246271133422852, 11.246275901794434, 13.095005989074707, 13.09499454498291, 14.019352912902832, 14.019277572631836, 10.32190227508545, 9.397515296936035, 9.397515296936035, 9.397525787353516, 9.397538185119629, 10.321805000305176, 4.907684803009033, 2.520125389099121, 2.520125389099121, 2.520125389099121, 2.520125389099121, 2.520125389099121, 2.520125389099121, 1.7242692708969116, 1.7242692708969116, 1.7242692708969116, 1.7242692708969116, 1.7242692708969116, 1.7242692708969116, 1.7242692708969116, 1.7242692708969116, 1.7242692708969116, 1.7242692708969116, 1.7242692708969116, 1.7242692708969116, 1.7242692708969116, 1.7242692708969116, 1.7242692708969116, 0.9284038543701172, 0.9284038543701172, 0.9284038543701172, 0.9284038543701172, 0.9284038543701172, 0.9284038543701172, 0.9284038543701172, 0.9284038543701172, 0.9284038543701172, 0.9284038543701172, 0.9284038543701172, 0.9284038543701172, 0.9284038543701172, 0.9284038543701172, 0.9284038543701172, 0.9284038543701172, 0.9284038543701172, 0.9284038543701172, 0.9284038543701172, 0.9284038543701172, 2.520167350769043, 2.520167350769043, 2.520167350769043, 2.5201640129089355, 0.9284038543701172, 0.9284038543701172, 4.1119561195373535, 0.9284038543701172, 0.9284038543701172, 0.9284038543701172, 0.9284038543701172, 0.9284038543701172, 0.9284038543701172, 0.9284038543701172, 0.9284038543701172, 0.9284038543701172, 0.9284038543701172, 2.5201878547668457, 0.9284038543701172, 0.9284038543701172, 0.9284038543701172, 10.478738784790039, 1.7242953777313232, 1.7242953777313232, 1.7242953777313232, 8.091255187988281, 8.091245651245117, 5.7036519050598145, 4.907779693603516, 4.11191463470459, 4.111910343170166, 4.111910820007324, 4.111903667449951, 3.3160414695739746, 2.5201518535614014, 2.5201492309570312, 2.520179510116577, 2.5201499462127686, 4.111899375915527, 4.111899375915527, 3.3160037994384766, 3.3160459995269775, 3.3160400390625, 4.111871719360352, 3.3160126209259033, 3.3160274028778076, 2.520190954208374, 2.5201754570007324, 2.5201735496520996, 2.520172595977783, 2.5201711654663086, 2.5201685428619385, 2.5201687812805176, 2.5201687812805176, 0.8712220788002014, 0.8712220788002014, 0.468757301568985, 0.468757301568985, 0.468757301568985, 0.468757301568985, 0.468757301568985, 0.468757301568985, 0.468757301568985, 0.468757301568985, 0.468757301568985, 0.468757301568985, 0.468757301568985, 0.468757301568985, 0.468757301568985, 0.468757301568985, 0.468757301568985, 0.468757301568985, 0.468757301568985, 0.468757301568985, 0.468757301568985, 0.468757301568985, 0.468757301568985, 0.468757301568985, 0.468757301568985, 0.468757301568985, 0.468757301568985, 0.468757301568985, 0.468757301568985, 0.468757301568985, 0.468757301568985, 0.468757301568985, 0.468757301568985, 0.468757301568985, 0.468757301568985, 0.468757301568985, 1.2736471891403198, 1.2736471891403198, 1.2736471891403198, 0.8712472319602966, 0.8712442517280579, 1.2736486196517944, 0.8712512254714966, 0.8712437152862549, 1.2736364603042603, 0.8712400197982788, 0.8712400197982788, 0.8712400197982788, 0.8712428212165833, 0.46877261996269226, 0.46877261996269226, 0.4687683582305908, 0.4687683582305908, 0.4687683582305908, 0.4687683582305908, 0.46876639127731323, 0.46876516938209534, 0.46876516938209534, 0.46876516938209534, 0.46876516938209534, 0.46876516938209534, 0.46876516938209534, 0.46876516938209534, 0.4687640070915222, 0.0017991404747590423, 0.0017991404747590423, 0.0017991404747590423, 0.0017991404747590423, 0.0017991404747590423, 0.0017991404747590423, 0.0017991404747590423, 0.0017991404747590423, 0.0017991404747590423, 0.0017991404747590423, 0.0017991404747590423, 0.0017991404747590423, 0.0017991404747590423, 0.0017991404747590423, 0.0017991404747590423, 0.0017991404747590423, 0.0017991404747590423, 0.0017991404747590423, 0.0017991404747590423, 0.0017991404747590423, 0.0017991404747590423, 0.0017991404747590423, 0.0017991404747590423, 0.0017991404747590423, 0.0017991404747590423, 0.0017991404747590423, 0.0017991404747590423, 0.0017991404747590423, 0.0017991404747590423, 0.0017991404747590423, 0.0017991404747590423, 0.001799143385142088, 0.001799143385142088, 0.001799143385142088, 0.001799143385142088, 0.0017991425702348351, 0.0017991425702348351, 0.0017991430358961225, 0.0017991425702348351, 0.001799142686650157, 0.0017991429194808006, 0.0017991425702348351, 0.001799142686650157, 0.001799142686650157, 0.0017991425702348351, 0.0017991425702348351, 0.0017991432687267661, 0.0017991429194808006, 0.0017991430358961225, 0.0017991425702348351, 0.0017991432687267661, 0.0017991430358961225, 0.0017991425702348351, 0.0017991432687267661, 0.0017991432687267661, 0.0017991425702348351, 0.001799142686650157, 0.0017991425702348351, 0.0017991432687267661, 0.0017991425702348351, 0.0017991429194808006, 0.0017991404747590423, 0.0017991404747590423, 0.0017991404747590423, 0.0017991404747590423, 0.0017991404747590423, 0.0017991404747590423, 0.0017991404747590423, 0.0017991404747590423, 0.0017991404747590423, 0.0017991404747590423, 0.0017991404747590423, 0.0017991404747590423, 0.0017991404747590423, 0.0017991404747590423, 0.0017991404747590423, 0.0017991404747590423, 0.0017991404747590423, 0.0017991404747590423, 0.0017991404747590423, 0.0017991404747590423, 0.0017991404747590423, 0.0017991404747590423, 0.0017991404747590423, 0.0017991404747590423, 0.0017991404747590423, 0.0017991404747590423, 0.0017991404747590423, 0.0017991404747590423, 0.0017991404747590423, 0.0017991404747590423, 0.0017991404747590423, 0.001799143385142088, 0.001799143385142088, 0.001799143385142088, 0.001799143385142088, 0.0017991425702348351, 0.0017991425702348351, 0.0017991430358961225, 0.0017991425702348351, 0.001799142686650157, 0.0017991429194808006, 0.0017991425702348351, 0.001799142686650157, 0.001799142686650157, 0.0017991425702348351, 0.0017991425702348351, 0.0017991432687267661, 0.0017991429194808006, 0.0017991430358961225, 0.0017991425702348351, 0.0017991432687267661, 0.0017991430358961225, 0.0017991425702348351, 0.0017991432687267661, 0.0017991432687267661, 0.0017991425702348351, 0.001799142686650157, 0.0017991425702348351, 0.0017991432687267661, 0.0017991425702348351, 0.0017991429194808006], \"Term\": [\"arrendamiento\", \"acciones\", \"coberturas\", \"cobertura\", \"arrendamientos\", \"activo\", \"derecho\", \"bonos\", \"forma\", \"separados\", \"emision\", \"swap\", \"ingresos\", \"costo\", \"bienes\", \"afectando\", \"deterioro\", \"bimbo\", \"subsidiarias\", \"pasivo\", \"instrumentos\", \"serie\", \"periodo\", \"arrendatarios\", \"empresa\", \"declaro\", \"prima\", \"contratos\", \"materia\", \"derivados\", \"coberturas\", \"cobertura\", \"forma\", \"bienes\", \"afectando\", \"prospectiva\", \"derivado\", \"clasificacion\", \"bimar\", \"contratacion\", \"patrimonio\", \"integrales\", \"descuentos\", \"aplicacion\", \"determinado\", \"proceso\", \"fusion\", \"clientes\", \"provisiones\", \"efectivas\", \"requerimientos\", \"resultantes\", \"retroactiva\", \"entro\", \"eficaces\", \"diferencias\", \"fases\", \"saldos\", \"designado\", \"utilizo\", \"bimbo\", \"estima\", \"version\", \"publico\", \"recopila\", \"posteriores\", \"consideradas\", \"reconocieron\", \"permite\", \"partida\", \"versiones\", \"proyecto\", \"previas\", \"cubierta\", \"corregir\", \"inicial\", \"aplicaron\", \"siguen\", \"sustituye\", \"flujo\", \"periodos\", \"lineal\", \"instrumentos\", \"costo\", \"deterioro\", \"soles\", \"significativo\", \"impacto\", \"ingresos\", \"medicion\", \"prima\", \"opciones\", \"periodo\", \"materia\", \"contables\", \"contabilidad\", \"serie\", \"financiera\", \"inversiones\", \"derivados\", \"informacion\", \"enero\", \"emision\", \"norma\", \"ventas\", \"contratos\", \"normas\", \"venta\", \"gastos\", \"corrienteno\", \"bonos\", \"pasivos\", \"separados\", \"arrendatarios\", \"empresa\", \"intradevco\", \"activo\", \"reconoce\", \"arrendadores\", \"derecho\", \"contable\", \"industrial\", \"adquirio\", \"presenta\", \"establece\", \"f\", \"terminacion\", \"trading\", \"determinar\", \"septiembre\", \"declaro\", \"reconocer\", \"naturpan\", \"ocurrir\", \"resulten\", \"economica\", \"obligados\", \"presentacion\", \"emergencia\", \"eventos\", \"excepciones\", \"modelo\", \"hayan\", \"modifica\", \"senior\", \"volver\", \"indice\", \"valorizar\", \"periodica\", \"reconocera\", \"acciones\", \"remanente\", \"arrendamientos\", \"utilizada\", \"tecnologia\", \"social\", \"similar\", \"ampliacion\", \"costos\", \"requiere\", \"pasivo\", \"contabilizacion\", \"contabilicen\", \"gasto\", \"correspondiente\", \"continuaran\", \"arrendamiento\", \"mar\", \"o\", \"cobrar\", \"definicion\", \"vitapro\", \"subsidiaria\", \"pagos\", \"cambio\", \"plazo\", \"inversiones\", \"capital\", \"marzo\", \"realizo\", \"arrendatario\", \"serie\", \"corporativos\", \"corrienteno\", \"informacion\", \"enero\", \"contables\", \"emision\", \"pasivos\", \"call\", \"spread\", \"tipo\", \"gastos\", \"bonos\", \"bolivianos\", \"adquisicion\", \"semestralmente\", \"iasa\", \"seran\", \"produccion\", \"operativo\", \"dolar\", \"emitio\", \"molienda\", \"procesos\", \"masivo\", \"llc\", \"lineas\", \"extrusion\", \"estadounidense\", \"realizada\", \"camaron\", \"internacional\", \"cubrian\", \"arrendada\", \"construccion\", \"terrenos\", \"totalredimidos\", \"realizan\", \"solicitar\", \"terminado\", \"subyacentes\", \"transferido\", \"sexta\", \"efectuadas\", \"conversion\", \"creditos\", \"corrientes\", \"separada\", \"exposicion\", \"regulacion\", \"representan\", \"riesgos\", \"regla\", \"contrario\", \"directa\", \"inbalnor\", \"balanceados\", \"octubre\", \"fiscales\", \"quedaron\", \"interpuestos\", \"abril\", \"utilizan\", \"cuotas\", \"recta\", \"organo\", \"j\", \"programas\", \"intl\", \"newedge\", \"obra\", \"minimos\", \"cubrir\", \"incremento\", \"leyes\", \"obtenidos\", \"arrendamiento\", \"consumo\", \"adm\", \"retenciones\", \"bonos\", \"emision\", \"subsidiarias\", \"vigentes\", \"planta\", \"propiedad\", \"contratos\", \"millones\", \"contrato\", \"cupones\", \"corto\", \"acuicultura\", \"liquidacion\", \"call\", \"spread\", \"pagos\", \"alimentos\", \"l\", \"inversiones\", \"arrendamientos\", \"plazo\", \"pagados\", \"limite\", \"intereses\", \"variaciones\", \"ecuador\", \"internacionales\", \"bolivia\", \"distribuidos\", \"volumen\", \"asistencia\", \"logisticas\", \"optimizaciones\", \"distribuidores\", \"estipulados\", \"exclusivos\", \"fijo\", \"generales\", \"integridad\", \"juntas\", \"logisticos\", \"media\", \"otorgar\", \"depositos\", \"ponderada\", \"ponderado\", \"promedio\", \"requisitos\", \"respectivas\", \"transferencia\", \"utilizando\", \"volumenes\", \"diluida\", \"probabilidad\", \"compras\", \"basica\", \"brindados\", \"cumple\", \"cancelo\", \"accion\", \"cobradas\", \"corriententa\", \"ciniif\", \"comprados\", \"beneficio\", \"equivalente\", \"unwind\", \"registro\", \"regalias\", \"recibio\", \"swap\", \"perdida\", \"menores\", \"acciones\", \"of\", \"bank\", \"america\", \"cupones\", \"posteriormente\", \"espera\", \"papeles\", \"operacion\", \"disponibles\", \"desembolso\", \"garantia\", \"jp\", \"fabrica\", \"fondo\", \"cross\", \"morgan\", \"tejidos\", \"bellota\", \"asociada\", \"logisticas\", \"exclusivos\", \"generales\", \"integridad\", \"juntas\", \"logisticos\", \"media\", \"optimizaciones\", \"otorgar\", \"ponderada\", \"ponderado\", \"probabilidad\", \"requisitos\", \"respectivas\", \"transferencia\", \"utilizando\", \"volumenes\", \"fijo\", \"promedio\", \"estipulados\", \"cobradas\", \"distribuidores\", \"accion\", \"basica\", \"brindados\", \"cancelo\", \"ciniif\", \"beneficio\", \"comprados\", \"cumple\", \"corriententa\", \"consorcio\", \"muebles\", \"distribuidor\", \"iquitos\", \"junta\", \"rubro\", \"ii\", \"group\", \"firmo\", \"enseres\", \"distribuyo\", \"deuda\", \"cubrir\", \"compra\", \"cernical\", \"construcciones\", \"diversos\", \"pagados\", \"acordo\", \"edificios\", \"abril\", \"instrumento\", \"obras\", \"plantas\", \"plazos\", \"precio\", \"mar\", \"maquinaria\", \"significativo\", \"computo\", \"logisticas\", \"exclusivos\", \"generales\", \"integridad\", \"juntas\", \"logisticos\", \"media\", \"optimizaciones\", \"otorgar\", \"ponderada\", \"ponderado\", \"probabilidad\", \"requisitos\", \"respectivas\", \"transferencia\", \"utilizando\", \"volumenes\", \"fijo\", \"promedio\", \"estipulados\", \"cobradas\", \"distribuidores\", \"accion\", \"basica\", \"brindados\", \"cancelo\", \"ciniif\", \"beneficio\", \"comprados\", \"cumple\", \"corriententa\", \"consorcio\", \"muebles\", \"distribuidor\", \"iquitos\", \"junta\", \"rubro\", \"ii\", \"group\", \"firmo\", \"enseres\", \"distribuyo\", \"deuda\", \"cubrir\", \"compra\", \"cernical\", \"construcciones\", \"diversos\", \"pagados\", \"acordo\", \"edificios\", \"abril\", \"instrumento\", \"obras\", \"plantas\", \"plazos\", \"precio\", \"mar\", \"maquinaria\", \"significativo\", \"computo\"], \"Total\": [33.0, 11.0, 19.0, 19.0, 22.0, 21.0, 18.0, 29.0, 13.0, 12.0, 38.0, 7.0, 27.0, 16.0, 9.0, 9.0, 17.0, 11.0, 21.0, 23.0, 27.0, 31.0, 19.0, 8.0, 8.0, 7.0, 15.0, 16.0, 16.0, 19.0, 19.010141372680664, 19.010141372680664, 13.460418701171875, 9.76076889038086, 9.760583877563477, 7.910552978515625, 7.910552978515625, 7.910552978515625, 7.910552978515625, 7.910552978515625, 6.985788822174072, 6.985788822174072, 6.985515117645264, 6.060448169708252, 6.060107707977295, 5.135740280151367, 5.135740280151367, 5.134912490844727, 4.210664749145508, 4.210664749145508, 4.210664749145508, 4.210664749145508, 4.210664749145508, 4.210664749145508, 4.210664749145508, 4.210664749145508, 4.210664749145508, 4.210664749145508, 4.210664749145508, 4.210664749145508, 11.609314918518066, 4.210664749145508, 4.210664749145508, 4.210664749145508, 4.210664749145508, 4.210664749145508, 4.210664749145508, 4.210664749145508, 4.210664749145508, 4.210664749145508, 4.210664749145508, 4.210664749145508, 4.210664749145508, 4.210664749145508, 4.210664749145508, 8.706315994262695, 8.706315994262695, 4.210664749145508, 4.210664749145508, 4.210664749145508, 4.210664749145508, 4.210664749145508, 27.998262405395508, 16.23328971862793, 17.15753173828125, 18.8786678314209, 7.909870147705078, 7.909870147705078, 27.329336166381836, 15.179059982299805, 15.307511329650879, 21.651920318603516, 19.006139755249023, 16.231884002685547, 35.262939453125, 17.156415939331055, 31.025482177734375, 19.672744750976562, 44.2501220703125, 19.929859161376953, 29.842859268188477, 30.638704299926758, 38.98390197753906, 16.231576919555664, 16.23122787475586, 16.51325225830078, 20.596776962280273, 13.457831382751465, 21.649660110473633, 22.702632904052734, 29.736526489257812, 22.44487762451172, 12.528107643127441, 8.83062744140625, 8.83062744140625, 6.981887340545654, 21.6431884765625, 6.057517051696777, 6.057517051696777, 18.87008285522461, 5.133145332336426, 5.133145332336426, 4.208773136138916, 4.208772659301758, 4.208772659301758, 4.208772659301758, 4.208772659301758, 4.208772659301758, 4.208772659301758, 4.208772659301758, 7.3849101066589355, 3.284398078918457, 3.284398078918457, 3.284398078918457, 3.284398078918457, 3.284398078918457, 3.284398078918457, 3.284398078918457, 3.284398078918457, 3.284398078918457, 3.284398078918457, 3.284398078918457, 3.284398078918457, 3.284398078918457, 3.284398078918457, 3.284398078918457, 3.284398078918457, 3.284398078918457, 3.284398078918457, 3.284398078918457, 11.886947631835938, 3.284398078918457, 22.585079193115234, 3.284398078918457, 3.284398078918457, 3.284398078918457, 3.284398078918457, 5.536168098449707, 3.284398078918457, 3.284398078918457, 23.23645782470703, 3.284398078918457, 3.284398078918457, 6.853279113769531, 3.284398078918457, 3.284398078918457, 33.96652603149414, 6.982191562652588, 17.02248764038086, 25.34498405456543, 3.284398078918457, 8.830464363098145, 26.01232147216797, 12.01396369934082, 26.937742233276367, 23.10979461669922, 44.2501220703125, 17.15363121032715, 25.089012145996094, 11.605399131774902, 7.649142742156982, 31.025482177734375, 22.315046310424805, 22.702632904052734, 29.842859268188477, 30.638704299926758, 35.262939453125, 38.98390197753906, 22.44487762451172, 21.132444381713867, 21.132444381713867, 21.391149520874023, 21.649660110473633, 29.736526489257812, 5.28656530380249, 2.899005651473999, 2.899005651473999, 2.899005651473999, 2.899005651473999, 2.899005651473999, 2.899005651473999, 2.103149652481079, 2.103149652481079, 2.103149652481079, 2.103149652481079, 2.103149652481079, 2.103149652481079, 2.103149652481079, 2.103149652481079, 2.103149652481079, 2.103149652481079, 2.103149652481079, 2.103149652481079, 2.103149652481079, 2.103149652481079, 2.103149652481079, 1.3072843551635742, 1.3072843551635742, 1.3072843551635742, 1.3072843551635742, 1.3072843551635742, 1.3072843551635742, 1.3072843551635742, 1.3072843551635742, 1.3072843551635742, 1.3072843551635742, 1.3072843551635742, 1.3072843551635742, 1.3072843551635742, 1.3072843551635742, 1.3072843551635742, 1.3072843551635742, 1.3072843551635742, 1.3072843551635742, 1.3072843551635742, 1.3072843551635742, 3.823080062866211, 3.823080062866211, 3.823080062866211, 3.8230814933776855, 1.3072843551635742, 1.3072843551635742, 7.263350486755371, 1.3072843551635742, 1.3072843551635742, 1.3072843551635742, 1.3072843551635742, 1.3072843551635742, 1.3072843551635742, 1.3072843551635742, 1.3072843551635742, 1.3072843551635742, 1.3072843551635742, 4.747751235961914, 1.3072843551635742, 1.3072843551635742, 1.3072843551635742, 33.96652603149414, 3.027226448059082, 3.027226448059082, 3.027226448059082, 29.736526489257812, 38.98390197753906, 21.800029754638672, 16.382436752319336, 13.735836029052734, 16.50894546508789, 16.51325225830078, 17.436819076538086, 11.091240882873535, 5.552749156951904, 5.671877384185791, 5.6721649169921875, 5.672985553741455, 21.132444381713867, 21.132444381713867, 12.01396369934082, 12.01561450958252, 13.864358901977539, 44.2501220703125, 22.585079193115234, 23.10979461669922, 7.522220134735107, 7.5215559005737305, 9.370304107666016, 12.147339820861816, 13.069207191467285, 11.220467567443848, 9.370234489440918, 11.219765663146973, 1.316802978515625, 1.316802978515625, 0.9145493507385254, 0.9145493507385254, 0.9145493507385254, 0.9145493507385254, 0.9145493507385254, 0.9145493507385254, 0.9145493507385254, 0.9145493507385254, 0.9145493507385254, 0.9145493507385254, 0.9145493507385254, 0.9145493507385254, 0.9145493507385254, 0.9145493507385254, 0.9145493507385254, 0.9145493507385254, 0.9145493507385254, 0.9145493507385254, 0.9145493507385254, 0.9145493507385254, 0.9145493507385254, 0.9145493507385254, 0.9145493507385254, 0.9145493507385254, 0.9145493507385254, 0.9145493507385254, 0.9145493507385254, 0.9145493507385254, 0.9145493507385254, 0.9145493507385254, 0.9145493507385254, 0.9145493507385254, 0.9145493507385254, 0.9145493507385254, 4.491964340209961, 4.491964340209961, 4.491964340209961, 3.1652638912200928, 3.1652679443359375, 7.8038177490234375, 3.96102237701416, 4.089651107788086, 11.886947631835938, 5.0140299797058105, 5.0140299797058105, 5.0140299797058105, 5.552749156951904, 2.634371519088745, 1.8386108875274658, 1.8386168479919434, 1.8386168479919434, 1.8386168479919434, 1.8386168479919434, 3.5587925910949707, 2.7630326747894287, 2.7630326747894287, 2.7630326747894287, 2.7630326747894287, 2.7630326747894287, 2.7630326747894287, 2.7630326747894287, 3.6874160766601562, 0.9145493507385254, 0.9145493507385254, 0.9145493507385254, 0.9145493507385254, 0.9145493507385254, 0.9145493507385254, 0.9145493507385254, 0.9145493507385254, 0.9145493507385254, 0.9145493507385254, 0.9145493507385254, 0.9145493507385254, 0.9145493507385254, 0.9145493507385254, 0.9145493507385254, 0.9145493507385254, 0.9145493507385254, 0.9145493507385254, 0.9145493507385254, 0.9145493507385254, 0.9145493507385254, 0.9145493507385254, 0.9145493507385254, 0.9145493507385254, 0.9145493507385254, 0.9145493507385254, 0.9145493507385254, 0.9145493507385254, 0.9145493507385254, 0.9145493507385254, 0.9145493507385254, 3.1560370922088623, 4.081045627593994, 3.951896905899048, 3.951896905899048, 4.209072589874268, 3.2852859497070312, 4.081045627593994, 9.627263069152832, 3.9518985748291016, 3.2852864265441895, 3.2852866649627686, 3.156038284301758, 4.747751235961914, 8.573814392089844, 9.627263069152832, 2.360278606414795, 3.2852864265441895, 7.522220134735107, 4.2095866203308105, 2.360278606414795, 7.263350486755371, 8.705633163452148, 2.360278606414795, 2.360278606414795, 5.0060248374938965, 4.0810465812683105, 6.982191562652588, 2.360278606414795, 7.909870147705078, 3.2852864265441895, 0.9145493507385254, 0.9145493507385254, 0.9145493507385254, 0.9145493507385254, 0.9145493507385254, 0.9145493507385254, 0.9145493507385254, 0.9145493507385254, 0.9145493507385254, 0.9145493507385254, 0.9145493507385254, 0.9145493507385254, 0.9145493507385254, 0.9145493507385254, 0.9145493507385254, 0.9145493507385254, 0.9145493507385254, 0.9145493507385254, 0.9145493507385254, 0.9145493507385254, 0.9145493507385254, 0.9145493507385254, 0.9145493507385254, 0.9145493507385254, 0.9145493507385254, 0.9145493507385254, 0.9145493507385254, 0.9145493507385254, 0.9145493507385254, 0.9145493507385254, 0.9145493507385254, 3.1560370922088623, 4.081045627593994, 3.951896905899048, 3.951896905899048, 4.209072589874268, 3.2852859497070312, 4.081045627593994, 9.627263069152832, 3.9518985748291016, 3.2852864265441895, 3.2852866649627686, 3.156038284301758, 4.747751235961914, 8.573814392089844, 9.627263069152832, 2.360278606414795, 3.2852864265441895, 7.522220134735107, 4.2095866203308105, 2.360278606414795, 7.263350486755371, 8.705633163452148, 2.360278606414795, 2.360278606414795, 5.0060248374938965, 4.0810465812683105, 6.982191562652588, 2.360278606414795, 7.909870147705078, 3.2852864265441895], \"loglift\": [30.0, 29.0, 28.0, 27.0, 26.0, 25.0, 24.0, 23.0, 22.0, 21.0, 20.0, 19.0, 18.0, 17.0, 16.0, 15.0, 14.0, 13.0, 12.0, 11.0, 10.0, 9.0, 8.0, 7.0, 6.0, 5.0, 4.0, 3.0, 2.0, 1.0, 0.8385999798774719, 0.8385999798774719, 0.8306999802589417, 0.8202999830245972, 0.8202999830245972, 0.8113999962806702, 0.8113999962806702, 0.8113999962806702, 0.8113999962806702, 0.8113999962806702, 0.8051000237464905, 0.8051000237464905, 0.8051000237464905, 0.7968000173568726, 0.7967000007629395, 0.7853999733924866, 0.7853999733924866, 0.7853000164031982, 0.7688000202178955, 0.7688000202178955, 0.7688000202178955, 0.7688000202178955, 0.7688000202178955, 0.7688000202178955, 0.7688000202178955, 0.7688000202178955, 0.7688000202178955, 0.7688000202178955, 0.7688000202178955, 0.7688000202178955, 0.7405999898910522, 0.7688000202178955, 0.7688000202178955, 0.7688000202178955, 0.7688000202178955, 0.7688000202178955, 0.7688000202178955, 0.7688000202178955, 0.7688000202178955, 0.7688000202178955, 0.7688000202178955, 0.7688000202178955, 0.7688000202178955, 0.7688000202178955, 0.7688000202178955, 0.715499997138977, 0.715499997138977, 0.7688000202178955, 0.7688000202178955, 0.7688000202178955, 0.7688000202178955, 0.7688000202178955, 0.5902000069618225, 0.6434000134468079, 0.5879999995231628, 0.560699999332428, 0.680899977684021, 0.680899977684021, 0.4756999909877777, 0.5583000183105469, 0.5498999953269958, 0.48739999532699585, 0.48570001125335693, 0.4912000000476837, 0.2207999974489212, 0.4359000027179718, 0.2442999929189682, 0.3779999911785126, 0.042100001126527786, 0.36500000953674316, 0.16660000383853912, 0.14030000567436218, 0.01600000075995922, 0.40549999475479126, 0.40549999475479126, 0.38830000162124634, 0.2531000077724457, 0.499099999666214, 0.20329999923706055, 0.155799999833107, -0.11420000344514847, 0.08139999955892563, 0.8361999988555908, 0.8238000273704529, 0.8238000273704529, 0.8126000165939331, 0.8104000091552734, 0.8043000102043152, 0.8043000102043152, 0.8021000027656555, 0.7929999828338623, 0.7929999828338623, 0.7764000296592712, 0.7764000296592712, 0.7764000296592712, 0.7764000296592712, 0.7764000296592712, 0.7764000296592712, 0.7764000296592712, 0.7764000296592712, 0.7565000057220459, 0.7498999834060669, 0.7498999834060669, 0.7498999834060669, 0.7498999834060669, 0.7498999834060669, 0.7498999834060669, 0.7498999834060669, 0.7498999834060669, 0.7498999834060669, 0.7498999834060669, 0.7498999834060669, 0.7498999834060669, 0.7498999834060669, 0.7498999834060669, 0.7498999834060669, 0.7498999834060669, 0.7498999834060669, 0.7498999834060669, 0.7498999834060669, 0.7239999771118164, 0.7498999834060669, 0.67330002784729, 0.7498999834060669, 0.7498999834060669, 0.7498999834060669, 0.7498999834060669, 0.7174000144004822, 0.7498999834060669, 0.7498999834060669, 0.593999981880188, 0.7498999834060669, 0.7498999834060669, 0.680899977684021, 0.7498999834060669, 0.7498999834060669, 0.48669999837875366, 0.6622999906539917, 0.529699981212616, 0.45350000262260437, 0.7498999834060669, 0.5777000188827515, 0.3709000051021576, 0.515999972820282, 0.2759000062942505, 0.2971000075340271, 0.09520000219345093, 0.3571999967098236, 0.2150000035762787, 0.4350999891757965, 0.5709999799728394, 0.07079999893903732, 0.17990000545978546, 0.16269999742507935, 0.04149999842047691, 0.01510000042617321, -0.05719999969005585, -0.15760000050067902, 0.08839999884366989, 0.05480000004172325, 0.05480000004172325, 0.04259999841451645, 0.03060000017285347, -0.19300000369548798, 1.9541000127792358, 1.8883999586105347, 1.8883999586105347, 1.8883999586105347, 1.8883999586105347, 1.8883999586105347, 1.8883999586105347, 1.8299000263214111, 1.8299000263214111, 1.8299000263214111, 1.8299000263214111, 1.8299000263214111, 1.8299000263214111, 1.8299000263214111, 1.8299000263214111, 1.8299000263214111, 1.8299000263214111, 1.8299000263214111, 1.8299000263214111, 1.8299000263214111, 1.8299000263214111, 1.8299000263214111, 1.6862000226974487, 1.6862000226974487, 1.6862000226974487, 1.6862000226974487, 1.6862000226974487, 1.6862000226974487, 1.6862000226974487, 1.6862000226974487, 1.6862000226974487, 1.6862000226974487, 1.6862000226974487, 1.6862000226974487, 1.6862000226974487, 1.6862000226974487, 1.6862000226974487, 1.6862000226974487, 1.6862000226974487, 1.6862000226974487, 1.6862000226974487, 1.6862000226974487, 1.611799955368042, 1.611799955368042, 1.611799955368042, 1.611799955368042, 1.6862000226974487, 1.6862000226974487, 1.4594999551773071, 1.6862000226974487, 1.6862000226974487, 1.6862000226974487, 1.6862000226974487, 1.6862000226974487, 1.6862000226974487, 1.6862000226974487, 1.6862000226974487, 1.6862000226974487, 1.6862000226974487, 1.3950999975204468, 1.6862000226974487, 1.6862000226974487, 1.6862000226974487, 0.8525000214576721, 1.4657000303268433, 1.4657000303268433, 1.4657000303268433, 0.7268999814987183, 0.4560999870300293, 0.6876999735832214, 0.8230999708175659, 0.8223999738693237, 0.6384999752044678, 0.6381999850273132, 0.5838000178337097, 0.8210999965667725, 1.2384999990463257, 1.2173000574111938, 1.2172000408172607, 1.2171000242233276, 0.39160001277923584, 0.39160001277923584, 0.7411999702453613, 0.7409999966621399, 0.5978999733924866, -0.3474999964237213, 0.10999999940395355, 0.08699999749660492, 0.9350000023841858, 0.9350000023841858, 0.7153000235557556, 0.45570001006126404, 0.38260000944137573, 0.535099983215332, 0.7153000235557556, 0.535099983215332, 3.3773999214172363, 3.3773999214172363, 3.1221001148223877, 3.1221001148223877, 3.1221001148223877, 3.1221001148223877, 3.1221001148223877, 3.1221001148223877, 3.1221001148223877, 3.1221001148223877, 3.1221001148223877, 3.1221001148223877, 3.1221001148223877, 3.1221001148223877, 3.1221001148223877, 3.1221001148223877, 3.1221001148223877, 3.1221001148223877, 3.1221001148223877, 3.1221001148223877, 3.1221001148223877, 3.1221001148223877, 3.1221001148223877, 3.1221001148223877, 3.1221001148223877, 3.1221001148223877, 3.1221001148223877, 3.1221001148223877, 3.1221001148223877, 3.1221001148223877, 3.1221001148223877, 3.1221001148223877, 3.1221001148223877, 3.1221001148223877, 3.1221001148223877, 3.1221001148223877, 2.5299999713897705, 2.5299999713897705, 2.5299999713897705, 2.5004000663757324, 2.5002999305725098, 1.9776999950408936, 2.276099920272827, 2.2441000938415527, 1.5569000244140625, 2.040299892425537, 2.040299892425537, 2.040299892425537, 1.9383000135421753, 2.0641000270843506, 2.423799991607666, 2.423799991607666, 2.423799991607666, 2.423799991607666, 2.423799991607666, 1.7632999420166016, 2.016400098800659, 2.016400098800659, 2.016400098800659, 2.016400098800659, 2.016400098800659, 2.016400098800659, 2.016400098800659, 1.7278000116348267, 1.682800054550171, 1.682800054550171, 1.682800054550171, 1.682800054550171, 1.682800054550171, 1.682800054550171, 1.682800054550171, 1.682800054550171, 1.682800054550171, 1.682800054550171, 1.682800054550171, 1.682800054550171, 1.682800054550171, 1.682800054550171, 1.682800054550171, 1.682800054550171, 1.682800054550171, 1.682800054550171, 1.682800054550171, 1.682800054550171, 1.682800054550171, 1.682800054550171, 1.682800054550171, 1.682800054550171, 1.682800054550171, 1.682800054550171, 1.682800054550171, 1.682800054550171, 1.682800054550171, 1.682800054550171, 1.682800054550171, 0.4440999925136566, 0.18709999322891235, 0.21930000185966492, 0.21930000185966492, 0.15620000660419464, 0.40400001406669617, 0.18709999322891235, -0.6711999773979187, 0.219200000166893, 0.40400001406669617, 0.40400001406669617, 0.4440999925136566, 0.03579999879002571, -0.5552999973297119, -0.6711999773979187, 0.7347000241279602, 0.40400001406669617, -0.4244000017642975, 0.15610000491142273, 0.7347000241279602, -0.38940000534057617, -0.5705000162124634, 0.7347000241279602, 0.7347000241279602, -0.01720000058412552, 0.18709999322891235, -0.3499000072479248, 0.7347000241279602, -0.474700003862381, 0.40400001406669617, 1.682800054550171, 1.682800054550171, 1.682800054550171, 1.682800054550171, 1.682800054550171, 1.682800054550171, 1.682800054550171, 1.682800054550171, 1.682800054550171, 1.682800054550171, 1.682800054550171, 1.682800054550171, 1.682800054550171, 1.682800054550171, 1.682800054550171, 1.682800054550171, 1.682800054550171, 1.682800054550171, 1.682800054550171, 1.682800054550171, 1.682800054550171, 1.682800054550171, 1.682800054550171, 1.682800054550171, 1.682800054550171, 1.682800054550171, 1.682800054550171, 1.682800054550171, 1.682800054550171, 1.682800054550171, 1.682800054550171, 0.4440999925136566, 0.18709999322891235, 0.21930000185966492, 0.21930000185966492, 0.15620000660419464, 0.40400001406669617, 0.18709999322891235, -0.6711999773979187, 0.219200000166893, 0.40400001406669617, 0.40400001406669617, 0.4440999925136566, 0.03579999879002571, -0.5552999973297119, -0.6711999773979187, 0.7347000241279602, 0.40400001406669617, -0.4244000017642975, 0.15610000491142273, 0.7347000241279602, -0.38940000534057617, -0.5705000162124634, 0.7347000241279602, 0.7347000241279602, -0.01720000058412552, 0.18709999322891235, -0.3499000072479248, 0.7347000241279602, -0.474700003862381, 0.40400001406669617], \"logprob\": [30.0, 29.0, 28.0, 27.0, 26.0, 25.0, 24.0, 23.0, 22.0, 21.0, 20.0, 19.0, 18.0, 17.0, 16.0, 15.0, 14.0, 13.0, 12.0, 11.0, 10.0, 9.0, 8.0, 7.0, 6.0, 5.0, 4.0, 3.0, 2.0, 1.0, -4.533699989318848, -4.533699989318848, -4.8867998123168945, -5.218599796295166, -5.218599796295166, -5.437699794769287, -5.437699794769287, -5.437699794769287, -5.437699794769287, -5.437699794769287, -5.568299770355225, -5.568299770355225, -5.568399906158447, -5.718699932098389, -5.718800067901611, -5.895599842071533, -5.895599842071533, -5.895899772644043, -6.110799789428711, -6.110799789428711, -6.110799789428711, -6.110799789428711, -6.110799789428711, -6.110799789428711, -6.110799789428711, -6.110799789428711, -6.110799789428711, -6.110799789428711, -6.110799789428711, -6.110799789428711, -5.124800205230713, -6.110799789428711, -6.110799789428711, -6.110799789428711, -6.110799789428711, -6.110799789428711, -6.110799789428711, -6.110799789428711, -6.110799789428711, -6.110799789428711, -6.110799789428711, -6.110799789428711, -6.110799789428711, -6.110799789428711, -6.110799789428711, -5.437699794769287, -5.437699794769287, -6.110799789428711, -6.110799789428711, -6.110799789428711, -6.110799789428711, -6.110799789428711, -4.394999980926514, -4.8867998123168945, -4.8867998123168945, -4.818600177764893, -5.568299770355225, -5.568299770355225, -4.533699989318848, -5.039000034332275, -5.039100170135498, -4.754799842834473, -4.886899948120117, -5.039100170135498, -4.533699989318848, -5.039000034332275, -4.6381001472473145, -4.960100173950195, -4.485300064086914, -4.960100173950195, -4.754799842834473, -4.754799842834473, -4.6381001472473145, -5.124800205230713, -5.124800205230713, -5.124800205230713, -5.039000034332275, -5.218599796295166, -5.039000034332275, -5.039000034332275, -5.039100170135498, -5.124800205230713, -4.953100204467773, -5.315199851989746, -5.315199851989746, -5.561299800872803, -4.432199954986572, -5.711599826812744, -5.711599826812744, -4.577600002288818, -5.888599872589111, -5.888599872589111, -6.103700160980225, -6.103700160980225, -6.103700160980225, -6.103700160980225, -6.103700160980225, -6.103700160980225, -6.103700160980225, -6.103700160980225, -5.561399936676025, -6.378200054168701, -6.378200054168701, -6.378200054168701, -6.378200054168701, -6.378200054168701, -6.378200054168701, -6.378200054168701, -6.378200054168701, -6.378200054168701, -6.378200054168701, -6.378200054168701, -6.378200054168701, -6.378200054168701, -6.378200054168701, -6.378200054168701, -6.378200054168701, -6.378200054168701, -6.378200054168701, -6.378200054168701, -5.117800235748291, -6.378200054168701, -4.526700019836426, -6.378200054168701, -6.378200054168701, -6.378200054168701, -6.378200054168701, -5.888599872589111, -6.378200054168701, -6.378200054168701, -4.577600002288818, -6.378200054168701, -6.378200054168701, -5.711599826812744, -6.378200054168701, -6.378200054168701, -4.305200099945068, -5.711599826812744, -4.953100204467773, -4.631199836730957, -6.378200054168701, -5.561299800872803, -4.68779993057251, -5.315199851989746, -4.747799873352051, -4.879899978637695, -4.432199954986572, -5.117800235748291, -4.879899978637695, -5.430699825286865, -5.711599826812744, -4.811699867248535, -5.032100200653076, -5.032100200653076, -4.879899978637695, -4.879899978637695, -4.811699867248535, -4.811699867248535, -5.117800235748291, -5.211699962615967, -5.211699962615967, -5.211699962615967, -5.211699962615967, -5.1178998947143555, -4.697999954223633, -5.364500045776367, -5.364500045776367, -5.364500045776367, -5.364500045776367, -5.364500045776367, -5.364500045776367, -5.74399995803833, -5.74399995803833, -5.74399995803833, -5.74399995803833, -5.74399995803833, -5.74399995803833, -5.74399995803833, -5.74399995803833, -5.74399995803833, -5.74399995803833, -5.74399995803833, -5.74399995803833, -5.74399995803833, -5.74399995803833, -5.74399995803833, -6.363100051879883, -6.363100051879883, -6.363100051879883, -6.363100051879883, -6.363100051879883, -6.363100051879883, -6.363100051879883, -6.363100051879883, -6.363100051879883, -6.363100051879883, -6.363100051879883, -6.363100051879883, -6.363100051879883, -6.363100051879883, -6.363100051879883, -6.363100051879883, -6.363100051879883, -6.363100051879883, -6.363100051879883, -6.363100051879883, -5.364500045776367, -5.364500045776367, -5.364500045776367, -5.364500045776367, -6.363100051879883, -6.363100051879883, -4.874899864196777, -6.363100051879883, -6.363100051879883, -6.363100051879883, -6.363100051879883, -6.363100051879883, -6.363100051879883, -6.363100051879883, -6.363100051879883, -6.363100051879883, -6.363100051879883, -5.364500045776367, -6.363100051879883, -6.363100051879883, -6.363100051879883, -3.9393999576568604, -5.74399995803833, -5.74399995803833, -5.74399995803833, -4.197999954223633, -4.197999954223633, -4.547699928283691, -4.697999954223633, -4.874899864196777, -4.874899864196777, -4.874899864196777, -4.874899864196777, -5.090000152587891, -5.364500045776367, -5.364500045776367, -5.364500045776367, -5.364500045776367, -4.874899864196777, -4.874899864196777, -5.090000152587891, -5.090000152587891, -5.090000152587891, -4.874899864196777, -5.090000152587891, -5.090000152587891, -5.364500045776367, -5.364500045776367, -5.364500045776367, -5.364500045776367, -5.364500045776367, -5.364500045776367, -5.364500045776367, -5.364500045776367, -4.664700031280518, -4.664700031280518, -5.2845001220703125, -5.2845001220703125, -5.2845001220703125, -5.2845001220703125, -5.2845001220703125, -5.2845001220703125, -5.2845001220703125, -5.2845001220703125, -5.2845001220703125, -5.2845001220703125, -5.2845001220703125, -5.2845001220703125, -5.2845001220703125, -5.2845001220703125, -5.2845001220703125, -5.2845001220703125, -5.2845001220703125, -5.2845001220703125, -5.2845001220703125, -5.2845001220703125, -5.2845001220703125, -5.2845001220703125, -5.2845001220703125, -5.2845001220703125, -5.2845001220703125, -5.2845001220703125, -5.2845001220703125, -5.2845001220703125, -5.2845001220703125, -5.2845001220703125, -5.2845001220703125, -5.2845001220703125, -5.2845001220703125, -5.2845001220703125, -4.284999847412109, -4.284999847412109, -4.284999847412109, -4.664700031280518, -4.664700031280518, -4.284999847412109, -4.664700031280518, -4.664700031280518, -4.284999847412109, -4.664700031280518, -4.664700031280518, -4.664700031280518, -4.664700031280518, -5.2845001220703125, -5.2845001220703125, -5.2845001220703125, -5.2845001220703125, -5.2845001220703125, -5.2845001220703125, -5.2845001220703125, -5.2845001220703125, -5.2845001220703125, -5.2845001220703125, -5.2845001220703125, -5.2845001220703125, -5.2845001220703125, -5.2845001220703125, -5.2845001220703125, -6.723800182342529, -6.723800182342529, -6.723800182342529, -6.723800182342529, -6.723800182342529, -6.723800182342529, -6.723800182342529, -6.723800182342529, -6.723800182342529, -6.723800182342529, -6.723800182342529, -6.723800182342529, -6.723800182342529, -6.723800182342529, -6.723800182342529, -6.723800182342529, -6.723800182342529, -6.723800182342529, -6.723800182342529, -6.723800182342529, -6.723800182342529, -6.723800182342529, -6.723800182342529, -6.723800182342529, -6.723800182342529, -6.723800182342529, -6.723800182342529, -6.723800182342529, -6.723800182342529, -6.723800182342529, -6.723800182342529, -6.723800182342529, -6.723800182342529, -6.723800182342529, -6.723800182342529, -6.723800182342529, -6.723800182342529, -6.723800182342529, -6.723800182342529, -6.723800182342529, -6.723800182342529, -6.723800182342529, -6.723800182342529, -6.723800182342529, -6.723800182342529, -6.723800182342529, -6.723800182342529, -6.723800182342529, -6.723800182342529, -6.723800182342529, -6.723800182342529, -6.723800182342529, -6.723800182342529, -6.723800182342529, -6.723800182342529, -6.723800182342529, -6.723800182342529, -6.723800182342529, -6.723800182342529, -6.723800182342529, -6.723800182342529, -6.723800182342529, -6.723800182342529, -6.723800182342529, -6.723800182342529, -6.723800182342529, -6.723800182342529, -6.723800182342529, -6.723800182342529, -6.723800182342529, -6.723800182342529, -6.723800182342529, -6.723800182342529, -6.723800182342529, -6.723800182342529, -6.723800182342529, -6.723800182342529, -6.723800182342529, -6.723800182342529, -6.723800182342529, -6.723800182342529, -6.723800182342529, -6.723800182342529, -6.723800182342529, -6.723800182342529, -6.723800182342529, -6.723800182342529, -6.723800182342529, -6.723800182342529, -6.723800182342529, -6.723800182342529, -6.723800182342529, -6.723800182342529, -6.723800182342529, -6.723800182342529, -6.723800182342529, -6.723800182342529, -6.723800182342529, -6.723800182342529, -6.723800182342529, -6.723800182342529, -6.723800182342529, -6.723800182342529, -6.723800182342529, -6.723800182342529, -6.723800182342529, -6.723800182342529, -6.723800182342529, -6.723800182342529, -6.723800182342529, -6.723800182342529, -6.723800182342529, -6.723800182342529, -6.723800182342529, -6.723800182342529, -6.723800182342529, -6.723800182342529, -6.723800182342529, -6.723800182342529, -6.723800182342529, -6.723800182342529, -6.723800182342529]}, \"token.table\": {\"Topic\": [1, 2, 3, 2, 4, 1, 2, 2, 3, 1, 2, 3, 2, 3, 2, 3, 1, 1, 2, 3, 2, 4, 2, 1, 1, 3, 3, 2, 2, 3, 2, 3, 2, 3, 2, 4, 2, 2, 3, 2, 4, 2, 1, 1, 1, 2, 1, 2, 3, 3, 1, 2, 3, 1, 2, 3, 3, 1, 2, 3, 1, 2, 1, 2, 3, 1, 1, 1, 1, 1, 2, 3, 1, 2, 3, 1, 2, 1, 1, 2, 3, 3, 1, 2, 2, 3, 2, 1, 2, 2, 2, 1, 2, 3, 2, 3, 1, 1, 2, 3, 1, 2, 3, 3, 1, 2, 3, 1, 2, 1, 2, 3, 2, 3, 1, 2, 2, 3, 2, 1, 3, 1, 2, 3, 3, 2, 3, 4, 2, 2, 2, 3, 1, 1, 2, 1, 2, 1, 1, 2, 1, 2, 1, 2, 3, 1, 3, 2, 1, 2, 3, 1, 2, 3, 1, 2, 1, 2, 3, 2, 1, 2, 3, 1, 2, 1, 3, 1, 2, 1, 2, 3, 3, 2, 1, 2, 3, 1, 2, 1, 2, 4, 2, 2, 3, 1, 2, 2, 3, 3, 2, 2, 1, 1, 2, 3, 1, 2, 3, 2, 3, 1, 2, 1, 1, 2, 3, 2, 3, 1, 2, 3, 1, 2, 3, 2, 3, 1, 2, 3, 1, 2, 2, 3, 3, 2, 2, 1, 2, 3, 1, 2, 1, 3, 1, 2, 3, 1, 2, 3, 1, 1, 2, 3, 3, 1, 2, 3, 3, 3, 2, 1, 2, 3, 1, 2, 3, 3, 2, 1, 2, 1, 2, 3, 3, 1, 2, 3, 1, 3, 1, 3, 3, 1, 2, 1, 2, 1, 2, 3, 3, 1, 2, 1, 2, 3, 2, 4, 1, 2, 3, 3, 2, 2, 3, 2, 1, 2, 3, 2, 3, 1, 2, 1, 2, 3, 1, 2, 3, 2, 3, 1, 2, 3, 2, 3, 2, 2, 4, 1, 2, 3, 2, 3, 3, 1, 2, 3, 2, 3, 2, 1, 1, 2, 3, 1, 2, 3, 1, 2, 3, 4, 2, 1, 2, 1, 1, 1, 2, 3, 1, 2, 1, 2, 3, 1, 2, 3, 1, 2, 3, 1, 2, 3, 2, 2, 1, 1, 2, 1, 3, 3, 3, 1, 2, 3, 1, 1, 1, 1, 3, 3, 3, 1, 2, 2, 4, 2, 2, 2, 1, 1, 3, 2, 4, 2, 4, 3, 3, 2, 3, 1, 2, 1, 2, 2, 3, 1, 3, 1, 2, 1, 3, 2, 3, 2, 2, 3, 1, 2, 3, 1, 2, 1, 2, 2, 1, 2, 3, 3, 1, 2, 3, 1, 2, 3, 1, 2, 3, 3, 1, 2, 3, 4, 2, 2, 2, 3, 3, 1, 2, 3, 3, 2, 3, 2, 4, 2, 3, 1, 2, 1, 2, 3, 1, 2, 1, 2, 1, 1, 1, 2, 3, 1, 2, 4, 2], \"Freq\": [0.2753550112247467, 0.13767750561237335, 0.5507100224494934, 0.8412588834762573, 0.08412588387727737, 0.7126590609550476, 0.23755301535129547, 0.9240782856941223, 0.04620391130447388, 0.17629952728748322, 0.35259905457496643, 0.5288985967636108, 0.3303353786468506, 0.6606707572937012, 0.9503957033157349, 1.0348376035690308, 0.9220759868621826, 0.33290016651153564, 0.41612520813941956, 0.24967512488365173, 0.7977614998817444, 0.1994403749704361, 0.9031517505645752, 0.9900258183479309, 0.918873131275177, 0.11485914140939713, 0.9509546756744385, 0.9905048608779907, 0.6771372556686401, 0.2944074869155884, 0.8412633538246155, 0.13283106684684753, 0.7844016551971436, 0.26146721839904785, 0.905937910079956, 0.7594150304794312, 0.8135778307914734, 0.26156920194625854, 0.7847076058387756, 0.7977614998817444, 0.1994403749704361, 0.7238423228263855, 0.9220585227012634, 1.0113073587417603, 0.8613772988319397, 0.08613772690296173, 0.32016274333000183, 0.42688366770744324, 0.32016274333000183, 0.9457936882972717, 0.3699154257774353, 0.3362867534160614, 0.2690294086933136, 0.37856483459472656, 0.425885409116745, 0.18928241729736328, 0.9509546756744385, 0.3341037333011627, 0.5568395256996155, 0.11136791110038757, 0.40807685256004333, 0.5829669237136841, 0.3116150498390198, 0.6232300996780396, 0.10387168079614639, 1.0113073587417603, 0.9737264513969421, 0.9994665384292603, 0.9994665384292603, 0.3156443238258362, 0.6707441806793213, 0.03945554047822952, 0.11663420498371124, 0.6998052000999451, 0.23326840996742249, 0.6087749004364014, 0.3043874502182007, 0.9499687552452087, 0.31685304641723633, 0.31685304641723633, 0.31685304641723633, 0.9509546756744385, 0.42367878556251526, 0.42367878556251526, 0.3303353786468506, 0.6606707572937012, 0.9134093523025513, 0.6411595344543457, 0.3497233986854553, 0.9134093523025513, 0.9740616679191589, 0.5388092994689941, 0.39701738953590393, 0.08507515490055084, 0.9134093523025513, 0.7649444937705994, 1.0113073587417603, 0.3606449365615845, 0.3606449365615845, 0.27048370242118835, 0.6055742502212524, 0.12111484259366989, 0.24222968518733978, 0.7649444937705994, 0.35850250720977783, 0.4929409325122833, 0.1344384402036667, 0.9499687552452087, 0.9134093523025513, 0.48452529311180115, 0.48452529311180115, 0.7649444937705994, 0.5289254188537598, 0.5289254188537598, 0.8008235096931458, 0.18480542302131653, 0.9134093523025513, 0.7649444937705994, 0.7238423228263855, 0.9499687552452087, 0.9509546756744385, 0.2106260359287262, 0.2106260359287262, 0.6318780779838562, 0.7649444937705994, 0.3601819574832916, 0.5402728915214539, 0.1800909787416458, 0.9478788375854492, 0.9134093523025513, 0.953890860080719, 0.05299393832683563, 1.0113073587417603, 0.6021116375923157, 0.40140774846076965, 1.0020735263824463, 0.5438870787620544, 0.9499687552452087, 0.7576847672462463, 0.23313376307487488, 0.9900814294815063, 0.9503958225250244, 0.3168529272079468, 0.3168529272079468, 0.3168529272079468, 0.9499687552452087, 0.7649444937705994, 0.5438870787620544, 0.2530430257320404, 0.2530430257320404, 0.5060860514640808, 0.3565136790275574, 0.4456421136856079, 0.2673852741718292, 0.6087749004364014, 0.3043874502182007, 0.6087749004364014, 0.3043874502182007, 0.9509546756744385, 0.9134093523025513, 0.45909440517425537, 0.38257867097854614, 0.22954720258712769, 0.42367878556251526, 0.42367878556251526, 0.9499687552452087, 0.7649444937705994, 0.9499687552452087, 0.9134093523025513, 0.43607744574546814, 0.3591226041316986, 0.20521290600299835, 0.9509546756744385, 0.905937910079956, 0.4895768463611603, 0.4242999255657196, 0.09791536629199982, 0.6087749004364014, 0.3043874502182007, 0.9499687552452087, 0.6678592562675476, 0.22261975705623627, 0.5438888669013977, 0.9503958225250244, 0.9509546756744385, 0.9499687552452087, 0.9134093523025513, 0.9134093523025513, 0.7649444937705994, 0.9509546756744385, 0.9503958225250244, 0.7238423228263855, 0.9499687552452087, 0.6099810004234314, 0.3049905002117157, 0.1016634926199913, 0.25304293632507324, 0.25304293632507324, 0.5060858726501465, 0.2615691125392914, 0.7847073078155518, 0.9499687552452087, 0.7238423228263855, 0.9657946228981018, 0.9735694527626038, 0.561988353729248, 0.280994176864624, 0.8754932880401611, 0.14591555297374725, 0.5080910921096802, 0.4157109260559082, 0.04619010165333748, 0.3116150498390198, 0.6232300996780396, 0.10387168079614639, 0.9134093523025513, 1.0348376035690308, 0.49007049202919006, 0.24503524601459503, 0.24503524601459503, 0.8849703073501587, 0.12642432749271393, 0.26156920194625854, 0.7847076058387756, 0.7649444937705994, 0.9134093523025513, 0.9740616679191589, 0.5026327967643738, 0.43561509251594543, 0.06701770424842834, 0.6952236294746399, 0.29272574186325073, 0.918873131275177, 0.11485914140939713, 0.8040770888328552, 0.1148681491613388, 0.1148681491613388, 0.7500465512275696, 0.17858250439167023, 0.07143300771713257, 1.002034306526184, 0.21344023942947388, 0.5336006283760071, 0.3201603591442108, 0.9509546756744385, 0.445614218711853, 0.3564913868904114, 0.26736852526664734, 0.7649444937705994, 0.7649444937705994, 1.002594232559204, 0.45197615027427673, 0.45197615027427673, 0.0903952345252037, 0.2530430257320404, 0.2530430257320404, 0.5060860514640808, 0.7649444937705994, 0.7238423228263855, 0.2375820279121399, 0.7127460837364197, 0.2885095477104187, 0.5048916935920715, 0.21638216078281403, 0.7649444937705994, 0.26590242981910706, 0.3988536596298218, 0.3988536596298218, 0.9499687552452087, 0.9509546756744385, 0.5288220643997192, 0.5288220643997192, 0.9509546756744385, 0.42367878556251526, 0.42367878556251526, 0.14322151243686676, 0.8593290448188782, 0.3587227761745453, 0.5181550979614258, 0.11957425624132156, 0.9509546756744385, 0.6776785850524902, 0.3080357015132904, 0.7246825695037842, 0.19764070212841034, 0.06588023155927658, 0.7335588932037354, 0.24451963603496552, 0.5161491632461548, 0.229399636387825, 0.229399636387825, 0.7649444937705994, 0.9134093523025513, 0.9134093523025513, 0.9509546756744385, 0.7238423228263855, 0.49007049202919006, 0.24503524601459503, 0.24503524601459503, 0.9134093523025513, 0.7649444937705994, 0.6160830855369568, 0.36964985728263855, 0.5340641140937805, 0.3884102702140808, 0.0971025675535202, 0.23498328030109406, 0.7049498558044434, 0.058745820075273514, 0.9134093523025513, 0.7649444937705994, 0.42367878556251526, 0.42367878556251526, 0.7649444937705994, 0.26156920194625854, 0.7847076058387756, 0.9134093523025513, 0.7977614998817444, 0.1994403749704361, 0.6927791833877563, 0.277111679315567, 0.04618528112769127, 0.5438870787620544, 1.0348376035690308, 0.7649444937705994, 0.5317578911781311, 0.13293947279453278, 0.3988184332847595, 0.6658918261528015, 0.24970942735671997, 0.5438870787620544, 0.9499687552452087, 0.12910746037960052, 0.7746447324752808, 0.12910746037960052, 0.44553595781326294, 0.44553595781326294, 0.08910719305276871, 1.002034306526184, 0.5049201250076294, 0.2524600625038147, 0.2524600625038147, 0.9134093523025513, 0.6839895248413086, 0.3156874477863312, 0.9499687552452087, 0.9499687552452087, 0.29120907187461853, 0.4368135929107666, 0.29120907187461853, 0.42367878556251526, 0.42367878556251526, 0.30290186405181885, 0.5625320672988892, 0.12981508672237396, 0.599277913570404, 0.19975928962230682, 0.19975928962230682, 0.9499687552452087, 0.37959718704223633, 0.37959718704223633, 0.4900703728199005, 0.24503518640995026, 0.24503518640995026, 0.9503958225250244, 0.9134093523025513, 0.9499687552452087, 0.7186014652252197, 0.2613096237182617, 0.9735694527626038, 0.9509546756744385, 1.0348376035690308, 0.7649444937705994, 0.2422928810119629, 0.4845857620239258, 0.2422928810119629, 1.0113073587417603, 0.9499687552452087, 0.9499687552452087, 0.9499687552452087, 0.7649444937705994, 0.9509546756744385, 0.7649444937705994, 0.3446671664714813, 0.6893343329429626, 0.6318580508232117, 0.31592902541160583, 0.9905048608779907, 0.9134093523025513, 0.9134093523025513, 0.9499687552452087, 0.9499687552452087, 0.7649444937705994, 0.6318588256835938, 0.3159294128417969, 0.6678592562675476, 0.22261975705623627, 0.7649444937705994, 0.7649444937705994, 0.9134093523025513, 0.7649444937705994, 0.9499687552452087, 0.9134093523025513, 0.9499687552452087, 0.9134093523025513, 0.3303353786468506, 0.6606707572937012, 0.9499687552452087, 0.7649444937705994, 0.6087750196456909, 0.30438750982284546, 0.9499687552452087, 1.0348376035690308, 0.9134093523025513, 0.7649444937705994, 0.9578461647033691, 0.9503958225250244, 1.0348376035690308, 0.5479366779327393, 0.45124197006225586, 0.7649444937705994, 0.8849703073501587, 0.12642432749271393, 0.9499687552452087, 0.9134093523025513, 0.9134093523025513, 0.7415777444839478, 0.21187935769557953, 0.05296983942389488, 0.7649444937705994, 0.37856483459472656, 0.425885409116745, 0.18928241729736328, 0.30754655599594116, 0.6150931119918823, 0.11532995849847794, 0.3669719696044922, 0.3669719696044922, 0.27522897720336914, 0.7649444937705994, 0.9499687552452087, 0.5125696063041687, 0.3844272196292877, 0.12814240157604218, 0.9134093523025513, 0.7238423228263855, 0.9503958225250244, 0.7649444937705994, 0.7649444937705994, 0.4207347631454468, 0.4207347631454468, 0.14024491608142853, 0.7649444937705994, 0.9503958225250244, 0.7649444937705994, 0.6678592562675476, 0.22261975705623627, 0.9134093523025513, 0.7649444937705994, 0.9499687552452087, 0.9134093523025513, 0.6585804224014282, 0.08232255280017853, 0.24696765840053558, 0.6687555909156799, 0.2972247004508972, 0.6160963177680969, 0.36965781450271606, 0.9499687552452087, 0.9499687552452087, 0.42728686332702637, 0.3052048981189728, 0.3052048981189728, 0.2264886498451233, 0.7927103042602539, 0.7594150304794312, 0.9134093523025513], \"Term\": [\"abril\", \"abril\", \"abril\", \"acciones\", \"acciones\", \"acordo\", \"acordo\", \"activo\", \"activo\", \"acuicultura\", \"acuicultura\", \"acuicultura\", \"adm\", \"adm\", \"adquirio\", \"adquisicion\", \"afectando\", \"alimentos\", \"alimentos\", \"alimentos\", \"america\", \"america\", \"ampliacion\", \"aplicacion\", \"aplicaron\", \"aplicaron\", \"arrendada\", \"arrendadores\", \"arrendamiento\", \"arrendamiento\", \"arrendamientos\", \"arrendamientos\", \"arrendatario\", \"arrendatario\", \"arrendatarios\", \"asistencia\", \"asociada\", \"balanceados\", \"balanceados\", \"bank\", \"bank\", \"bellota\", \"bienes\", \"bimar\", \"bimbo\", \"bimbo\", \"bolivia\", \"bolivia\", \"bolivia\", \"bolivianos\", \"bonos\", \"bonos\", \"bonos\", \"call\", \"call\", \"call\", \"camaron\", \"cambio\", \"cambio\", \"cambio\", \"capital\", \"capital\", \"cernical\", \"cernical\", \"cernical\", \"clasificacion\", \"clientes\", \"cobertura\", \"coberturas\", \"cobrar\", \"cobrar\", \"cobrar\", \"compra\", \"compra\", \"compra\", \"computo\", \"computo\", \"consideradas\", \"consorcio\", \"consorcio\", \"consorcio\", \"construccion\", \"construcciones\", \"construcciones\", \"consumo\", \"consumo\", \"contabilicen\", \"contabilidad\", \"contabilidad\", \"contabilizacion\", \"contable\", \"contables\", \"contables\", \"contables\", \"continuaran\", \"contrario\", \"contratacion\", \"contrato\", \"contrato\", \"contrato\", \"contratos\", \"contratos\", \"contratos\", \"conversion\", \"corporativos\", \"corporativos\", \"corporativos\", \"corregir\", \"correspondiente\", \"corrienteno\", \"corrienteno\", \"corrientes\", \"corto\", \"corto\", \"costo\", \"costo\", \"costos\", \"creditos\", \"cross\", \"cubierta\", \"cubrian\", \"cubrir\", \"cubrir\", \"cubrir\", \"cuotas\", \"cupones\", \"cupones\", \"cupones\", \"declaro\", \"definicion\", \"derecho\", \"derecho\", \"derivado\", \"derivados\", \"derivados\", \"descuentos\", \"desembolso\", \"designado\", \"deterioro\", \"deterioro\", \"determinado\", \"determinar\", \"deuda\", \"deuda\", \"deuda\", \"diferencias\", \"directa\", \"disponibles\", \"distribuidor\", \"distribuidor\", \"distribuidor\", \"distribuidos\", \"distribuidos\", \"distribuidos\", \"distribuyo\", \"distribuyo\", \"diversos\", \"diversos\", \"dolar\", \"economica\", \"ecuador\", \"ecuador\", \"ecuador\", \"edificios\", \"edificios\", \"efectivas\", \"efectuadas\", \"eficaces\", \"emergencia\", \"emision\", \"emision\", \"emision\", \"emitio\", \"empresa\", \"enero\", \"enero\", \"enero\", \"enseres\", \"enseres\", \"entro\", \"equivalente\", \"equivalente\", \"espera\", \"establece\", \"estadounidense\", \"estima\", \"eventos\", \"excepciones\", \"exposicion\", \"extrusion\", \"f\", \"fabrica\", \"fases\", \"financiera\", \"financiera\", \"financiera\", \"firmo\", \"firmo\", \"firmo\", \"fiscales\", \"fiscales\", \"flujo\", \"fondo\", \"forma\", \"fusion\", \"garantia\", \"garantia\", \"gasto\", \"gasto\", \"gastos\", \"gastos\", \"gastos\", \"group\", \"group\", \"group\", \"hayan\", \"iasa\", \"ii\", \"ii\", \"ii\", \"impacto\", \"impacto\", \"inbalnor\", \"inbalnor\", \"incremento\", \"indice\", \"industrial\", \"informacion\", \"informacion\", \"informacion\", \"ingresos\", \"ingresos\", \"inicial\", \"inicial\", \"instrumento\", \"instrumento\", \"instrumento\", \"instrumentos\", \"instrumentos\", \"instrumentos\", \"integrales\", \"intereses\", \"intereses\", \"intereses\", \"internacional\", \"internacionales\", \"internacionales\", \"internacionales\", \"interpuestos\", \"intl\", \"intradevco\", \"inversiones\", \"inversiones\", \"inversiones\", \"iquitos\", \"iquitos\", \"iquitos\", \"j\", \"jp\", \"junta\", \"junta\", \"l\", \"l\", \"l\", \"leyes\", \"limite\", \"limite\", \"limite\", \"lineal\", \"lineas\", \"liquidacion\", \"liquidacion\", \"llc\", \"maquinaria\", \"maquinaria\", \"mar\", \"mar\", \"marzo\", \"marzo\", \"marzo\", \"masivo\", \"materia\", \"materia\", \"medicion\", \"medicion\", \"medicion\", \"menores\", \"menores\", \"millones\", \"millones\", \"millones\", \"minimos\", \"modelo\", \"modifica\", \"molienda\", \"morgan\", \"muebles\", \"muebles\", \"muebles\", \"naturpan\", \"newedge\", \"norma\", \"norma\", \"normas\", \"normas\", \"normas\", \"o\", \"o\", \"o\", \"obligados\", \"obra\", \"obras\", \"obras\", \"obtenidos\", \"octubre\", \"octubre\", \"ocurrir\", \"of\", \"of\", \"opciones\", \"opciones\", \"opciones\", \"operacion\", \"operativo\", \"organo\", \"pagados\", \"pagados\", \"pagados\", \"pagos\", \"pagos\", \"papeles\", \"partida\", \"pasivo\", \"pasivo\", \"pasivo\", \"pasivos\", \"pasivos\", \"pasivos\", \"patrimonio\", \"perdida\", \"perdida\", \"perdida\", \"periodica\", \"periodo\", \"periodo\", \"periodos\", \"permite\", \"planta\", \"planta\", \"planta\", \"plantas\", \"plantas\", \"plazo\", \"plazo\", \"plazo\", \"plazos\", \"plazos\", \"plazos\", \"posteriores\", \"posteriormente\", \"posteriormente\", \"precio\", \"precio\", \"precio\", \"presenta\", \"presentacion\", \"previas\", \"prima\", \"prima\", \"proceso\", \"procesos\", \"produccion\", \"programas\", \"propiedad\", \"propiedad\", \"propiedad\", \"prospectiva\", \"provisiones\", \"proyecto\", \"publico\", \"quedaron\", \"realizada\", \"realizan\", \"realizo\", \"realizo\", \"recibio\", \"recibio\", \"reconoce\", \"reconocer\", \"reconocera\", \"reconocieron\", \"recopila\", \"recta\", \"regalias\", \"regalias\", \"registro\", \"registro\", \"regla\", \"regulacion\", \"remanente\", \"representan\", \"requerimientos\", \"requiere\", \"resultantes\", \"resulten\", \"retenciones\", \"retenciones\", \"retroactiva\", \"riesgos\", \"rubro\", \"rubro\", \"saldos\", \"semestralmente\", \"senior\", \"separada\", \"separados\", \"septiembre\", \"seran\", \"serie\", \"serie\", \"sexta\", \"significativo\", \"significativo\", \"siguen\", \"similar\", \"social\", \"soles\", \"soles\", \"soles\", \"solicitar\", \"spread\", \"spread\", \"spread\", \"subsidiaria\", \"subsidiaria\", \"subsidiaria\", \"subsidiarias\", \"subsidiarias\", \"subsidiarias\", \"subyacentes\", \"sustituye\", \"swap\", \"swap\", \"swap\", \"tecnologia\", \"tejidos\", \"terminacion\", \"terminado\", \"terrenos\", \"tipo\", \"tipo\", \"tipo\", \"totalredimidos\", \"trading\", \"transferido\", \"unwind\", \"unwind\", \"utilizada\", \"utilizan\", \"utilizo\", \"valorizar\", \"variaciones\", \"variaciones\", \"variaciones\", \"venta\", \"venta\", \"ventas\", \"ventas\", \"version\", \"versiones\", \"vigentes\", \"vigentes\", \"vigentes\", \"vitapro\", \"vitapro\", \"volumen\", \"volver\"]}, \"R\": 30, \"lambda.step\": 0.01, \"plot.opts\": {\"xlab\": \"PC1\", \"ylab\": \"PC2\"}, \"topic.order\": [2, 1, 4, 3, 6, 5]};\n",
       "\n",
       "function LDAvis_load_lib(url, callback){\n",
       "  var s = document.createElement('script');\n",
       "  s.src = url;\n",
       "  s.async = true;\n",
       "  s.onreadystatechange = s.onload = callback;\n",
       "  s.onerror = function(){console.warn(\"failed to load library \" + url);};\n",
       "  document.getElementsByTagName(\"head\")[0].appendChild(s);\n",
       "}\n",
       "\n",
       "if(typeof(LDAvis) !== \"undefined\"){\n",
       "   // already loaded: just create the visualization\n",
       "   !function(LDAvis){\n",
       "       new LDAvis(\"#\" + \"ldavis_el1389632495911547605015331849\", ldavis_el1389632495911547605015331849_data);\n",
       "   }(LDAvis);\n",
       "}else if(typeof define === \"function\" && define.amd){\n",
       "   // require.js is available: use it to load d3/LDAvis\n",
       "   require.config({paths: {d3: \"https://cdnjs.cloudflare.com/ajax/libs/d3/3.5.5/d3.min\"}});\n",
       "   require([\"d3\"], function(d3){\n",
       "      window.d3 = d3;\n",
       "      LDAvis_load_lib(\"https://cdn.rawgit.com/bmabey/pyLDAvis/files/ldavis.v1.0.0.js\", function(){\n",
       "        new LDAvis(\"#\" + \"ldavis_el1389632495911547605015331849\", ldavis_el1389632495911547605015331849_data);\n",
       "      });\n",
       "    });\n",
       "}else{\n",
       "    // require.js not available: dynamically load d3 & LDAvis\n",
       "    LDAvis_load_lib(\"https://cdnjs.cloudflare.com/ajax/libs/d3/3.5.5/d3.min.js\", function(){\n",
       "         LDAvis_load_lib(\"https://cdn.rawgit.com/bmabey/pyLDAvis/files/ldavis.v1.0.0.js\", function(){\n",
       "                 new LDAvis(\"#\" + \"ldavis_el1389632495911547605015331849\", ldavis_el1389632495911547605015331849_data);\n",
       "            })\n",
       "         });\n",
       "}\n",
       "</script>"
      ],
      "text/plain": [
       "PreparedData(topic_coordinates=              x         y  topics  cluster       Freq\n",
       "topic                                                \n",
       "1     -0.174553 -0.056331       1        1  42.416569\n",
       "0     -0.052591 -0.000446       2        1  42.098217\n",
       "3     -0.001401  0.144304       3        1  13.153480\n",
       "2      0.146708 -0.057401       4        1   2.258614\n",
       "5      0.040919 -0.015063       5        1   0.036563\n",
       "4      0.040919 -0.015063       6        1   0.036563, topic_info=    Category       Freq            Term      Total  loglift  logprob\n",
       "447  Default  33.000000   arrendamiento  33.000000  30.0000  30.0000\n",
       "373  Default  11.000000        acciones  11.000000  29.0000  29.0000\n",
       "38   Default  19.000000      coberturas  19.000000  28.0000  28.0000\n",
       "37   Default  19.000000       cobertura  19.000000  27.0000  27.0000\n",
       "377  Default  22.000000  arrendamientos  22.000000  26.0000  26.0000\n",
       "..       ...        ...             ...        ...      ...      ...\n",
       "185   Topic6   0.001799          precio   4.081047   0.1871  -6.7238\n",
       "138   Topic6   0.001799             mar   6.982192  -0.3499  -6.7238\n",
       "137   Topic6   0.001799      maquinaria   2.360279   0.7347  -6.7238\n",
       "224   Topic6   0.001799   significativo   7.909870  -0.4747  -6.7238\n",
       "41    Topic6   0.001799         computo   3.285286   0.4040  -6.7238\n",
       "\n",
       "[476 rows x 6 columns], token_table=      Topic      Freq      Term\n",
       "term                           \n",
       "253       1  0.275355     abril\n",
       "253       2  0.137678     abril\n",
       "253       3  0.550710     abril\n",
       "373       2  0.841259  acciones\n",
       "373       4  0.084126  acciones\n",
       "...     ...       ...       ...\n",
       "252       3  0.305205  vigentes\n",
       "371       1  0.226489   vitapro\n",
       "371       2  0.792710   vitapro\n",
       "441       4  0.759415   volumen\n",
       "532       2  0.913409    volver\n",
       "\n",
       "[477 rows x 3 columns], R=30, lambda_step=0.01, plot_opts={'xlab': 'PC1', 'ylab': 'PC2'}, topic_order=[2, 1, 4, 3, 6, 5])"
      ]
     },
     "execution_count": 73,
     "metadata": {},
     "output_type": "execute_result"
    }
   ],
   "source": [
    "import pyLDAvis as ldavis\n",
    "import pyLDAvis.gensim\n",
    "\n",
    "ldavis.enable_notebook()\n",
    "prepared_data = ldavis.gensim.prepare(ldamodel3, doc_term_matrix, dictionary)\n",
    "\n",
    "prepared_data"
   ]
  },
  {
   "cell_type": "code",
   "execution_count": 83,
   "metadata": {},
   "outputs": [
    {
     "ename": "TypeError",
     "evalue": "'>' not supported between instances of 'operator.itemgetter' and 'list'",
     "output_type": "error",
     "traceback": [
      "\u001b[1;31m---------------------------------------------------------------------------\u001b[0m",
      "\u001b[1;31mTypeError\u001b[0m                                 Traceback (most recent call last)",
      "\u001b[1;32m<ipython-input-83-c959dcd7e3f8>\u001b[0m in \u001b[0;36m<module>\u001b[1;34m\u001b[0m\n\u001b[0;32m      4\u001b[0m \u001b[1;32mfrom\u001b[0m \u001b[0moperator\u001b[0m \u001b[1;32mimport\u001b[0m \u001b[0mitemgetter\u001b[0m\u001b[1;33m\u001b[0m\u001b[1;33m\u001b[0m\u001b[0m\n\u001b[0;32m      5\u001b[0m \u001b[1;33m\u001b[0m\u001b[0m\n\u001b[1;32m----> 6\u001b[1;33m \u001b[0mres\u001b[0m \u001b[1;33m=\u001b[0m \u001b[0mmax\u001b[0m\u001b[1;33m(\u001b[0m\u001b[0mq\u001b[0m\u001b[1;33m,\u001b[0m \u001b[0mitemgetter\u001b[0m\u001b[1;33m(\u001b[0m\u001b[1;36m1\u001b[0m\u001b[1;33m)\u001b[0m\u001b[1;33m)\u001b[0m\u001b[1;33m\u001b[0m\u001b[1;33m\u001b[0m\u001b[0m\n\u001b[0m\u001b[0;32m      7\u001b[0m \u001b[0mprint\u001b[0m\u001b[1;33m(\u001b[0m\u001b[0mres\u001b[0m\u001b[1;33m)\u001b[0m\u001b[1;33m\u001b[0m\u001b[1;33m\u001b[0m\u001b[0m\n",
      "\u001b[1;31mTypeError\u001b[0m: '>' not supported between instances of 'operator.itemgetter' and 'list'"
     ]
    }
   ],
   "source": []
  },
  {
   "cell_type": "markdown",
   "metadata": {},
   "source": [
    "### Fuentes a considerar:\n",
    "\n",
    "https://www.machinelearningplus.com/nlp/topic-modeling-gensim-python/\n",
    "\n",
    "https://github.com/mattilyra/pydataberlin-2017/blob/master/notebook/EvaluatingUnsupervisedModels.ipynb\n",
    "\n",
    "https://www.youtube.com/watch?v=T05t-SqKArY\n",
    "\n",
    "https://www.youtube.com/watch?v=ZkAFJwi-G98\n",
    "\n",
    "https://radimrehurek.com/gensim/models/ldamodel.html\n",
    "\n",
    "https://towardsdatascience.com/end-to-end-topic-modeling-in-python-latent-dirichlet-allocation-lda-35ce4ed6b3e0\n",
    "\n",
    "https://towardsdatascience.com/perplexity-intuition-and-derivation-105dd481c8f3\n",
    "\n",
    "https://towardsdatascience.com/evaluate-topic-model-in-python-latent-dirichlet-allocation-lda-7d57484bb5d0\n",
    "\n",
    "https://www.aclweb.org/anthology/D12-1087/\n",
    "\n",
    "https://www.analyticsvidhya.com/blog/2016/08/beginners-guide-to-topic-modeling-in-python/\n",
    "\n",
    "To-Supervised:\n",
    "\n",
    "https://towardsdatascience.com/unsupervised-nlp-topic-models-as-a-supervised-learning-input-cf8ee9e5cf28"
   ]
  },
  {
   "cell_type": "code",
   "execution_count": null,
   "metadata": {},
   "outputs": [],
   "source": []
  }
 ],
 "metadata": {
  "kernelspec": {
   "display_name": "Python 3",
   "language": "python",
   "name": "python3"
  },
  "language_info": {
   "codemirror_mode": {
    "name": "ipython",
    "version": 3
   },
   "file_extension": ".py",
   "mimetype": "text/x-python",
   "name": "python",
   "nbconvert_exporter": "python",
   "pygments_lexer": "ipython3",
   "version": "3.7.5"
  }
 },
 "nbformat": 4,
 "nbformat_minor": 4
}
